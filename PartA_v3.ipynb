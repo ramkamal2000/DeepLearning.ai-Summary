{
  "nbformat": 4,
  "nbformat_minor": 0,
  "metadata": {
    "kernelspec": {
      "name": "python3",
      "display_name": "Python 3"
    },
    "colab": {
      "name": "PartA_v2_15.1.ipynb",
      "provenance": [],
      "collapsed_sections": [],
      "include_colab_link": true
    },
    "language_info": {
      "name": "python"
    },
    "widgets": {
      "application/vnd.jupyter.widget-state+json": {
        "22ab6567bea440708223504719b63187": {
          "model_module": "@jupyter-widgets/controls",
          "model_name": "VBoxModel",
          "state": {
            "_view_name": "VBoxView",
            "_dom_classes": [],
            "_model_name": "VBoxModel",
            "_view_module": "@jupyter-widgets/controls",
            "_model_module_version": "1.5.0",
            "_view_count": null,
            "_view_module_version": "1.5.0",
            "box_style": "",
            "layout": "IPY_MODEL_3d9dde5e297f4d0a9da46a71daa73850",
            "_model_module": "@jupyter-widgets/controls",
            "children": [
              "IPY_MODEL_d5395c29a89b4a95b2b016749e1d88bf",
              "IPY_MODEL_163035aaf4ef400e93c016e4fb133fab"
            ]
          }
        },
        "3d9dde5e297f4d0a9da46a71daa73850": {
          "model_module": "@jupyter-widgets/base",
          "model_name": "LayoutModel",
          "state": {
            "_view_name": "LayoutView",
            "grid_template_rows": null,
            "right": null,
            "justify_content": null,
            "_view_module": "@jupyter-widgets/base",
            "overflow": null,
            "_model_module_version": "1.2.0",
            "_view_count": null,
            "flex_flow": null,
            "width": null,
            "min_width": null,
            "border": null,
            "align_items": null,
            "bottom": null,
            "_model_module": "@jupyter-widgets/base",
            "top": null,
            "grid_column": null,
            "overflow_y": null,
            "overflow_x": null,
            "grid_auto_flow": null,
            "grid_area": null,
            "grid_template_columns": null,
            "flex": null,
            "_model_name": "LayoutModel",
            "justify_items": null,
            "grid_row": null,
            "max_height": null,
            "align_content": null,
            "visibility": null,
            "align_self": null,
            "height": null,
            "min_height": null,
            "padding": null,
            "grid_auto_rows": null,
            "grid_gap": null,
            "max_width": null,
            "order": null,
            "_view_module_version": "1.2.0",
            "grid_template_areas": null,
            "object_position": null,
            "object_fit": null,
            "grid_auto_columns": null,
            "margin": null,
            "display": null,
            "left": null
          }
        },
        "d5395c29a89b4a95b2b016749e1d88bf": {
          "model_module": "@jupyter-widgets/controls",
          "model_name": "LabelModel",
          "state": {
            "_view_name": "LabelView",
            "style": "IPY_MODEL_c036150b5b4b435ba1c23dd743e50b8d",
            "_dom_classes": [],
            "description": "",
            "_model_name": "LabelModel",
            "placeholder": "​",
            "_view_module": "@jupyter-widgets/controls",
            "_model_module_version": "1.5.0",
            "value": " 0.01MB of 0.01MB uploaded (0.00MB deduped)\r",
            "_view_count": null,
            "_view_module_version": "1.5.0",
            "description_tooltip": null,
            "_model_module": "@jupyter-widgets/controls",
            "layout": "IPY_MODEL_5768c8a0384943d7b44da6a82fbf7d2a"
          }
        },
        "163035aaf4ef400e93c016e4fb133fab": {
          "model_module": "@jupyter-widgets/controls",
          "model_name": "FloatProgressModel",
          "state": {
            "_view_name": "ProgressView",
            "style": "IPY_MODEL_9ab2d537c1104061a0f02ca2198a1e04",
            "_dom_classes": [],
            "description": "",
            "_model_name": "FloatProgressModel",
            "bar_style": "",
            "max": 1,
            "_view_module": "@jupyter-widgets/controls",
            "_model_module_version": "1.5.0",
            "value": 1,
            "_view_count": null,
            "_view_module_version": "1.5.0",
            "orientation": "horizontal",
            "min": 0,
            "description_tooltip": null,
            "_model_module": "@jupyter-widgets/controls",
            "layout": "IPY_MODEL_682966160f484734b6c6b8e00df13edf"
          }
        },
        "c036150b5b4b435ba1c23dd743e50b8d": {
          "model_module": "@jupyter-widgets/controls",
          "model_name": "DescriptionStyleModel",
          "state": {
            "_view_name": "StyleView",
            "_model_name": "DescriptionStyleModel",
            "description_width": "",
            "_view_module": "@jupyter-widgets/base",
            "_model_module_version": "1.5.0",
            "_view_count": null,
            "_view_module_version": "1.2.0",
            "_model_module": "@jupyter-widgets/controls"
          }
        },
        "5768c8a0384943d7b44da6a82fbf7d2a": {
          "model_module": "@jupyter-widgets/base",
          "model_name": "LayoutModel",
          "state": {
            "_view_name": "LayoutView",
            "grid_template_rows": null,
            "right": null,
            "justify_content": null,
            "_view_module": "@jupyter-widgets/base",
            "overflow": null,
            "_model_module_version": "1.2.0",
            "_view_count": null,
            "flex_flow": null,
            "width": null,
            "min_width": null,
            "border": null,
            "align_items": null,
            "bottom": null,
            "_model_module": "@jupyter-widgets/base",
            "top": null,
            "grid_column": null,
            "overflow_y": null,
            "overflow_x": null,
            "grid_auto_flow": null,
            "grid_area": null,
            "grid_template_columns": null,
            "flex": null,
            "_model_name": "LayoutModel",
            "justify_items": null,
            "grid_row": null,
            "max_height": null,
            "align_content": null,
            "visibility": null,
            "align_self": null,
            "height": null,
            "min_height": null,
            "padding": null,
            "grid_auto_rows": null,
            "grid_gap": null,
            "max_width": null,
            "order": null,
            "_view_module_version": "1.2.0",
            "grid_template_areas": null,
            "object_position": null,
            "object_fit": null,
            "grid_auto_columns": null,
            "margin": null,
            "display": null,
            "left": null
          }
        },
        "9ab2d537c1104061a0f02ca2198a1e04": {
          "model_module": "@jupyter-widgets/controls",
          "model_name": "ProgressStyleModel",
          "state": {
            "_view_name": "StyleView",
            "_model_name": "ProgressStyleModel",
            "description_width": "",
            "_view_module": "@jupyter-widgets/base",
            "_model_module_version": "1.5.0",
            "_view_count": null,
            "_view_module_version": "1.2.0",
            "bar_color": null,
            "_model_module": "@jupyter-widgets/controls"
          }
        },
        "682966160f484734b6c6b8e00df13edf": {
          "model_module": "@jupyter-widgets/base",
          "model_name": "LayoutModel",
          "state": {
            "_view_name": "LayoutView",
            "grid_template_rows": null,
            "right": null,
            "justify_content": null,
            "_view_module": "@jupyter-widgets/base",
            "overflow": null,
            "_model_module_version": "1.2.0",
            "_view_count": null,
            "flex_flow": null,
            "width": null,
            "min_width": null,
            "border": null,
            "align_items": null,
            "bottom": null,
            "_model_module": "@jupyter-widgets/base",
            "top": null,
            "grid_column": null,
            "overflow_y": null,
            "overflow_x": null,
            "grid_auto_flow": null,
            "grid_area": null,
            "grid_template_columns": null,
            "flex": null,
            "_model_name": "LayoutModel",
            "justify_items": null,
            "grid_row": null,
            "max_height": null,
            "align_content": null,
            "visibility": null,
            "align_self": null,
            "height": null,
            "min_height": null,
            "padding": null,
            "grid_auto_rows": null,
            "grid_gap": null,
            "max_width": null,
            "order": null,
            "_view_module_version": "1.2.0",
            "grid_template_areas": null,
            "object_position": null,
            "object_fit": null,
            "grid_auto_columns": null,
            "margin": null,
            "display": null,
            "left": null
          }
        },
        "35222cf0c8934427bbf795bfc7860517": {
          "model_module": "@jupyter-widgets/controls",
          "model_name": "VBoxModel",
          "state": {
            "_view_name": "VBoxView",
            "_dom_classes": [],
            "_model_name": "VBoxModel",
            "_view_module": "@jupyter-widgets/controls",
            "_model_module_version": "1.5.0",
            "_view_count": null,
            "_view_module_version": "1.5.0",
            "box_style": "",
            "layout": "IPY_MODEL_dbbe41211bd648bbaf4505e6d37a8a78",
            "_model_module": "@jupyter-widgets/controls",
            "children": [
              "IPY_MODEL_5b661cb0345f430083a82bc62beb3ef0",
              "IPY_MODEL_16dfc44619d44d12905843dae6fa0f7c"
            ]
          }
        },
        "dbbe41211bd648bbaf4505e6d37a8a78": {
          "model_module": "@jupyter-widgets/base",
          "model_name": "LayoutModel",
          "state": {
            "_view_name": "LayoutView",
            "grid_template_rows": null,
            "right": null,
            "justify_content": null,
            "_view_module": "@jupyter-widgets/base",
            "overflow": null,
            "_model_module_version": "1.2.0",
            "_view_count": null,
            "flex_flow": null,
            "width": null,
            "min_width": null,
            "border": null,
            "align_items": null,
            "bottom": null,
            "_model_module": "@jupyter-widgets/base",
            "top": null,
            "grid_column": null,
            "overflow_y": null,
            "overflow_x": null,
            "grid_auto_flow": null,
            "grid_area": null,
            "grid_template_columns": null,
            "flex": null,
            "_model_name": "LayoutModel",
            "justify_items": null,
            "grid_row": null,
            "max_height": null,
            "align_content": null,
            "visibility": null,
            "align_self": null,
            "height": null,
            "min_height": null,
            "padding": null,
            "grid_auto_rows": null,
            "grid_gap": null,
            "max_width": null,
            "order": null,
            "_view_module_version": "1.2.0",
            "grid_template_areas": null,
            "object_position": null,
            "object_fit": null,
            "grid_auto_columns": null,
            "margin": null,
            "display": null,
            "left": null
          }
        },
        "5b661cb0345f430083a82bc62beb3ef0": {
          "model_module": "@jupyter-widgets/controls",
          "model_name": "LabelModel",
          "state": {
            "_view_name": "LabelView",
            "style": "IPY_MODEL_dfdd791e5734430a9ed4dd1ae56a1142",
            "_dom_classes": [],
            "description": "",
            "_model_name": "LabelModel",
            "placeholder": "​",
            "_view_module": "@jupyter-widgets/controls",
            "_model_module_version": "1.5.0",
            "value": " 0.01MB of 0.01MB uploaded (0.00MB deduped)\r",
            "_view_count": null,
            "_view_module_version": "1.5.0",
            "description_tooltip": null,
            "_model_module": "@jupyter-widgets/controls",
            "layout": "IPY_MODEL_2c793830ba1f45c587ed9d5e5d539991"
          }
        },
        "16dfc44619d44d12905843dae6fa0f7c": {
          "model_module": "@jupyter-widgets/controls",
          "model_name": "FloatProgressModel",
          "state": {
            "_view_name": "ProgressView",
            "style": "IPY_MODEL_f010f508885d45a5b101745bd8438f7c",
            "_dom_classes": [],
            "description": "",
            "_model_name": "FloatProgressModel",
            "bar_style": "",
            "max": 1,
            "_view_module": "@jupyter-widgets/controls",
            "_model_module_version": "1.5.0",
            "value": 1,
            "_view_count": null,
            "_view_module_version": "1.5.0",
            "orientation": "horizontal",
            "min": 0,
            "description_tooltip": null,
            "_model_module": "@jupyter-widgets/controls",
            "layout": "IPY_MODEL_b05c71cea3194537a98c194e7df8ceec"
          }
        },
        "dfdd791e5734430a9ed4dd1ae56a1142": {
          "model_module": "@jupyter-widgets/controls",
          "model_name": "DescriptionStyleModel",
          "state": {
            "_view_name": "StyleView",
            "_model_name": "DescriptionStyleModel",
            "description_width": "",
            "_view_module": "@jupyter-widgets/base",
            "_model_module_version": "1.5.0",
            "_view_count": null,
            "_view_module_version": "1.2.0",
            "_model_module": "@jupyter-widgets/controls"
          }
        },
        "2c793830ba1f45c587ed9d5e5d539991": {
          "model_module": "@jupyter-widgets/base",
          "model_name": "LayoutModel",
          "state": {
            "_view_name": "LayoutView",
            "grid_template_rows": null,
            "right": null,
            "justify_content": null,
            "_view_module": "@jupyter-widgets/base",
            "overflow": null,
            "_model_module_version": "1.2.0",
            "_view_count": null,
            "flex_flow": null,
            "width": null,
            "min_width": null,
            "border": null,
            "align_items": null,
            "bottom": null,
            "_model_module": "@jupyter-widgets/base",
            "top": null,
            "grid_column": null,
            "overflow_y": null,
            "overflow_x": null,
            "grid_auto_flow": null,
            "grid_area": null,
            "grid_template_columns": null,
            "flex": null,
            "_model_name": "LayoutModel",
            "justify_items": null,
            "grid_row": null,
            "max_height": null,
            "align_content": null,
            "visibility": null,
            "align_self": null,
            "height": null,
            "min_height": null,
            "padding": null,
            "grid_auto_rows": null,
            "grid_gap": null,
            "max_width": null,
            "order": null,
            "_view_module_version": "1.2.0",
            "grid_template_areas": null,
            "object_position": null,
            "object_fit": null,
            "grid_auto_columns": null,
            "margin": null,
            "display": null,
            "left": null
          }
        },
        "f010f508885d45a5b101745bd8438f7c": {
          "model_module": "@jupyter-widgets/controls",
          "model_name": "ProgressStyleModel",
          "state": {
            "_view_name": "StyleView",
            "_model_name": "ProgressStyleModel",
            "description_width": "",
            "_view_module": "@jupyter-widgets/base",
            "_model_module_version": "1.5.0",
            "_view_count": null,
            "_view_module_version": "1.2.0",
            "bar_color": null,
            "_model_module": "@jupyter-widgets/controls"
          }
        },
        "b05c71cea3194537a98c194e7df8ceec": {
          "model_module": "@jupyter-widgets/base",
          "model_name": "LayoutModel",
          "state": {
            "_view_name": "LayoutView",
            "grid_template_rows": null,
            "right": null,
            "justify_content": null,
            "_view_module": "@jupyter-widgets/base",
            "overflow": null,
            "_model_module_version": "1.2.0",
            "_view_count": null,
            "flex_flow": null,
            "width": null,
            "min_width": null,
            "border": null,
            "align_items": null,
            "bottom": null,
            "_model_module": "@jupyter-widgets/base",
            "top": null,
            "grid_column": null,
            "overflow_y": null,
            "overflow_x": null,
            "grid_auto_flow": null,
            "grid_area": null,
            "grid_template_columns": null,
            "flex": null,
            "_model_name": "LayoutModel",
            "justify_items": null,
            "grid_row": null,
            "max_height": null,
            "align_content": null,
            "visibility": null,
            "align_self": null,
            "height": null,
            "min_height": null,
            "padding": null,
            "grid_auto_rows": null,
            "grid_gap": null,
            "max_width": null,
            "order": null,
            "_view_module_version": "1.2.0",
            "grid_template_areas": null,
            "object_position": null,
            "object_fit": null,
            "grid_auto_columns": null,
            "margin": null,
            "display": null,
            "left": null
          }
        }
      }
    }
  },
  "cells": [
    {
      "cell_type": "markdown",
      "metadata": {
        "id": "view-in-github",
        "colab_type": "text"
      },
      "source": [
        "<a href=\"https://colab.research.google.com/github/ramkamal2000/DeepLearning.ai-Summary/blob/master/PartA_v3.ipynb\" target=\"_parent\"><img src=\"https://colab.research.google.com/assets/colab-badge.svg\" alt=\"Open In Colab\"/></a>"
      ]
    },
    {
      "cell_type": "markdown",
      "metadata": {
        "id": "empvlzrrKEn_"
      },
      "source": [
        "# Loading Required Libraries"
      ]
    },
    {
      "cell_type": "code",
      "metadata": {
        "id": "sOgmu5ugZdRe",
        "colab": {
          "base_uri": "https://localhost:8080/"
        },
        "outputId": "89cb0d70-d988-4e55-f508-9204bf4f70a3"
      },
      "source": [
        "!pip install wandb\n",
        "# !pip install tensorflow\n",
        "# !pip install keras"
      ],
      "execution_count": 2,
      "outputs": [
        {
          "output_type": "stream",
          "text": [
            "Collecting wandb\n",
            "\u001b[?25l  Downloading https://files.pythonhosted.org/packages/d5/5d/20ab24504de2669c9a76a50c9bdaeb44a440b0e5e4b92be881ed323857b1/wandb-0.10.26-py2.py3-none-any.whl (2.1MB)\n",
            "\r\u001b[K     |▏                               | 10kB 12.8MB/s eta 0:00:01\r\u001b[K     |▎                               | 20kB 16.4MB/s eta 0:00:01\r\u001b[K     |▌                               | 30kB 19.0MB/s eta 0:00:01\r\u001b[K     |▋                               | 40kB 21.1MB/s eta 0:00:01\r\u001b[K     |▉                               | 51kB 22.6MB/s eta 0:00:01\r\u001b[K     |█                               | 61kB 23.7MB/s eta 0:00:01\r\u001b[K     |█▏                              | 71kB 19.1MB/s eta 0:00:01\r\u001b[K     |█▎                              | 81kB 19.8MB/s eta 0:00:01\r\u001b[K     |█▍                              | 92kB 20.7MB/s eta 0:00:01\r\u001b[K     |█▋                              | 102kB 21.5MB/s eta 0:00:01\r\u001b[K     |█▊                              | 112kB 21.5MB/s eta 0:00:01\r\u001b[K     |██                              | 122kB 21.5MB/s eta 0:00:01\r\u001b[K     |██                              | 133kB 21.5MB/s eta 0:00:01\r\u001b[K     |██▎                             | 143kB 21.5MB/s eta 0:00:01\r\u001b[K     |██▍                             | 153kB 21.5MB/s eta 0:00:01\r\u001b[K     |██▌                             | 163kB 21.5MB/s eta 0:00:01\r\u001b[K     |██▊                             | 174kB 21.5MB/s eta 0:00:01\r\u001b[K     |██▉                             | 184kB 21.5MB/s eta 0:00:01\r\u001b[K     |███                             | 194kB 21.5MB/s eta 0:00:01\r\u001b[K     |███▏                            | 204kB 21.5MB/s eta 0:00:01\r\u001b[K     |███▍                            | 215kB 21.5MB/s eta 0:00:01\r\u001b[K     |███▌                            | 225kB 21.5MB/s eta 0:00:01\r\u001b[K     |███▋                            | 235kB 21.5MB/s eta 0:00:01\r\u001b[K     |███▉                            | 245kB 21.5MB/s eta 0:00:01\r\u001b[K     |████                            | 256kB 21.5MB/s eta 0:00:01\r\u001b[K     |████▏                           | 266kB 21.5MB/s eta 0:00:01\r\u001b[K     |████▎                           | 276kB 21.5MB/s eta 0:00:01\r\u001b[K     |████▌                           | 286kB 21.5MB/s eta 0:00:01\r\u001b[K     |████▋                           | 296kB 21.5MB/s eta 0:00:01\r\u001b[K     |████▉                           | 307kB 21.5MB/s eta 0:00:01\r\u001b[K     |█████                           | 317kB 21.5MB/s eta 0:00:01\r\u001b[K     |█████                           | 327kB 21.5MB/s eta 0:00:01\r\u001b[K     |█████▎                          | 337kB 21.5MB/s eta 0:00:01\r\u001b[K     |█████▍                          | 348kB 21.5MB/s eta 0:00:01\r\u001b[K     |█████▋                          | 358kB 21.5MB/s eta 0:00:01\r\u001b[K     |█████▊                          | 368kB 21.5MB/s eta 0:00:01\r\u001b[K     |██████                          | 378kB 21.5MB/s eta 0:00:01\r\u001b[K     |██████                          | 389kB 21.5MB/s eta 0:00:01\r\u001b[K     |██████▏                         | 399kB 21.5MB/s eta 0:00:01\r\u001b[K     |██████▍                         | 409kB 21.5MB/s eta 0:00:01\r\u001b[K     |██████▌                         | 419kB 21.5MB/s eta 0:00:01\r\u001b[K     |██████▊                         | 430kB 21.5MB/s eta 0:00:01\r\u001b[K     |██████▉                         | 440kB 21.5MB/s eta 0:00:01\r\u001b[K     |███████                         | 450kB 21.5MB/s eta 0:00:01\r\u001b[K     |███████▏                        | 460kB 21.5MB/s eta 0:00:01\r\u001b[K     |███████▎                        | 471kB 21.5MB/s eta 0:00:01\r\u001b[K     |███████▌                        | 481kB 21.5MB/s eta 0:00:01\r\u001b[K     |███████▋                        | 491kB 21.5MB/s eta 0:00:01\r\u001b[K     |███████▉                        | 501kB 21.5MB/s eta 0:00:01\r\u001b[K     |████████                        | 512kB 21.5MB/s eta 0:00:01\r\u001b[K     |████████▏                       | 522kB 21.5MB/s eta 0:00:01\r\u001b[K     |████████▎                       | 532kB 21.5MB/s eta 0:00:01\r\u001b[K     |████████▍                       | 542kB 21.5MB/s eta 0:00:01\r\u001b[K     |████████▋                       | 552kB 21.5MB/s eta 0:00:01\r\u001b[K     |████████▊                       | 563kB 21.5MB/s eta 0:00:01\r\u001b[K     |█████████                       | 573kB 21.5MB/s eta 0:00:01\r\u001b[K     |█████████                       | 583kB 21.5MB/s eta 0:00:01\r\u001b[K     |█████████▎                      | 593kB 21.5MB/s eta 0:00:01\r\u001b[K     |█████████▍                      | 604kB 21.5MB/s eta 0:00:01\r\u001b[K     |█████████▋                      | 614kB 21.5MB/s eta 0:00:01\r\u001b[K     |█████████▊                      | 624kB 21.5MB/s eta 0:00:01\r\u001b[K     |█████████▉                      | 634kB 21.5MB/s eta 0:00:01\r\u001b[K     |██████████                      | 645kB 21.5MB/s eta 0:00:01\r\u001b[K     |██████████▏                     | 655kB 21.5MB/s eta 0:00:01\r\u001b[K     |██████████▍                     | 665kB 21.5MB/s eta 0:00:01\r\u001b[K     |██████████▌                     | 675kB 21.5MB/s eta 0:00:01\r\u001b[K     |██████████▊                     | 686kB 21.5MB/s eta 0:00:01\r\u001b[K     |██████████▉                     | 696kB 21.5MB/s eta 0:00:01\r\u001b[K     |███████████                     | 706kB 21.5MB/s eta 0:00:01\r\u001b[K     |███████████▏                    | 716kB 21.5MB/s eta 0:00:01\r\u001b[K     |███████████▎                    | 727kB 21.5MB/s eta 0:00:01\r\u001b[K     |███████████▌                    | 737kB 21.5MB/s eta 0:00:01\r\u001b[K     |███████████▋                    | 747kB 21.5MB/s eta 0:00:01\r\u001b[K     |███████████▉                    | 757kB 21.5MB/s eta 0:00:01\r\u001b[K     |████████████                    | 768kB 21.5MB/s eta 0:00:01\r\u001b[K     |████████████                    | 778kB 21.5MB/s eta 0:00:01\r\u001b[K     |████████████▎                   | 788kB 21.5MB/s eta 0:00:01\r\u001b[K     |████████████▍                   | 798kB 21.5MB/s eta 0:00:01\r\u001b[K     |████████████▋                   | 808kB 21.5MB/s eta 0:00:01\r\u001b[K     |████████████▊                   | 819kB 21.5MB/s eta 0:00:01\r\u001b[K     |█████████████                   | 829kB 21.5MB/s eta 0:00:01\r\u001b[K     |█████████████                   | 839kB 21.5MB/s eta 0:00:01\r\u001b[K     |█████████████▎                  | 849kB 21.5MB/s eta 0:00:01\r\u001b[K     |█████████████▍                  | 860kB 21.5MB/s eta 0:00:01\r\u001b[K     |█████████████▌                  | 870kB 21.5MB/s eta 0:00:01\r\u001b[K     |█████████████▊                  | 880kB 21.5MB/s eta 0:00:01\r\u001b[K     |█████████████▉                  | 890kB 21.5MB/s eta 0:00:01\r\u001b[K     |██████████████                  | 901kB 21.5MB/s eta 0:00:01\r\u001b[K     |██████████████▏                 | 911kB 21.5MB/s eta 0:00:01\r\u001b[K     |██████████████▍                 | 921kB 21.5MB/s eta 0:00:01\r\u001b[K     |██████████████▌                 | 931kB 21.5MB/s eta 0:00:01\r\u001b[K     |██████████████▋                 | 942kB 21.5MB/s eta 0:00:01\r\u001b[K     |██████████████▉                 | 952kB 21.5MB/s eta 0:00:01\r\u001b[K     |███████████████                 | 962kB 21.5MB/s eta 0:00:01\r\u001b[K     |███████████████▏                | 972kB 21.5MB/s eta 0:00:01\r\u001b[K     |███████████████▎                | 983kB 21.5MB/s eta 0:00:01\r\u001b[K     |███████████████▌                | 993kB 21.5MB/s eta 0:00:01\r\u001b[K     |███████████████▋                | 1.0MB 21.5MB/s eta 0:00:01\r\u001b[K     |███████████████▊                | 1.0MB 21.5MB/s eta 0:00:01\r\u001b[K     |████████████████                | 1.0MB 21.5MB/s eta 0:00:01\r\u001b[K     |████████████████                | 1.0MB 21.5MB/s eta 0:00:01\r\u001b[K     |████████████████▎               | 1.0MB 21.5MB/s eta 0:00:01\r\u001b[K     |████████████████▍               | 1.1MB 21.5MB/s eta 0:00:01\r\u001b[K     |████████████████▋               | 1.1MB 21.5MB/s eta 0:00:01\r\u001b[K     |████████████████▊               | 1.1MB 21.5MB/s eta 0:00:01\r\u001b[K     |████████████████▉               | 1.1MB 21.5MB/s eta 0:00:01\r\u001b[K     |█████████████████               | 1.1MB 21.5MB/s eta 0:00:01\r\u001b[K     |█████████████████▏              | 1.1MB 21.5MB/s eta 0:00:01\r\u001b[K     |█████████████████▍              | 1.1MB 21.5MB/s eta 0:00:01\r\u001b[K     |█████████████████▌              | 1.1MB 21.5MB/s eta 0:00:01\r\u001b[K     |█████████████████▊              | 1.1MB 21.5MB/s eta 0:00:01\r\u001b[K     |█████████████████▉              | 1.1MB 21.5MB/s eta 0:00:01\r\u001b[K     |██████████████████              | 1.2MB 21.5MB/s eta 0:00:01\r\u001b[K     |██████████████████▏             | 1.2MB 21.5MB/s eta 0:00:01\r\u001b[K     |██████████████████▎             | 1.2MB 21.5MB/s eta 0:00:01\r\u001b[K     |██████████████████▌             | 1.2MB 21.5MB/s eta 0:00:01\r\u001b[K     |██████████████████▋             | 1.2MB 21.5MB/s eta 0:00:01\r\u001b[K     |██████████████████▉             | 1.2MB 21.5MB/s eta 0:00:01\r\u001b[K     |███████████████████             | 1.2MB 21.5MB/s eta 0:00:01\r\u001b[K     |███████████████████▏            | 1.2MB 21.5MB/s eta 0:00:01\r\u001b[K     |███████████████████▎            | 1.2MB 21.5MB/s eta 0:00:01\r\u001b[K     |███████████████████▍            | 1.2MB 21.5MB/s eta 0:00:01\r\u001b[K     |███████████████████▋            | 1.3MB 21.5MB/s eta 0:00:01\r\u001b[K     |███████████████████▊            | 1.3MB 21.5MB/s eta 0:00:01\r\u001b[K     |████████████████████            | 1.3MB 21.5MB/s eta 0:00:01\r\u001b[K     |████████████████████            | 1.3MB 21.5MB/s eta 0:00:01\r\u001b[K     |████████████████████▎           | 1.3MB 21.5MB/s eta 0:00:01\r\u001b[K     |████████████████████▍           | 1.3MB 21.5MB/s eta 0:00:01\r\u001b[K     |████████████████████▌           | 1.3MB 21.5MB/s eta 0:00:01\r\u001b[K     |████████████████████▊           | 1.3MB 21.5MB/s eta 0:00:01\r\u001b[K     |████████████████████▉           | 1.3MB 21.5MB/s eta 0:00:01\r\u001b[K     |█████████████████████           | 1.4MB 21.5MB/s eta 0:00:01\r\u001b[K     |█████████████████████▏          | 1.4MB 21.5MB/s eta 0:00:01\r\u001b[K     |█████████████████████▍          | 1.4MB 21.5MB/s eta 0:00:01\r\u001b[K     |█████████████████████▌          | 1.4MB 21.5MB/s eta 0:00:01\r\u001b[K     |█████████████████████▋          | 1.4MB 21.5MB/s eta 0:00:01\r\u001b[K     |█████████████████████▉          | 1.4MB 21.5MB/s eta 0:00:01\r\u001b[K     |██████████████████████          | 1.4MB 21.5MB/s eta 0:00:01\r\u001b[K     |██████████████████████▏         | 1.4MB 21.5MB/s eta 0:00:01\r\u001b[K     |██████████████████████▎         | 1.4MB 21.5MB/s eta 0:00:01\r\u001b[K     |██████████████████████▌         | 1.4MB 21.5MB/s eta 0:00:01\r\u001b[K     |██████████████████████▋         | 1.5MB 21.5MB/s eta 0:00:01\r\u001b[K     |██████████████████████▉         | 1.5MB 21.5MB/s eta 0:00:01\r\u001b[K     |███████████████████████         | 1.5MB 21.5MB/s eta 0:00:01\r\u001b[K     |███████████████████████         | 1.5MB 21.5MB/s eta 0:00:01\r\u001b[K     |███████████████████████▎        | 1.5MB 21.5MB/s eta 0:00:01\r\u001b[K     |███████████████████████▍        | 1.5MB 21.5MB/s eta 0:00:01\r\u001b[K     |███████████████████████▋        | 1.5MB 21.5MB/s eta 0:00:01\r\u001b[K     |███████████████████████▊        | 1.5MB 21.5MB/s eta 0:00:01\r\u001b[K     |████████████████████████        | 1.5MB 21.5MB/s eta 0:00:01\r\u001b[K     |████████████████████████        | 1.5MB 21.5MB/s eta 0:00:01\r\u001b[K     |████████████████████████▏       | 1.6MB 21.5MB/s eta 0:00:01\r\u001b[K     |████████████████████████▍       | 1.6MB 21.5MB/s eta 0:00:01\r\u001b[K     |████████████████████████▌       | 1.6MB 21.5MB/s eta 0:00:01\r\u001b[K     |████████████████████████▊       | 1.6MB 21.5MB/s eta 0:00:01\r\u001b[K     |████████████████████████▉       | 1.6MB 21.5MB/s eta 0:00:01\r\u001b[K     |█████████████████████████       | 1.6MB 21.5MB/s eta 0:00:01\r\u001b[K     |█████████████████████████▏      | 1.6MB 21.5MB/s eta 0:00:01\r\u001b[K     |█████████████████████████▎      | 1.6MB 21.5MB/s eta 0:00:01\r\u001b[K     |█████████████████████████▌      | 1.6MB 21.5MB/s eta 0:00:01\r\u001b[K     |█████████████████████████▋      | 1.6MB 21.5MB/s eta 0:00:01\r\u001b[K     |█████████████████████████▉      | 1.7MB 21.5MB/s eta 0:00:01\r\u001b[K     |██████████████████████████      | 1.7MB 21.5MB/s eta 0:00:01\r\u001b[K     |██████████████████████████▏     | 1.7MB 21.5MB/s eta 0:00:01\r\u001b[K     |██████████████████████████▎     | 1.7MB 21.5MB/s eta 0:00:01\r\u001b[K     |██████████████████████████▌     | 1.7MB 21.5MB/s eta 0:00:01\r\u001b[K     |██████████████████████████▋     | 1.7MB 21.5MB/s eta 0:00:01\r\u001b[K     |██████████████████████████▊     | 1.7MB 21.5MB/s eta 0:00:01\r\u001b[K     |███████████████████████████     | 1.7MB 21.5MB/s eta 0:00:01\r\u001b[K     |███████████████████████████     | 1.7MB 21.5MB/s eta 0:00:01\r\u001b[K     |███████████████████████████▎    | 1.8MB 21.5MB/s eta 0:00:01\r\u001b[K     |███████████████████████████▍    | 1.8MB 21.5MB/s eta 0:00:01\r\u001b[K     |███████████████████████████▋    | 1.8MB 21.5MB/s eta 0:00:01\r\u001b[K     |███████████████████████████▊    | 1.8MB 21.5MB/s eta 0:00:01\r\u001b[K     |███████████████████████████▉    | 1.8MB 21.5MB/s eta 0:00:01\r\u001b[K     |████████████████████████████    | 1.8MB 21.5MB/s eta 0:00:01\r\u001b[K     |████████████████████████████▏   | 1.8MB 21.5MB/s eta 0:00:01\r\u001b[K     |████████████████████████████▍   | 1.8MB 21.5MB/s eta 0:00:01\r\u001b[K     |████████████████████████████▌   | 1.8MB 21.5MB/s eta 0:00:01\r\u001b[K     |████████████████████████████▊   | 1.8MB 21.5MB/s eta 0:00:01\r\u001b[K     |████████████████████████████▉   | 1.9MB 21.5MB/s eta 0:00:01\r\u001b[K     |█████████████████████████████   | 1.9MB 21.5MB/s eta 0:00:01\r\u001b[K     |█████████████████████████████▏  | 1.9MB 21.5MB/s eta 0:00:01\r\u001b[K     |█████████████████████████████▎  | 1.9MB 21.5MB/s eta 0:00:01\r\u001b[K     |█████████████████████████████▌  | 1.9MB 21.5MB/s eta 0:00:01\r\u001b[K     |█████████████████████████████▋  | 1.9MB 21.5MB/s eta 0:00:01\r\u001b[K     |█████████████████████████████▉  | 1.9MB 21.5MB/s eta 0:00:01\r\u001b[K     |██████████████████████████████  | 1.9MB 21.5MB/s eta 0:00:01\r\u001b[K     |██████████████████████████████  | 1.9MB 21.5MB/s eta 0:00:01\r\u001b[K     |██████████████████████████████▎ | 1.9MB 21.5MB/s eta 0:00:01\r\u001b[K     |██████████████████████████████▍ | 2.0MB 21.5MB/s eta 0:00:01\r\u001b[K     |██████████████████████████████▋ | 2.0MB 21.5MB/s eta 0:00:01\r\u001b[K     |██████████████████████████████▊ | 2.0MB 21.5MB/s eta 0:00:01\r\u001b[K     |███████████████████████████████ | 2.0MB 21.5MB/s eta 0:00:01\r\u001b[K     |███████████████████████████████ | 2.0MB 21.5MB/s eta 0:00:01\r\u001b[K     |███████████████████████████████▎| 2.0MB 21.5MB/s eta 0:00:01\r\u001b[K     |███████████████████████████████▍| 2.0MB 21.5MB/s eta 0:00:01\r\u001b[K     |███████████████████████████████▌| 2.0MB 21.5MB/s eta 0:00:01\r\u001b[K     |███████████████████████████████▊| 2.0MB 21.5MB/s eta 0:00:01\r\u001b[K     |███████████████████████████████▉| 2.0MB 21.5MB/s eta 0:00:01\r\u001b[K     |████████████████████████████████| 2.1MB 21.5MB/s \n",
            "\u001b[?25hRequirement already satisfied: promise<3,>=2.0 in /usr/local/lib/python3.7/dist-packages (from wandb) (2.3)\n",
            "Requirement already satisfied: python-dateutil>=2.6.1 in /usr/local/lib/python3.7/dist-packages (from wandb) (2.8.1)\n",
            "Requirement already satisfied: six>=1.13.0 in /usr/local/lib/python3.7/dist-packages (from wandb) (1.15.0)\n",
            "Requirement already satisfied: psutil>=5.0.0 in /usr/local/lib/python3.7/dist-packages (from wandb) (5.4.8)\n",
            "Collecting docker-pycreds>=0.4.0\n",
            "  Downloading https://files.pythonhosted.org/packages/f5/e8/f6bd1eee09314e7e6dee49cbe2c5e22314ccdb38db16c9fc72d2fa80d054/docker_pycreds-0.4.0-py2.py3-none-any.whl\n",
            "Collecting configparser>=3.8.1\n",
            "  Downloading https://files.pythonhosted.org/packages/fd/01/ff260a18caaf4457eb028c96eeb405c4a230ca06c8ec9c1379f813caa52e/configparser-5.0.2-py3-none-any.whl\n",
            "Collecting shortuuid>=0.5.0\n",
            "  Downloading https://files.pythonhosted.org/packages/25/a6/2ecc1daa6a304e7f1b216f0896b26156b78e7c38e1211e9b798b4716c53d/shortuuid-1.0.1-py3-none-any.whl\n",
            "Collecting subprocess32>=3.5.3\n",
            "\u001b[?25l  Downloading https://files.pythonhosted.org/packages/32/c8/564be4d12629b912ea431f1a50eb8b3b9d00f1a0b1ceff17f266be190007/subprocess32-3.5.4.tar.gz (97kB)\n",
            "\u001b[K     |████████████████████████████████| 102kB 10.0MB/s \n",
            "\u001b[?25hRequirement already satisfied: protobuf>=3.12.0 in /usr/local/lib/python3.7/dist-packages (from wandb) (3.12.4)\n",
            "Collecting pathtools\n",
            "  Downloading https://files.pythonhosted.org/packages/e7/7f/470d6fcdf23f9f3518f6b0b76be9df16dcc8630ad409947f8be2eb0ed13a/pathtools-0.1.2.tar.gz\n",
            "Requirement already satisfied: Click>=7.0 in /usr/local/lib/python3.7/dist-packages (from wandb) (7.1.2)\n",
            "Collecting sentry-sdk>=0.4.0\n",
            "\u001b[?25l  Downloading https://files.pythonhosted.org/packages/f3/92/5a33be64990ba815364a8f2dd9e6f51de60d23dfddafb4f1fc5577d4dc64/sentry_sdk-1.0.0-py2.py3-none-any.whl (131kB)\n",
            "\u001b[K     |████████████████████████████████| 133kB 45.6MB/s \n",
            "\u001b[?25hCollecting GitPython>=1.0.0\n",
            "\u001b[?25l  Downloading https://files.pythonhosted.org/packages/a6/99/98019716955ba243657daedd1de8f3a88ca1f5b75057c38e959db22fb87b/GitPython-3.1.14-py3-none-any.whl (159kB)\n",
            "\u001b[K     |████████████████████████████████| 163kB 42.3MB/s \n",
            "\u001b[?25hRequirement already satisfied: requests<3,>=2.0.0 in /usr/local/lib/python3.7/dist-packages (from wandb) (2.23.0)\n",
            "Requirement already satisfied: PyYAML in /usr/local/lib/python3.7/dist-packages (from wandb) (3.13)\n",
            "Requirement already satisfied: setuptools in /usr/local/lib/python3.7/dist-packages (from protobuf>=3.12.0->wandb) (54.2.0)\n",
            "Requirement already satisfied: certifi in /usr/local/lib/python3.7/dist-packages (from sentry-sdk>=0.4.0->wandb) (2020.12.5)\n",
            "Requirement already satisfied: urllib3>=1.10.0 in /usr/local/lib/python3.7/dist-packages (from sentry-sdk>=0.4.0->wandb) (1.24.3)\n",
            "Collecting gitdb<5,>=4.0.1\n",
            "\u001b[?25l  Downloading https://files.pythonhosted.org/packages/ea/e8/f414d1a4f0bbc668ed441f74f44c116d9816833a48bf81d22b697090dba8/gitdb-4.0.7-py3-none-any.whl (63kB)\n",
            "\u001b[K     |████████████████████████████████| 71kB 9.0MB/s \n",
            "\u001b[?25hRequirement already satisfied: idna<3,>=2.5 in /usr/local/lib/python3.7/dist-packages (from requests<3,>=2.0.0->wandb) (2.10)\n",
            "Requirement already satisfied: chardet<4,>=3.0.2 in /usr/local/lib/python3.7/dist-packages (from requests<3,>=2.0.0->wandb) (3.0.4)\n",
            "Collecting smmap<5,>=3.0.1\n",
            "  Downloading https://files.pythonhosted.org/packages/68/ee/d540eb5e5996eb81c26ceffac6ee49041d473bc5125f2aa995cf51ec1cf1/smmap-4.0.0-py2.py3-none-any.whl\n",
            "Building wheels for collected packages: subprocess32, pathtools\n",
            "  Building wheel for subprocess32 (setup.py) ... \u001b[?25l\u001b[?25hdone\n",
            "  Created wheel for subprocess32: filename=subprocess32-3.5.4-cp37-none-any.whl size=6489 sha256=ff9f65fb310faf182a1505d79e96e77a4a1e8284ec3522e2eb3a06b5d66411f5\n",
            "  Stored in directory: /root/.cache/pip/wheels/68/39/1a/5e402bdfdf004af1786c8b853fd92f8c4a04f22aad179654d1\n",
            "  Building wheel for pathtools (setup.py) ... \u001b[?25l\u001b[?25hdone\n",
            "  Created wheel for pathtools: filename=pathtools-0.1.2-cp37-none-any.whl size=8786 sha256=7aa7ea5ef355a4f1888e0b229d69ba31cccb5666a76453a13c6b6d76fa785e79\n",
            "  Stored in directory: /root/.cache/pip/wheels/0b/04/79/c3b0c3a0266a3cb4376da31e5bfe8bba0c489246968a68e843\n",
            "Successfully built subprocess32 pathtools\n",
            "Installing collected packages: docker-pycreds, configparser, shortuuid, subprocess32, pathtools, sentry-sdk, smmap, gitdb, GitPython, wandb\n",
            "Successfully installed GitPython-3.1.14 configparser-5.0.2 docker-pycreds-0.4.0 gitdb-4.0.7 pathtools-0.1.2 sentry-sdk-1.0.0 shortuuid-1.0.1 smmap-4.0.0 subprocess32-3.5.4 wandb-0.10.26\n"
          ],
          "name": "stdout"
        }
      ]
    },
    {
      "cell_type": "code",
      "metadata": {
        "id": "ZQncYIuTfgA7"
      },
      "source": [
        "from tensorflow.keras.preprocessing.image import ImageDataGenerator\n",
        "from zipfile import ZipFile\n",
        "from random import shuffle\n",
        "\n",
        "import matplotlib.pyplot as plt\n",
        "import numpy as np\n",
        "import shutil\n",
        "import pprint\n",
        "import wandb\n",
        "import os\n",
        "import tensorflow as tf\n",
        "import matplotlib.pyplot as plt\n",
        "\n",
        "from tensorflow import keras\n",
        "from tensorflow.keras import backend as K\n",
        "from tensorflow.keras import layers\n",
        "from tensorflow.keras.models import Sequential"
      ],
      "execution_count": 3,
      "outputs": []
    },
    {
      "cell_type": "code",
      "metadata": {
        "id": "GN2eoj3J4mix",
        "colab": {
          "base_uri": "https://localhost:8080/"
        },
        "outputId": "c6c2b872-0692-40f5-93b2-6a9c62ae829c"
      },
      "source": [
        "!wget -nc https://storage.googleapis.com/wandb_datasets/nature_12K.zip\n",
        "if not os.path.isdir('/content/inaturalist_12K'):\n",
        "  ZipFile('/content/nature_12K.zip').extractall()"
      ],
      "execution_count": null,
      "outputs": [
        {
          "output_type": "stream",
          "text": [
            "--2021-04-15 07:57:28--  https://storage.googleapis.com/wandb_datasets/nature_12K.zip\n",
            "Resolving storage.googleapis.com (storage.googleapis.com)... 64.233.188.128, 64.233.189.128, 108.177.97.128, ...\n",
            "Connecting to storage.googleapis.com (storage.googleapis.com)|64.233.188.128|:443... connected.\n",
            "HTTP request sent, awaiting response... 200 OK\n",
            "Length: 3816687935 (3.6G) [application/zip]\n",
            "Saving to: ‘nature_12K.zip’\n",
            "\n",
            "nature_12K.zip      100%[===================>]   3.55G  32.1MB/s    in 66s     \n",
            "\n",
            "2021-04-15 07:58:34 (55.5 MB/s) - ‘nature_12K.zip’ saved [3816687935/3816687935]\n",
            "\n"
          ],
          "name": "stdout"
        }
      ]
    },
    {
      "cell_type": "code",
      "metadata": {
        "colab": {
          "base_uri": "https://localhost:8080/"
        },
        "id": "U_OgiyalJHEs",
        "outputId": "7e4c641b-eb5c-4844-f2ca-8c26051bd62b"
      },
      "source": [
        "wandb.login(key='feaed71a1d227d1c2ec9d80e592582248a32f930', force=True)"
      ],
      "execution_count": null,
      "outputs": [
        {
          "output_type": "stream",
          "text": [
            "\u001b[34m\u001b[1mwandb\u001b[0m: W&B API key is configured (use `wandb login --relogin` to force relogin)\n",
            "\u001b[34m\u001b[1mwandb\u001b[0m: \u001b[33mWARNING\u001b[0m If you're specifying your api key in code, ensure this code is not shared publically.\n",
            "\u001b[34m\u001b[1mwandb\u001b[0m: \u001b[33mWARNING\u001b[0m Consider setting the WANDB_API_KEY environment variable, or running `wandb login` from the command line.\n",
            "\u001b[34m\u001b[1mwandb\u001b[0m: Appending key for api.wandb.ai to your netrc file: /root/.netrc\n",
            "429 response executing GraphQL.\n",
            "{\"error\":\"rate limit exceeded\"}\n",
            "\n",
            "429 response executing GraphQL.\n",
            "{\"error\":\"rate limit exceeded\"}\n",
            "\n"
          ],
          "name": "stderr"
        },
        {
          "output_type": "execute_result",
          "data": {
            "text/plain": [
              "True"
            ]
          },
          "metadata": {
            "tags": []
          },
          "execution_count": 4
        }
      ]
    },
    {
      "cell_type": "markdown",
      "metadata": {
        "id": "V-6ySLCcKGyQ"
      },
      "source": [
        "# Data Split"
      ]
    },
    {
      "cell_type": "markdown",
      "metadata": {
        "id": "2Zsr2ETxKevQ"
      },
      "source": [
        "# Question 1"
      ]
    },
    {
      "cell_type": "code",
      "metadata": {
        "id": "Q1Lh5Arp3eiw"
      },
      "source": [
        "train_val_dir = '/content/inaturalist_12K/train'\n",
        "test_dir = '/content/inaturalist_12K/val'"
      ],
      "execution_count": null,
      "outputs": []
    },
    {
      "cell_type": "code",
      "metadata": {
        "id": "T0T6qj5lvs-b"
      },
      "source": [
        "class dataset:\n",
        "  @staticmethod\n",
        "  def train_val_test_data_loader(train_val_dir, test_dir, val_split=0.2, seed=6910, image_size=(700, 700), batch_size=32):\n",
        "    #train data\n",
        "    train_ds = tf.keras.preprocessing.image_dataset_from_directory(\n",
        "        train_val_dir,\n",
        "        validation_split=val_split,\n",
        "        subset=\"training\",\n",
        "        seed=seed,\n",
        "        image_size=image_size,\n",
        "        batch_size=batch_size\n",
        "        )\n",
        "    #val data\n",
        "    val_ds = tf.keras.preprocessing.image_dataset_from_directory(\n",
        "        train_val_dir,\n",
        "        validation_split=val_split,\n",
        "        subset=\"validation\",\n",
        "        seed=seed,\n",
        "        image_size=image_size,\n",
        "        batch_size=batch_size\n",
        "        )\n",
        "    #test data\n",
        "    test_ds = tf.keras.preprocessing.image_dataset_from_directory(\n",
        "        \n",
        "        test_dir,\n",
        "        seed=seed,\n",
        "        image_size=image_size,\n",
        "        batch_size=batch_size\n",
        "        )\n",
        "\n",
        "    print(train_ds.class_names)\n",
        "\n",
        "    return {\n",
        "        'train': train_ds, \n",
        "        'val': val_ds,\n",
        "        'test': test_ds\n",
        "    }\n",
        "\n",
        "  @staticmethod\n",
        "  def display_samples(ds, figsize=(10,10)):\n",
        "    #display one sample for each class\n",
        "    class_names = ds.class_names\n",
        "    plt.figure(figsize=figsize)\n",
        "    for images, labels in ds.take(1):\n",
        "      for i in range(10):\n",
        "        ax = plt.subplot(2, 5, i + 1)\n",
        "        plt.imshow(images[i].numpy().astype(\"uint8\"))\n",
        "        plt.title(class_names[labels[i]])\n",
        "        plt.axis(\"off\")"
      ],
      "execution_count": null,
      "outputs": []
    },
    {
      "cell_type": "code",
      "metadata": {
        "colab": {
          "base_uri": "https://localhost:8080/",
          "height": 547
        },
        "id": "1Nes5h7u7671",
        "outputId": "6a9c15e4-86f2-43d3-95a0-d9a130954f09"
      },
      "source": [
        "data = dataset.train_val_test_data_loader(train_val_dir, test_dir)\n",
        "dataset.display_samples(data['train'], (10, 10))"
      ],
      "execution_count": null,
      "outputs": [
        {
          "output_type": "stream",
          "text": [
            "Found 9999 files belonging to 10 classes.\n",
            "Using 8000 files for training.\n",
            "Found 9999 files belonging to 10 classes.\n",
            "Using 1999 files for validation.\n",
            "Found 2000 files belonging to 10 classes.\n",
            "['Amphibia', 'Animalia', 'Arachnida', 'Aves', 'Fungi', 'Insecta', 'Mammalia', 'Mollusca', 'Plantae', 'Reptilia']\n"
          ],
          "name": "stdout"
        },
        {
          "output_type": "display_data",
          "data": {
            "image/png": "[encoded data removed]",
            "text/plain": [
              "<Figure size 720x720 with 10 Axes>"
            ]
          },
          "metadata": {
            "tags": [],
            "needs_background": "light"
          }
        }
      ]
    },
    {
      "cell_type": "code",
      "metadata": {
        "id": "KXjA2WfAzWq_"
      },
      "source": [
        "import tensorflow.keras.backend as K\n",
        "from tensorflow.keras.models import Model\n",
        "from tensorflow.keras.preprocessing import image\n",
        "\n",
        "H, W = 700, 700\n",
        "\n",
        "def load_image(path, preprocess=True):\n",
        "    x = image.load_img(path, target_size=(H, W))\n",
        "    plt.imshow(x)\n",
        "    x = image.img_to_array(x)\n",
        "    x = np.expand_dims(x, axis=0)\n",
        "    return x\n",
        "\n",
        "def deprocess_image(x):\n",
        "    x = x.copy()\n",
        "    x -= x.mean()\n",
        "    x /= (x.std() + K.epsilon())\n",
        "    x *= 0.25\n",
        "    x += 0.5\n",
        "    x = np.clip(x, 0, 1)\n",
        "    x *= 255\n",
        "    x = np.clip(x, 0, 255).astype('uint8')\n",
        "    return x\n",
        "\n",
        "@tf.custom_gradient\n",
        "def guidedRelu(x):\n",
        "  # change the gradient\n",
        "  # if gradient is negative, make it to zero\n",
        "  def grad(dy):\n",
        "    extra = tf.cast(dy>0,\"float32\")\n",
        "    return  extra * tf.cast(x>0, \"float32\") * dy\n",
        "  return tf.nn.relu(x), grad"
      ],
      "execution_count": null,
      "outputs": []
    },
    {
      "cell_type": "code",
      "metadata": {
        "id": "38QfADFERmIP"
      },
      "source": [
        "class cnn :\n",
        "  def __init__(self, params):\n",
        "    '''\n",
        "        This function builds a cnn model based on the parameters passed\n",
        "        Input : params - contains \n",
        "                      1. Image shape\n",
        "                      2. number of layers\n",
        "                      3. Filter size\n",
        "                      4. Number of filters in each layer\n",
        "                      5. activation function to be used\n",
        "                      6. batchNorm - bool value\n",
        "                      7. augmentation - bool value\n",
        "                      8. droupout - The dropout to be used\n",
        "    '''\n",
        "    #get cnn parameters from params\n",
        "    img_shape = params['img_shape']\n",
        "    activation = params['activation']\n",
        "    filter_size = params['filter_size']\n",
        "    num_classes = params['num_classes']\n",
        "    dropout = params['dropout']\n",
        "    num_filters = params['num_filters']\n",
        "    augmentation = params['augmentation']\n",
        "\n",
        "    #Make all imputs between (0,1)\n",
        "    model = Sequential(layers.experimental.preprocessing.Rescaling(1./255, input_shape=img_shape))\n",
        "    \n",
        "    # data augmentation\n",
        "    if augmentation:\n",
        "      model.add(layers.experimental.preprocessing.RandomFlip('horizontal_and_vertical'))\n",
        "      model.add(layers.experimental.preprocessing.RandomRotation(0.1))\n",
        "      model.add(layers.experimental.preprocessing.RandomTranslation(0.3,0.3))\n",
        "\n",
        "    # dropout after the input layer\n",
        "    model.add(layers.Dropout(dropout))\n",
        "\n",
        "    for j in range(len(num_filters)) :\n",
        "      #convolution layer, followed by activation, then batch_norm and finally max pooling\n",
        "      if params['batch_norm'] :\n",
        "        model.add(layers.Conv2D(num_filters[j] , filter_size, padding='same', use_bias=False))\n",
        "        model.add(layers.Activation(activation))\n",
        "        model.add(layers.BatchNormalization())\n",
        "        model.add(layers.MaxPooling2D( pool_size=(2,2) ))\n",
        "      else :\n",
        "        model.add(layers.Conv2D(num_filters[j] , filter_size, padding='same'))\n",
        "        model.add(layers.Activation(activation))\n",
        "        model.add(layers.MaxPooling2D(pool_size=(2,2)))\n",
        "      \n",
        "\n",
        "    # dropout and flatten before the first dense layer\n",
        "    model.add(layers.Flatten())\n",
        "    model.add(layers.Dropout(dropout))\n",
        "\n",
        "    model.add(layers.Dense(params['dense_layer_size'], activation=activation))\n",
        "\n",
        "    # dropout before last output layer\n",
        "    model.add(layers.Dropout(dropout))\n",
        "\n",
        "\n",
        "    # output layer, with activation as softmax\n",
        "    model.add(layers.Dense(num_classes, activation='softmax'))\n",
        "    \n",
        "    self.model = model\n",
        "    \n",
        "\n",
        "  def compile_and_fit(self, data, params,logging=True) :\n",
        "    '''\n",
        "        This function compiles, prints summary of model and fits the data\n",
        "        Input : data - dictionary with data['train'] and data['val']\n",
        "                params - contains details number of epochs and optimizer to be used\n",
        "        Returns : The run details\n",
        "    '''\n",
        "   \n",
        "    # get train and validation data\n",
        "    train_ds, val_ds = data['train'], data['val']\n",
        "\n",
        "    # get epochs and optimizer\n",
        "    optimizer, epochs = params['optimizer'], params['num_epochs']\n",
        "\n",
        "    if optimizer == 'NAG' :\n",
        "      optimizer = tf.keras.optimizers.SGD(momentum=0.9, nesterov=True)\n",
        "\n",
        "    #compile\n",
        "    self.model.compile(optimizer=optimizer, \n",
        "                       loss=tf.keras.losses.SparseCategoricalCrossentropy(from_logits=True), \n",
        "                       metrics=['accuracy']\n",
        "                       )\n",
        "    \n",
        "    # print summary\n",
        "    summary = self.model.summary()\n",
        "\n",
        "    # fit the data\n",
        "    # if logging, include wandb's callback and earlystopping \n",
        "    if logging :\n",
        "      run_details = self.model.fit(train_ds, \n",
        "                                 validation_data=val_ds, \n",
        "                                 epochs=epochs,\n",
        "                                 callbacks=[\n",
        "                                   wandb.keras.WandbCallback(save_model=False),\n",
        "                                   keras.callbacks.EarlyStopping(monitor='val_accuracy', \n",
        "                                                                          patience=3, \n",
        "                                                                          restore_best_weights=True)]\n",
        "                                 )\n",
        "    else :\n",
        "      run_details = self.model.fit(train_ds, \n",
        "                                 validation_data=val_ds, \n",
        "                                 epochs=epochs\n",
        "                                 )\n",
        "\n",
        "    return {\n",
        "        'summary': summary,\n",
        "        'run_details' : run_details\n",
        "    }\n",
        "\n",
        "  def guided_backprop(self,layername,inp_image,index) :\n",
        "      '''\n",
        "        This function implements guided backprop on given neurons in a given layer\n",
        "        Inputs : layername\n",
        "                inp_image : image in numpy array format\n",
        "                index : To specify which neuron\n",
        "      '''\n",
        "      model = self.model\n",
        "      if len(index)==0 :\n",
        "        gb_model = Model(\n",
        "            inputs = [model.inputs],\n",
        "            outputs = [model.get_layer(layername).output]\n",
        "        )\n",
        "      elif len(index)==1 :\n",
        "        gb_model = Model(\n",
        "            inputs = [model.inputs],\n",
        "            outputs = [model.get_layer(layername).output[:,:,:,index[0]]]\n",
        "        )\n",
        "      elif len(index)==2 :\n",
        "        gb_model = Model(\n",
        "            inputs = [model.inputs],\n",
        "            outputs = [model.get_layer(layername).output[:,:,index[0],index[1]]]\n",
        "        )\n",
        "      elif len(index)==3 :\n",
        "        gb_model = Model(\n",
        "            inputs = [model.inputs],\n",
        "            outputs = [model.get_layer(layername).output[:,index[0],index[1],index[2]]]\n",
        "        )\n",
        "      \n",
        "      #replace relu with our guidedRelu\n",
        "      layers = [layer for layer in gb_model.layers[1:] if hasattr(layer,'activation')]\n",
        "      for layer in layers:\n",
        "        if layer.activation == tf.keras.activations.relu:\n",
        "          layer.activation = guidedRelu\n",
        "\n",
        "      #use tf.GradientTape for getting gradient\n",
        "      with tf.GradientTape() as tape:\n",
        "        inputs = tf.cast(inp_image, tf.float32)\n",
        "        tape.watch(inputs)\n",
        "        outputs = gb_model(inputs)\n",
        "\n",
        "      #get the gradient.\n",
        "      grads = tape.gradient(outputs,inputs)\n",
        "\n",
        "      #grads shape is 1x(inputs_shape) \n",
        "      immage = np.flip(deprocess_image(np.array(grads[0])),-1)\n",
        "      plt.imshow(immage)\n",
        "      plt.axis(\"off\");\n",
        "      return immage\n",
        "\n",
        "  def test_model(self,data) :\n",
        "    ''' \n",
        "        This function evaluates the trained model.\n",
        "        Input : test data\n",
        "    '''\n",
        "    self.model.evaluate(data)"
      ],
      "execution_count": null,
      "outputs": []
    },
    {
      "cell_type": "code",
      "metadata": {
        "id": "qPy0fYvOVOpX"
      },
      "source": [
        "class cnn_tools:\n",
        "  def init_params(config):\n",
        "    \n",
        "    # building num_layers array\n",
        "    if config.type_of_filters == 'same' :\n",
        "      num_filters = config.num_filters_*np.ones(config.num_layers)\n",
        "      \n",
        "    elif config.type_of_filters == 'double' :\n",
        "      num_filters = config.num_filters_*np.ones(config.num_layers)\n",
        "      for j in range(config.num_layers-1) :\n",
        "        num_filters[j+1] = num_filters[j]*2\n",
        "      \n",
        "    elif config.type_of_filters == 'half' :\n",
        "      num_filters = config.num_filters_*np.ones(config.num_layers)\n",
        "      for j in range(config.num_layers-1) :\n",
        "        num_filters[j+1] = num_filters[j]*2\n",
        "      num_filters = num_filters[::-1]\n",
        "\n",
        "    # typecasting num_filters\n",
        "    num_filters = np.array(num_filters, dtype=np.int32)\n",
        "    \n",
        "    # returning parameters\n",
        "    params = {\n",
        "        'filter_size' : (config.filter_size, config.filter_size),\n",
        "        'num_filters' : num_filters,\n",
        "        'activation' : config.activation,\n",
        "        'num_classes' : 10,\n",
        "        'img_shape' : (700, 700, 3),\n",
        "        'dropout' : config.dropout,\n",
        "        'batch_norm' : config.batch_norm,\n",
        "        'dense_layer_size' : config.dense_layer_size,\n",
        "        'num_epochs' : config.num_epochs,\n",
        "        'optimizer' : config.optimizer,\n",
        "        'augmentation': config.augmentation\n",
        "    }\n",
        "\n",
        "    return params\n"
      ],
      "execution_count": null,
      "outputs": []
    },
    {
      "cell_type": "markdown",
      "metadata": {
        "id": "kIComdH6frKj"
      },
      "source": [
        "# Question 2"
      ]
    },
    {
      "cell_type": "code",
      "metadata": {
        "id": "awNcC1CgfdbQ"
      },
      "source": [
        "# sweep configuration\n",
        "sweep_config = {\n",
        "    'method' : 'bayes',\n",
        "    'metric' : {\n",
        "        'name' : 'val_accuracy',\n",
        "        'goal' : 'maximize'\n",
        "    },\n",
        "    'parameters': {\n",
        "        'num_filters_': {\n",
        "            'values': [16, 32, 64]\n",
        "        },\n",
        "        'type_of_filters': {\n",
        "            'values': ['same', 'half', 'double']\n",
        "        },\n",
        "        'augmentation': {\n",
        "            'values': [True, False]\n",
        "        },\n",
        "        'batch_norm': {\n",
        "            'values': [True, False]\n",
        "        },\n",
        "        'dense_layer_size': {\n",
        "            'values': [128, 256, 512]\n",
        "        },\n",
        "        'dropout': {\n",
        "            'values': [0, 0.1, 0.2, 0.3, 0.4, 0.5]\n",
        "        },\n",
        "        'optimizer': {\n",
        "            'values': ['adam', 'nadam', 'NAG', 'RMSprop']\n",
        "        },\n",
        "        'batch_size': {\n",
        "            'values': [8, 16, 32]\n",
        "        },\n",
        "        'num_epochs': {\n",
        "            'values': [25]\n",
        "        },\n",
        "        'num_layers': {\n",
        "            'values': [5]\n",
        "        },\n",
        "        'activation': {\n",
        "            'values': ['tanh', 'relu']\n",
        "        },\n",
        "        'filter_size' : {\n",
        "            'values': [3, 5]\n",
        "        }        \n",
        "    }\n",
        "}"
      ],
      "execution_count": null,
      "outputs": []
    },
    {
      "cell_type": "code",
      "metadata": {
        "id": "J-V9DLuzfwWy",
        "colab": {
          "base_uri": "https://localhost:8080/"
        },
        "outputId": "e5e6ff7c-f244-4932-a169-7528a8cfd392"
      },
      "source": [
        "pprint.pprint(sweep_config)"
      ],
      "execution_count": null,
      "outputs": [
        {
          "output_type": "stream",
          "text": [
            "{'method': 'bayes',\n",
            " 'metric': {'goal': 'maximize', 'name': 'val_accuracy'},\n",
            " 'parameters': {'activation': {'values': ['tanh', 'relu']},\n",
            "                'augmentation': {'values': [True, False]},\n",
            "                'batch_norm': {'values': [True, False]},\n",
            "                'batch_size': {'values': [8, 16, 32]},\n",
            "                'dense_layer_size': {'values': [128, 256, 512]},\n",
            "                'dropout': {'values': [0, 0.1, 0.2, 0.3, 0.4, 0.5]},\n",
            "                'filter_size': {'values': [3, 5]},\n",
            "                'num_epochs': {'values': [25]},\n",
            "                'num_filters_': {'values': [16, 32, 64]},\n",
            "                'num_layers': {'values': [5]},\n",
            "                'optimizer': {'values': ['adam', 'nadam', 'NAG', 'RMSprop']},\n",
            "                'type_of_filters': {'values': ['same', 'half', 'double']}}}\n"
          ],
          "name": "stdout"
        }
      ]
    },
    {
      "cell_type": "code",
      "metadata": {
        "id": "d3j-Vz7ff0_l"
      },
      "source": [
        "class sweep_module:\n",
        "  @staticmethod\n",
        "  def train(config=None):\n",
        "\n",
        "    with wandb.init(config):\n",
        "      \n",
        "      config = wandb.config\n",
        " \n",
        "      wandb.run.name = 'fil:'+str(config['num_filters_'])+'_type:'+config['type_of_filters'][0]+'_aug:'+str(config['augmentation'])[0]+'_dro:'+str(config['dropout'])[0]\n",
        "      params = cnn_tools.init_params(config)\n",
        "      network = cnn(params)\n",
        "      data = dataset.train_val_test_data_loader(train_val_dir, test_dir, batch_size=config.batch_size)\n",
        "      run_det = network.compile_and_fit(data, params)\n"
      ],
      "execution_count": null,
      "outputs": []
    },
    {
      "cell_type": "code",
      "metadata": {
        "id": "PWdsNNIsfn2t",
        "colab": {
          "base_uri": "https://localhost:8080/"
        },
        "outputId": "7c703a93-6db7-4df2-ac57-72f2c040d8b5"
      },
      "source": [
        "sweep_id = wandb.sweep(sweep_config, project='inaturalist_partA_15.1')"
      ],
      "execution_count": null,
      "outputs": [
        {
          "output_type": "stream",
          "text": [
            "Create sweep with ID: 2c92rrma\n",
            "Sweep URL: https://wandb.ai/ee18b153/inaturalist_partA_15.1/sweeps/2c92rrma\n"
          ],
          "name": "stdout"
        }
      ]
    },
    {
      "cell_type": "code",
      "metadata": {
        "id": "m02HJpeHbzpf"
      },
      "source": [
        "sweep_id = 'hz3tmq0n'"
      ],
      "execution_count": null,
      "outputs": []
    },
    {
      "cell_type": "code",
      "metadata": {
        "id": "U5dUuqeBf368",
        "colab": {
          "base_uri": "https://localhost:8080/",
          "height": 1000,
          "referenced_widgets": [
            "22ab6567bea440708223504719b63187",
            "3d9dde5e297f4d0a9da46a71daa73850",
            "d5395c29a89b4a95b2b016749e1d88bf",
            "163035aaf4ef400e93c016e4fb133fab",
            "c036150b5b4b435ba1c23dd743e50b8d",
            "5768c8a0384943d7b44da6a82fbf7d2a",
            "9ab2d537c1104061a0f02ca2198a1e04",
            "682966160f484734b6c6b8e00df13edf",
            "35222cf0c8934427bbf795bfc7860517",
            "dbbe41211bd648bbaf4505e6d37a8a78",
            "5b661cb0345f430083a82bc62beb3ef0",
            "16dfc44619d44d12905843dae6fa0f7c",
            "dfdd791e5734430a9ed4dd1ae56a1142",
            "2c793830ba1f45c587ed9d5e5d539991",
            "f010f508885d45a5b101745bd8438f7c",
            "b05c71cea3194537a98c194e7df8ceec"
          ]
        },
        "outputId": "5d4bba10-a0ab-4d31-cfa3-e63904b5e8a7"
      },
      "source": [
        "# performing the sweep\n",
        "wandb.agent(sweep_id, sweep_module.train)"
      ],
      "execution_count": null,
      "outputs": [
        {
          "output_type": "stream",
          "text": [
            "\u001b[34m\u001b[1mwandb\u001b[0m: Sweep Agent: Waiting for job.\n",
            "\u001b[34m\u001b[1mwandb\u001b[0m: Job received.\n",
            "\u001b[34m\u001b[1mwandb\u001b[0m: Agent Starting Run: fa2zzbk6 with config:\n",
            "\u001b[34m\u001b[1mwandb\u001b[0m: \tactivation: tanh\n",
            "\u001b[34m\u001b[1mwandb\u001b[0m: \taugmentation: True\n",
            "\u001b[34m\u001b[1mwandb\u001b[0m: \tbatch_norm: True\n",
            "\u001b[34m\u001b[1mwandb\u001b[0m: \tbatch_size: 32\n",
            "\u001b[34m\u001b[1mwandb\u001b[0m: \tdense_layer_size: 128\n",
            "\u001b[34m\u001b[1mwandb\u001b[0m: \tdropout: 0.5\n",
            "\u001b[34m\u001b[1mwandb\u001b[0m: \tfilter_size: 5\n",
            "\u001b[34m\u001b[1mwandb\u001b[0m: \tnum_epochs: 25\n",
            "\u001b[34m\u001b[1mwandb\u001b[0m: \tnum_filters_: 64\n",
            "\u001b[34m\u001b[1mwandb\u001b[0m: \tnum_layers: 5\n",
            "\u001b[34m\u001b[1mwandb\u001b[0m: \toptimizer: adam\n",
            "\u001b[34m\u001b[1mwandb\u001b[0m: \ttype_of_filters: half\n",
            "429 response executing GraphQL.\n",
            "{\"error\":\"rate limit exceeded\"}\n",
            "\n",
            "\u001b[34m\u001b[1mwandb\u001b[0m: Currently logged in as: \u001b[33mee18b153\u001b[0m (use `wandb login --relogin` to force relogin)\n"
          ],
          "name": "stderr"
        },
        {
          "output_type": "display_data",
          "data": {
            "text/html": [
              "\n",
              "                Tracking run with wandb version 0.10.26<br/>\n",
              "                Syncing run <strong style=\"color:#cdcd00\">gallant-sweep-82</strong> to <a href=\"https://wandb.ai\" target=\"_blank\">Weights & Biases</a> <a href=\"https://docs.wandb.com/integrations/jupyter.html\" target=\"_blank\">(Documentation)</a>.<br/>\n",
              "                Project page: <a href=\"https://wandb.ai/ee18b153/inaturalist_partA_15.1\" target=\"_blank\">https://wandb.ai/ee18b153/inaturalist_partA_15.1</a><br/>\n",
              "                Sweep page: <a href=\"https://wandb.ai/ee18b153/inaturalist_partA_15.1/sweeps/hz3tmq0n\" target=\"_blank\">https://wandb.ai/ee18b153/inaturalist_partA_15.1/sweeps/hz3tmq0n</a><br/>\n",
              "Run page: <a href=\"https://wandb.ai/ee18b153/inaturalist_partA_15.1/runs/fa2zzbk6\" target=\"_blank\">https://wandb.ai/ee18b153/inaturalist_partA_15.1/runs/fa2zzbk6</a><br/>\n",
              "                Run data is saved locally in <code>/content/wandb/run-20210415_080046-fa2zzbk6</code><br/><br/>\n",
              "            "
            ],
            "text/plain": [
              "<IPython.core.display.HTML object>"
            ]
          },
          "metadata": {
            "tags": []
          }
        },
        {
          "output_type": "stream",
          "text": [
            "Found 9999 files belonging to 10 classes.\n",
            "Using 8000 files for training.\n",
            "Found 9999 files belonging to 10 classes.\n",
            "Using 1999 files for validation.\n",
            "Found 2000 files belonging to 10 classes.\n",
            "['Amphibia', 'Animalia', 'Arachnida', 'Aves', 'Fungi', 'Insecta', 'Mammalia', 'Mollusca', 'Plantae', 'Reptilia']\n",
            "Model: \"sequential\"\n",
            "_________________________________________________________________\n",
            "Layer (type)                 Output Shape              Param #   \n",
            "=================================================================\n",
            "rescaling (Rescaling)        (None, 700, 700, 3)       0         \n",
            "_________________________________________________________________\n",
            "random_flip (RandomFlip)     (None, 700, 700, 3)       0         \n",
            "_________________________________________________________________\n",
            "random_rotation (RandomRotat (None, 700, 700, 3)       0         \n",
            "_________________________________________________________________\n",
            "random_translation (RandomTr (None, 700, 700, 3)       0         \n",
            "_________________________________________________________________\n",
            "dropout (Dropout)            (None, 700, 700, 3)       0         \n",
            "_________________________________________________________________\n",
            "conv2d (Conv2D)              (None, 700, 700, 1024)    76800     \n",
            "_________________________________________________________________\n",
            "activation (Activation)      (None, 700, 700, 1024)    0         \n",
            "_________________________________________________________________\n",
            "batch_normalization (BatchNo (None, 700, 700, 1024)    4096      \n",
            "_________________________________________________________________\n",
            "max_pooling2d (MaxPooling2D) (None, 350, 350, 1024)    0         \n",
            "_________________________________________________________________\n",
            "conv2d_1 (Conv2D)            (None, 350, 350, 512)     13107200  \n",
            "_________________________________________________________________\n",
            "activation_1 (Activation)    (None, 350, 350, 512)     0         \n",
            "_________________________________________________________________\n",
            "batch_normalization_1 (Batch (None, 350, 350, 512)     2048      \n",
            "_________________________________________________________________\n",
            "max_pooling2d_1 (MaxPooling2 (None, 175, 175, 512)     0         \n",
            "_________________________________________________________________\n",
            "conv2d_2 (Conv2D)            (None, 175, 175, 256)     3276800   \n",
            "_________________________________________________________________\n",
            "activation_2 (Activation)    (None, 175, 175, 256)     0         \n",
            "_________________________________________________________________\n",
            "batch_normalization_2 (Batch (None, 175, 175, 256)     1024      \n",
            "_________________________________________________________________\n",
            "max_pooling2d_2 (MaxPooling2 (None, 87, 87, 256)       0         \n",
            "_________________________________________________________________\n",
            "conv2d_3 (Conv2D)            (None, 87, 87, 128)       819200    \n",
            "_________________________________________________________________\n",
            "activation_3 (Activation)    (None, 87, 87, 128)       0         \n",
            "_________________________________________________________________\n",
            "batch_normalization_3 (Batch (None, 87, 87, 128)       512       \n",
            "_________________________________________________________________\n",
            "max_pooling2d_3 (MaxPooling2 (None, 43, 43, 128)       0         \n",
            "_________________________________________________________________\n",
            "conv2d_4 (Conv2D)            (None, 43, 43, 64)        204800    \n",
            "_________________________________________________________________\n",
            "activation_4 (Activation)    (None, 43, 43, 64)        0         \n",
            "_________________________________________________________________\n",
            "batch_normalization_4 (Batch (None, 43, 43, 64)        256       \n",
            "_________________________________________________________________\n",
            "max_pooling2d_4 (MaxPooling2 (None, 21, 21, 64)        0         \n",
            "_________________________________________________________________\n",
            "flatten (Flatten)            (None, 28224)             0         \n",
            "_________________________________________________________________\n",
            "dropout_1 (Dropout)          (None, 28224)             0         \n",
            "_________________________________________________________________\n",
            "dense (Dense)                (None, 128)               3612800   \n",
            "_________________________________________________________________\n",
            "dropout_2 (Dropout)          (None, 128)               0         \n",
            "_________________________________________________________________\n",
            "dense_1 (Dense)              (None, 10)                1290      \n",
            "=================================================================\n",
            "Total params: 21,106,826\n",
            "Trainable params: 21,102,858\n",
            "Non-trainable params: 3,968\n",
            "_________________________________________________________________\n",
            "Epoch 1/25\n"
          ],
          "name": "stdout"
        },
        {
          "output_type": "stream",
          "text": [
            "\u001b[34m\u001b[1mwandb\u001b[0m: Network error (HTTPError), entering retry loop. See /content/wandb/run-20210415_080046-fa2zzbk6/logs/debug-internal.log for full traceback.\n",
            "\u001b[34m\u001b[1mwandb\u001b[0m: Network error resolved after 0:00:08.056695, resuming normal operation.\n"
          ],
          "name": "stderr"
        },
        {
          "output_type": "display_data",
          "data": {
            "text/html": [
              "<br/>Waiting for W&B process to finish, PID 172<br/>Program failed with code 1.  Press ctrl-c to abort syncing."
            ],
            "text/plain": [
              "<IPython.core.display.HTML object>"
            ]
          },
          "metadata": {
            "tags": []
          }
        },
        {
          "output_type": "display_data",
          "data": {
            "application/vnd.jupyter.widget-view+json": {
              "model_id": "22ab6567bea440708223504719b63187",
              "version_minor": 0,
              "version_major": 2
            },
            "text/plain": [
              "VBox(children=(Label(value=' 0.00MB of 0.00MB uploaded (0.00MB deduped)\\r'), FloatProgress(value=1.0, max=1.0)…"
            ]
          },
          "metadata": {
            "tags": []
          }
        },
        {
          "output_type": "stream",
          "text": [
            "429 response executing GraphQL.\n",
            "{\"error\":\"rate limit exceeded\"}\n",
            "\n",
            "429 response executing GraphQL.\n",
            "{\"error\":\"rate limit exceeded\"}\n",
            "\n",
            "429 response executing GraphQL.\n",
            "{\"error\":\"rate limit exceeded\"}\n",
            "\n",
            "Retry attempt failed:\n",
            "Traceback (most recent call last):\n",
            "  File \"/usr/local/lib/python3.7/dist-packages/wandb/old/retry.py\", line 96, in __call__\n",
            "    result = self._call_fn(*args, **kwargs)\n",
            "  File \"/usr/local/lib/python3.7/dist-packages/wandb/sdk/internal/internal_api.py\", line 130, in execute\n",
            "    six.reraise(*sys.exc_info())\n",
            "  File \"/usr/local/lib/python3.7/dist-packages/six.py\", line 703, in reraise\n",
            "    raise value\n",
            "  File \"/usr/local/lib/python3.7/dist-packages/wandb/sdk/internal/internal_api.py\", line 124, in execute\n",
            "    return self.client.execute(*args, **kwargs)\n",
            "  File \"/usr/local/lib/python3.7/dist-packages/wandb/vendor/gql-0.2.0/gql/client.py\", line 52, in execute\n",
            "    result = self._get_result(document, *args, **kwargs)\n",
            "  File \"/usr/local/lib/python3.7/dist-packages/wandb/vendor/gql-0.2.0/gql/client.py\", line 60, in _get_result\n",
            "    return self.transport.execute(document, *args, **kwargs)\n",
            "  File \"/usr/local/lib/python3.7/dist-packages/wandb/vendor/gql-0.2.0/gql/transport/requests.py\", line 39, in execute\n",
            "    request.raise_for_status()\n",
            "  File \"/usr/local/lib/python3.7/dist-packages/requests/models.py\", line 941, in raise_for_status\n",
            "    raise HTTPError(http_error_msg, response=self)\n",
            "requests.exceptions.HTTPError: 429 Client Error: Too Many Requests for url: https://api.wandb.ai/graphql\n",
            "\u001b[34m\u001b[1mwandb\u001b[0m: Network error (HTTPError), entering retry loop. See /content/wandb/run-20210415_080046-fa2zzbk6/logs/debug-internal.log for full traceback.\n"
          ],
          "name": "stderr"
        },
        {
          "output_type": "display_data",
          "data": {
            "text/html": [
              "Find user logs for this run at: <code>/content/wandb/run-20210415_080046-fa2zzbk6/logs/debug.log</code>"
            ],
            "text/plain": [
              "<IPython.core.display.HTML object>"
            ]
          },
          "metadata": {
            "tags": []
          }
        },
        {
          "output_type": "display_data",
          "data": {
            "text/html": [
              "Find internal logs for this run at: <code>/content/wandb/run-20210415_080046-fa2zzbk6/logs/debug-internal.log</code>"
            ],
            "text/plain": [
              "<IPython.core.display.HTML object>"
            ]
          },
          "metadata": {
            "tags": []
          }
        },
        {
          "output_type": "display_data",
          "data": {
            "text/html": [
              "Synced 5 W&B file(s), 0 media file(s), 0 artifact file(s) and 0 other file(s)"
            ],
            "text/plain": [
              "<IPython.core.display.HTML object>"
            ]
          },
          "metadata": {
            "tags": []
          }
        },
        {
          "output_type": "display_data",
          "data": {
            "text/html": [
              "\n",
              "                    <br/>Synced <strong style=\"color:#cdcd00\">gallant-sweep-82</strong>: <a href=\"https://wandb.ai/ee18b153/inaturalist_partA_15.1/runs/fa2zzbk6\" target=\"_blank\">https://wandb.ai/ee18b153/inaturalist_partA_15.1/runs/fa2zzbk6</a><br/>\n",
              "                "
            ],
            "text/plain": [
              "<IPython.core.display.HTML object>"
            ]
          },
          "metadata": {
            "tags": []
          }
        },
        {
          "output_type": "stream",
          "text": [
            "Run fa2zzbk6 errored: ResourceExhaustedError()\n",
            "\u001b[34m\u001b[1mwandb\u001b[0m: \u001b[32m\u001b[41mERROR\u001b[0m Run fa2zzbk6 errored: ResourceExhaustedError()\n",
            "\u001b[34m\u001b[1mwandb\u001b[0m: Sweep Agent: Waiting for job.\n",
            "\u001b[34m\u001b[1mwandb\u001b[0m: Job received.\n",
            "\u001b[34m\u001b[1mwandb\u001b[0m: Agent Starting Run: of81sojs with config:\n",
            "\u001b[34m\u001b[1mwandb\u001b[0m: \tactivation: tanh\n",
            "\u001b[34m\u001b[1mwandb\u001b[0m: \taugmentation: False\n",
            "\u001b[34m\u001b[1mwandb\u001b[0m: \tbatch_norm: True\n",
            "\u001b[34m\u001b[1mwandb\u001b[0m: \tbatch_size: 32\n",
            "\u001b[34m\u001b[1mwandb\u001b[0m: \tdense_layer_size: 512\n",
            "\u001b[34m\u001b[1mwandb\u001b[0m: \tdropout: 0.1\n",
            "\u001b[34m\u001b[1mwandb\u001b[0m: \tfilter_size: 5\n",
            "\u001b[34m\u001b[1mwandb\u001b[0m: \tnum_epochs: 25\n",
            "\u001b[34m\u001b[1mwandb\u001b[0m: \tnum_filters_: 32\n",
            "\u001b[34m\u001b[1mwandb\u001b[0m: \tnum_layers: 5\n",
            "\u001b[34m\u001b[1mwandb\u001b[0m: \toptimizer: adam\n",
            "\u001b[34m\u001b[1mwandb\u001b[0m: \ttype_of_filters: same\n",
            "429 response executing GraphQL.\n",
            "{\"error\":\"rate limit exceeded\"}\n",
            "\n"
          ],
          "name": "stderr"
        },
        {
          "output_type": "display_data",
          "data": {
            "text/html": [
              "\n",
              "                Tracking run with wandb version 0.10.26<br/>\n",
              "                Syncing run <strong style=\"color:#cdcd00\">visionary-sweep-86</strong> to <a href=\"https://wandb.ai\" target=\"_blank\">Weights & Biases</a> <a href=\"https://docs.wandb.com/integrations/jupyter.html\" target=\"_blank\">(Documentation)</a>.<br/>\n",
              "                Project page: <a href=\"https://wandb.ai/ee18b153/inaturalist_partA_15.1\" target=\"_blank\">https://wandb.ai/ee18b153/inaturalist_partA_15.1</a><br/>\n",
              "                Sweep page: <a href=\"https://wandb.ai/ee18b153/inaturalist_partA_15.1/sweeps/hz3tmq0n\" target=\"_blank\">https://wandb.ai/ee18b153/inaturalist_partA_15.1/sweeps/hz3tmq0n</a><br/>\n",
              "Run page: <a href=\"https://wandb.ai/ee18b153/inaturalist_partA_15.1/runs/of81sojs\" target=\"_blank\">https://wandb.ai/ee18b153/inaturalist_partA_15.1/runs/of81sojs</a><br/>\n",
              "                Run data is saved locally in <code>/content/wandb/run-20210415_080134-of81sojs</code><br/><br/>\n",
              "            "
            ],
            "text/plain": [
              "<IPython.core.display.HTML object>"
            ]
          },
          "metadata": {
            "tags": []
          }
        },
        {
          "output_type": "stream",
          "text": [
            "Found 9999 files belonging to 10 classes.\n",
            "Using 8000 files for training.\n",
            "Found 9999 files belonging to 10 classes.\n",
            "Using 1999 files for validation.\n",
            "Found 2000 files belonging to 10 classes.\n",
            "['Amphibia', 'Animalia', 'Arachnida', 'Aves', 'Fungi', 'Insecta', 'Mammalia', 'Mollusca', 'Plantae', 'Reptilia']\n",
            "Model: \"sequential\"\n",
            "_________________________________________________________________\n",
            "Layer (type)                 Output Shape              Param #   \n",
            "=================================================================\n",
            "rescaling (Rescaling)        (None, 700, 700, 3)       0         \n",
            "_________________________________________________________________\n",
            "dropout (Dropout)            (None, 700, 700, 3)       0         \n",
            "_________________________________________________________________\n",
            "conv2d (Conv2D)              (None, 700, 700, 32)      2400      \n",
            "_________________________________________________________________\n",
            "activation (Activation)      (None, 700, 700, 32)      0         \n",
            "_________________________________________________________________\n",
            "batch_normalization (BatchNo (None, 700, 700, 32)      128       \n",
            "_________________________________________________________________\n",
            "max_pooling2d (MaxPooling2D) (None, 350, 350, 32)      0         \n",
            "_________________________________________________________________\n",
            "conv2d_1 (Conv2D)            (None, 350, 350, 32)      25600     \n",
            "_________________________________________________________________\n",
            "activation_1 (Activation)    (None, 350, 350, 32)      0         \n",
            "_________________________________________________________________\n",
            "batch_normalization_1 (Batch (None, 350, 350, 32)      128       \n",
            "_________________________________________________________________\n",
            "max_pooling2d_1 (MaxPooling2 (None, 175, 175, 32)      0         \n",
            "_________________________________________________________________\n",
            "conv2d_2 (Conv2D)            (None, 175, 175, 32)      25600     \n",
            "_________________________________________________________________\n",
            "activation_2 (Activation)    (None, 175, 175, 32)      0         \n",
            "_________________________________________________________________\n",
            "batch_normalization_2 (Batch (None, 175, 175, 32)      128       \n",
            "_________________________________________________________________\n",
            "max_pooling2d_2 (MaxPooling2 (None, 87, 87, 32)        0         \n",
            "_________________________________________________________________\n",
            "conv2d_3 (Conv2D)            (None, 87, 87, 32)        25600     \n",
            "_________________________________________________________________\n",
            "activation_3 (Activation)    (None, 87, 87, 32)        0         \n",
            "_________________________________________________________________\n",
            "batch_normalization_3 (Batch (None, 87, 87, 32)        128       \n",
            "_________________________________________________________________\n",
            "max_pooling2d_3 (MaxPooling2 (None, 43, 43, 32)        0         \n",
            "_________________________________________________________________\n",
            "conv2d_4 (Conv2D)            (None, 43, 43, 32)        25600     \n",
            "_________________________________________________________________\n",
            "activation_4 (Activation)    (None, 43, 43, 32)        0         \n",
            "_________________________________________________________________\n",
            "batch_normalization_4 (Batch (None, 43, 43, 32)        128       \n",
            "_________________________________________________________________\n",
            "max_pooling2d_4 (MaxPooling2 (None, 21, 21, 32)        0         \n",
            "_________________________________________________________________\n",
            "flatten (Flatten)            (None, 14112)             0         \n",
            "_________________________________________________________________\n",
            "dropout_1 (Dropout)          (None, 14112)             0         \n",
            "_________________________________________________________________\n",
            "dense (Dense)                (None, 512)               7225856   \n",
            "_________________________________________________________________\n",
            "dropout_2 (Dropout)          (None, 512)               0         \n",
            "_________________________________________________________________\n",
            "dense_1 (Dense)              (None, 10)                5130      \n",
            "=================================================================\n",
            "Total params: 7,336,426\n",
            "Trainable params: 7,336,106\n",
            "Non-trainable params: 320\n",
            "_________________________________________________________________\n",
            "Epoch 1/25\n"
          ],
          "name": "stdout"
        },
        {
          "output_type": "stream",
          "text": [
            "\u001b[34m\u001b[1mwandb\u001b[0m: Network error (HTTPError), entering retry loop. See /content/wandb/run-20210415_080134-of81sojs/logs/debug-internal.log for full traceback.\n"
          ],
          "name": "stderr"
        },
        {
          "output_type": "stream",
          "text": [
            "  3/250 [..............................] - ETA: 6:49 - loss: 3.9126 - accuracy: 0.1424"
          ],
          "name": "stdout"
        },
        {
          "output_type": "stream",
          "text": [
            "\u001b[34m\u001b[1mwandb\u001b[0m: Network error (HTTPError), entering retry loop. See /content/wandb/run-20210415_080134-of81sojs/logs/debug-internal.log for full traceback.\n"
          ],
          "name": "stderr"
        },
        {
          "output_type": "stream",
          "text": [
            " 12/250 [>.............................] - ETA: 5:58 - loss: 4.7156 - accuracy: 0.1551"
          ],
          "name": "stdout"
        },
        {
          "output_type": "stream",
          "text": [
            "\u001b[34m\u001b[1mwandb\u001b[0m: Network error resolved after 0:00:17.423632, resuming normal operation.\n"
          ],
          "name": "stderr"
        },
        {
          "output_type": "stream",
          "text": [
            " 25/250 [==>...........................] - ETA: 5:34 - loss: 4.3692 - accuracy: 0.1550"
          ],
          "name": "stdout"
        },
        {
          "output_type": "stream",
          "text": [
            "\u001b[34m\u001b[1mwandb\u001b[0m: Network error (HTTPError), entering retry loop. See /content/wandb/run-20210415_080134-of81sojs/logs/debug-internal.log for full traceback.\n"
          ],
          "name": "stderr"
        },
        {
          "output_type": "stream",
          "text": [
            " 33/250 [==>...........................] - ETA: 5:21 - loss: 4.1916 - accuracy: 0.1547"
          ],
          "name": "stdout"
        },
        {
          "output_type": "stream",
          "text": [
            "\u001b[34m\u001b[1mwandb\u001b[0m: Network error (HTTPError), entering retry loop. See /content/wandb/run-20210415_080134-of81sojs/logs/debug-internal.log for full traceback.\n"
          ],
          "name": "stderr"
        },
        {
          "output_type": "stream",
          "text": [
            " 54/250 [=====>........................] - ETA: 4:49 - loss: 3.8420 - accuracy: 0.1510"
          ],
          "name": "stdout"
        },
        {
          "output_type": "stream",
          "text": [
            "\u001b[34m\u001b[1mwandb\u001b[0m: Network error (HTTPError), entering retry loop. See /content/wandb/run-20210415_080134-of81sojs/logs/debug-internal.log for full traceback.\n"
          ],
          "name": "stderr"
        },
        {
          "output_type": "stream",
          "text": [
            " 58/250 [=====>........................] - ETA: 4:43 - loss: 3.7925 - accuracy: 0.1501"
          ],
          "name": "stdout"
        },
        {
          "output_type": "stream",
          "text": [
            "\u001b[34m\u001b[1mwandb\u001b[0m: Network error resolved after 0:00:08.919278, resuming normal operation.\n"
          ],
          "name": "stderr"
        },
        {
          "output_type": "stream",
          "text": [
            " 67/250 [=======>......................] - ETA: 4:30 - loss: 3.6949 - accuracy: 0.1483"
          ],
          "name": "stdout"
        },
        {
          "output_type": "stream",
          "text": [
            "\u001b[34m\u001b[1mwandb\u001b[0m: Network error (HTTPError), entering retry loop. See /content/wandb/run-20210415_080134-of81sojs/logs/debug-internal.log for full traceback.\n"
          ],
          "name": "stderr"
        },
        {
          "output_type": "stream",
          "text": [
            " 76/250 [========>.....................] - ETA: 4:17 - loss: 3.6127 - accuracy: 0.1472"
          ],
          "name": "stdout"
        },
        {
          "output_type": "stream",
          "text": [
            "\u001b[34m\u001b[1mwandb\u001b[0m: Network error (HTTPError), entering retry loop. See /content/wandb/run-20210415_080134-of81sojs/logs/debug-internal.log for full traceback.\n"
          ],
          "name": "stderr"
        },
        {
          "output_type": "stream",
          "text": [
            " 86/250 [=========>....................] - ETA: 4:02 - loss: 3.5357 - accuracy: 0.1466"
          ],
          "name": "stdout"
        },
        {
          "output_type": "stream",
          "text": [
            "\u001b[34m\u001b[1mwandb\u001b[0m: Network error (HTTPError), entering retry loop. See /content/wandb/run-20210415_080134-of81sojs/logs/debug-internal.log for full traceback.\n"
          ],
          "name": "stderr"
        },
        {
          "output_type": "stream",
          "text": [
            " 95/250 [==========>...................] - ETA: 3:48 - loss: 3.4761 - accuracy: 0.1462"
          ],
          "name": "stdout"
        },
        {
          "output_type": "stream",
          "text": [
            "\u001b[34m\u001b[1mwandb\u001b[0m: Network error (HTTPError), entering retry loop. See /content/wandb/run-20210415_080134-of81sojs/logs/debug-internal.log for full traceback.\n"
          ],
          "name": "stderr"
        },
        {
          "output_type": "stream",
          "text": [
            "106/250 [===========>..................] - ETA: 3:32 - loss: 3.4126 - accuracy: 0.1458"
          ],
          "name": "stdout"
        },
        {
          "output_type": "stream",
          "text": [
            "\u001b[34m\u001b[1mwandb\u001b[0m: Network error (HTTPError), entering retry loop. See /content/wandb/run-20210415_080134-of81sojs/logs/debug-internal.log for full traceback.\n"
          ],
          "name": "stderr"
        },
        {
          "output_type": "stream",
          "text": [
            "109/250 [============>.................] - ETA: 3:28 - loss: 3.3969 - accuracy: 0.1457"
          ],
          "name": "stdout"
        },
        {
          "output_type": "stream",
          "text": [
            "\u001b[34m\u001b[1mwandb\u001b[0m: Network error resolved after 0:00:08.923765, resuming normal operation.\n"
          ],
          "name": "stderr"
        },
        {
          "output_type": "stream",
          "text": [
            "117/250 [=============>................] - ETA: 3:16 - loss: 3.3578 - accuracy: 0.1456"
          ],
          "name": "stdout"
        },
        {
          "output_type": "stream",
          "text": [
            "\u001b[34m\u001b[1mwandb\u001b[0m: Network error (HTTPError), entering retry loop. See /content/wandb/run-20210415_080134-of81sojs/logs/debug-internal.log for full traceback.\n"
          ],
          "name": "stderr"
        },
        {
          "output_type": "stream",
          "text": [
            "128/250 [==============>...............] - ETA: 2:59 - loss: 3.3093 - accuracy: 0.1458"
          ],
          "name": "stdout"
        },
        {
          "output_type": "stream",
          "text": [
            "\u001b[34m\u001b[1mwandb\u001b[0m: Network error (HTTPError), entering retry loop. See /content/wandb/run-20210415_080134-of81sojs/logs/debug-internal.log for full traceback.\n"
          ],
          "name": "stderr"
        },
        {
          "output_type": "stream",
          "text": [
            "138/250 [===============>..............] - ETA: 2:45 - loss: 3.2702 - accuracy: 0.1460"
          ],
          "name": "stdout"
        },
        {
          "output_type": "stream",
          "text": [
            "\u001b[34m\u001b[1mwandb\u001b[0m: Network error (HTTPError), entering retry loop. See /content/wandb/run-20210415_080134-of81sojs/logs/debug-internal.log for full traceback.\n"
          ],
          "name": "stderr"
        },
        {
          "output_type": "stream",
          "text": [
            "156/250 [=================>............] - ETA: 2:18 - loss: 3.2102 - accuracy: 0.1460"
          ],
          "name": "stdout"
        },
        {
          "output_type": "stream",
          "text": [
            "\u001b[34m\u001b[1mwandb\u001b[0m: Network error (HTTPError), entering retry loop. See /content/wandb/run-20210415_080134-of81sojs/logs/debug-internal.log for full traceback.\n"
          ],
          "name": "stderr"
        },
        {
          "output_type": "stream",
          "text": [
            "159/250 [==================>...........] - ETA: 2:14 - loss: 3.2013 - accuracy: 0.1460"
          ],
          "name": "stdout"
        },
        {
          "output_type": "stream",
          "text": [
            "\u001b[34m\u001b[1mwandb\u001b[0m: Network error resolved after 0:00:08.862500, resuming normal operation.\n"
          ],
          "name": "stderr"
        },
        {
          "output_type": "stream",
          "text": [
            "169/250 [===================>..........] - ETA: 1:59 - loss: 3.1732 - accuracy: 0.1459"
          ],
          "name": "stdout"
        },
        {
          "output_type": "stream",
          "text": [
            "\u001b[34m\u001b[1mwandb\u001b[0m: Network error (HTTPError), entering retry loop. See /content/wandb/run-20210415_080134-of81sojs/logs/debug-internal.log for full traceback.\n"
          ],
          "name": "stderr"
        },
        {
          "output_type": "stream",
          "text": [
            "178/250 [====================>.........] - ETA: 1:46 - loss: 3.1500 - accuracy: 0.1457"
          ],
          "name": "stdout"
        },
        {
          "output_type": "stream",
          "text": [
            "\u001b[34m\u001b[1mwandb\u001b[0m: Network error (HTTPError), entering retry loop. See /content/wandb/run-20210415_080134-of81sojs/logs/debug-internal.log for full traceback.\n"
          ],
          "name": "stderr"
        },
        {
          "output_type": "stream",
          "text": [
            "186/250 [=====================>........] - ETA: 1:34 - loss: 3.1307 - accuracy: 0.1456"
          ],
          "name": "stdout"
        },
        {
          "output_type": "stream",
          "text": [
            "\u001b[34m\u001b[1mwandb\u001b[0m: Network error (HTTPError), entering retry loop. See /content/wandb/run-20210415_080134-of81sojs/logs/debug-internal.log for full traceback.\n"
          ],
          "name": "stderr"
        },
        {
          "output_type": "stream",
          "text": [
            "196/250 [======================>.......] - ETA: 1:19 - loss: 3.1084 - accuracy: 0.1455"
          ],
          "name": "stdout"
        },
        {
          "output_type": "stream",
          "text": [
            "\u001b[34m\u001b[1mwandb\u001b[0m: Network error (HTTPError), entering retry loop. See /content/wandb/run-20210415_080134-of81sojs/logs/debug-internal.log for full traceback.\n"
          ],
          "name": "stderr"
        },
        {
          "output_type": "stream",
          "text": [
            "205/250 [=======================>......] - ETA: 1:06 - loss: 3.0896 - accuracy: 0.1454"
          ],
          "name": "stdout"
        },
        {
          "output_type": "stream",
          "text": [
            "\u001b[34m\u001b[1mwandb\u001b[0m: Network error resolved after 0:00:17.334007, resuming normal operation.\n"
          ],
          "name": "stderr"
        },
        {
          "output_type": "stream",
          "text": [
            "216/250 [========================>.....] - ETA: 50s - loss: 3.0684 - accuracy: 0.1453"
          ],
          "name": "stdout"
        },
        {
          "output_type": "stream",
          "text": [
            "\u001b[34m\u001b[1mwandb\u001b[0m: Network error (HTTPError), entering retry loop. See /content/wandb/run-20210415_080134-of81sojs/logs/debug-internal.log for full traceback.\n"
          ],
          "name": "stderr"
        },
        {
          "output_type": "stream",
          "text": [
            "227/250 [==========================>...] - ETA: 34s - loss: 3.0488 - accuracy: 0.1453"
          ],
          "name": "stdout"
        },
        {
          "output_type": "stream",
          "text": [
            "\u001b[34m\u001b[1mwandb\u001b[0m: Network error (HTTPError), entering retry loop. See /content/wandb/run-20210415_080134-of81sojs/logs/debug-internal.log for full traceback.\n"
          ],
          "name": "stderr"
        },
        {
          "output_type": "stream",
          "text": [
            "248/250 [============================>.] - ETA: 2s - loss: 3.0149 - accuracy: 0.1452"
          ],
          "name": "stdout"
        },
        {
          "output_type": "stream",
          "text": [
            "\u001b[34m\u001b[1mwandb\u001b[0m: Network error (HTTPError), entering retry loop. See /content/wandb/run-20210415_080134-of81sojs/logs/debug-internal.log for full traceback.\n"
          ],
          "name": "stderr"
        },
        {
          "output_type": "stream",
          "text": [
            "250/250 [==============================] - ETA: 0s - loss: 3.0119 - accuracy: 0.1453"
          ],
          "name": "stdout"
        },
        {
          "output_type": "stream",
          "text": [
            "\u001b[34m\u001b[1mwandb\u001b[0m: Network error resolved after 0:00:18.639009, resuming normal operation.\n",
            "\u001b[34m\u001b[1mwandb\u001b[0m: Network error (HTTPError), entering retry loop. See /content/wandb/run-20210415_080134-of81sojs/logs/debug-internal.log for full traceback.\n"
          ],
          "name": "stderr"
        },
        {
          "output_type": "stream",
          "text": [
            "\b\b\b\b\b\b\b\b\b\b\b\b\b\b\b\b\b\b\b\b\b\b\b\b\b\b\b\b\b\b\b\b\b\b\b\b\b\b\b\b\b\b\b\b\b\b\b\b\b\b\b\b\b\b\b\b\b\b\b\b\b\b\b\b\b\b\b\b\b\b\b\b\b\b\b\b\b\b\b\b\b\b\b\b\r250/250 [==============================] - 464s 2s/step - loss: 3.0104 - accuracy: 0.1453 - val_loss: 2.5752 - val_accuracy: 0.1476\n",
            "Epoch 2/25\n"
          ],
          "name": "stdout"
        },
        {
          "output_type": "stream",
          "text": [
            "\u001b[34m\u001b[1mwandb\u001b[0m: Network error (HTTPError), entering retry loop. See /content/wandb/run-20210415_080134-of81sojs/logs/debug-internal.log for full traceback.\n"
          ],
          "name": "stderr"
        },
        {
          "output_type": "stream",
          "text": [
            " 13/250 [>.............................] - ETA: 5:43 - loss: 2.4995 - accuracy: 0.1509"
          ],
          "name": "stdout"
        },
        {
          "output_type": "stream",
          "text": [
            "\u001b[34m\u001b[1mwandb\u001b[0m: Network error (HTTPError), entering retry loop. See /content/wandb/run-20210415_080134-of81sojs/logs/debug-internal.log for full traceback.\n"
          ],
          "name": "stderr"
        },
        {
          "output_type": "stream",
          "text": [
            " 16/250 [>.............................] - ETA: 5:39 - loss: 2.4890 - accuracy: 0.1528"
          ],
          "name": "stdout"
        },
        {
          "output_type": "stream",
          "text": [
            "\u001b[34m\u001b[1mwandb\u001b[0m: Network error resolved after 0:00:08.265611, resuming normal operation.\n"
          ],
          "name": "stderr"
        },
        {
          "output_type": "stream",
          "text": [
            " 22/250 [=>............................] - ETA: 5:32 - loss: 2.4797 - accuracy: 0.1544"
          ],
          "name": "stdout"
        },
        {
          "output_type": "stream",
          "text": [
            "\u001b[34m\u001b[1mwandb\u001b[0m: Network error (HTTPError), entering retry loop. See /content/wandb/run-20210415_080134-of81sojs/logs/debug-internal.log for full traceback.\n"
          ],
          "name": "stderr"
        },
        {
          "output_type": "stream",
          "text": [
            " 33/250 [==>...........................] - ETA: 5:16 - loss: 2.4630 - accuracy: 0.1565"
          ],
          "name": "stdout"
        },
        {
          "output_type": "stream",
          "text": [
            "\u001b[34m\u001b[1mwandb\u001b[0m: Network error (HTTPError), entering retry loop. See /content/wandb/run-20210415_080134-of81sojs/logs/debug-internal.log for full traceback.\n"
          ],
          "name": "stderr"
        },
        {
          "output_type": "stream",
          "text": [
            " 42/250 [====>.........................] - ETA: 5:03 - loss: 2.4557 - accuracy: 0.1577"
          ],
          "name": "stdout"
        },
        {
          "output_type": "stream",
          "text": [
            "\u001b[34m\u001b[1mwandb\u001b[0m: Network error (HTTPError), entering retry loop. See /content/wandb/run-20210415_080134-of81sojs/logs/debug-internal.log for full traceback.\n"
          ],
          "name": "stderr"
        },
        {
          "output_type": "stream",
          "text": [
            " 51/250 [=====>........................] - ETA: 4:49 - loss: 2.4502 - accuracy: 0.1592"
          ],
          "name": "stdout"
        },
        {
          "output_type": "stream",
          "text": [
            "\u001b[34m\u001b[1mwandb\u001b[0m: Network error (HTTPError), entering retry loop. See /content/wandb/run-20210415_080134-of81sojs/logs/debug-internal.log for full traceback.\n"
          ],
          "name": "stderr"
        },
        {
          "output_type": "stream",
          "text": [
            " 59/250 [======>.......................] - ETA: 4:38 - loss: 2.4473 - accuracy: 0.1600"
          ],
          "name": "stdout"
        },
        {
          "output_type": "stream",
          "text": [
            "\u001b[34m\u001b[1mwandb\u001b[0m: Network error resolved after 0:00:16.210157, resuming normal operation.\n"
          ],
          "name": "stderr"
        },
        {
          "output_type": "stream",
          "text": [
            " 72/250 [=======>......................] - ETA: 4:19 - loss: 2.4423 - accuracy: 0.1614"
          ],
          "name": "stdout"
        },
        {
          "output_type": "stream",
          "text": [
            "\u001b[34m\u001b[1mwandb\u001b[0m: Network error (HTTPError), entering retry loop. See /content/wandb/run-20210415_080134-of81sojs/logs/debug-internal.log for full traceback.\n"
          ],
          "name": "stderr"
        },
        {
          "output_type": "stream",
          "text": [
            " 84/250 [=========>....................] - ETA: 4:01 - loss: 2.4392 - accuracy: 0.1623"
          ],
          "name": "stdout"
        },
        {
          "output_type": "stream",
          "text": [
            "\u001b[34m\u001b[1mwandb\u001b[0m: Network error (HTTPError), entering retry loop. See /content/wandb/run-20210415_080134-of81sojs/logs/debug-internal.log for full traceback.\n"
          ],
          "name": "stderr"
        },
        {
          "output_type": "stream",
          "text": [
            " 95/250 [==========>...................] - ETA: 3:45 - loss: 2.4370 - accuracy: 0.1632"
          ],
          "name": "stdout"
        },
        {
          "output_type": "stream",
          "text": [
            "\u001b[34m\u001b[1mwandb\u001b[0m: Network error (HTTPError), entering retry loop. See /content/wandb/run-20210415_080134-of81sojs/logs/debug-internal.log for full traceback.\n"
          ],
          "name": "stderr"
        },
        {
          "output_type": "stream",
          "text": [
            "106/250 [===========>..................] - ETA: 3:29 - loss: 2.4347 - accuracy: 0.1642"
          ],
          "name": "stdout"
        },
        {
          "output_type": "stream",
          "text": [
            "\u001b[34m\u001b[1mwandb\u001b[0m: Network error (HTTPError), entering retry loop. See /content/wandb/run-20210415_080134-of81sojs/logs/debug-internal.log for full traceback.\n"
          ],
          "name": "stderr"
        },
        {
          "output_type": "stream",
          "text": [
            "109/250 [============>.................] - ETA: 3:24 - loss: 2.4342 - accuracy: 0.1644"
          ],
          "name": "stdout"
        },
        {
          "output_type": "stream",
          "text": [
            "\u001b[34m\u001b[1mwandb\u001b[0m: Network error resolved after 0:00:08.620092, resuming normal operation.\n"
          ],
          "name": "stderr"
        },
        {
          "output_type": "stream",
          "text": [
            "116/250 [============>.................] - ETA: 3:14 - loss: 2.4327 - accuracy: 0.1649"
          ],
          "name": "stdout"
        },
        {
          "output_type": "stream",
          "text": [
            "\u001b[34m\u001b[1mwandb\u001b[0m: Network error (HTTPError), entering retry loop. See /content/wandb/run-20210415_080134-of81sojs/logs/debug-internal.log for full traceback.\n"
          ],
          "name": "stderr"
        },
        {
          "output_type": "stream",
          "text": [
            "126/250 [==============>...............] - ETA: 2:59 - loss: 2.4302 - accuracy: 0.1655"
          ],
          "name": "stdout"
        },
        {
          "output_type": "stream",
          "text": [
            "\u001b[34m\u001b[1mwandb\u001b[0m: Network error (HTTPError), entering retry loop. See /content/wandb/run-20210415_080134-of81sojs/logs/debug-internal.log for full traceback.\n"
          ],
          "name": "stderr"
        },
        {
          "output_type": "stream",
          "text": [
            "135/250 [===============>..............] - ETA: 2:46 - loss: 2.4285 - accuracy: 0.1659"
          ],
          "name": "stdout"
        },
        {
          "output_type": "stream",
          "text": [
            "\u001b[34m\u001b[1mwandb\u001b[0m: Network error (HTTPError), entering retry loop. See /content/wandb/run-20210415_080134-of81sojs/logs/debug-internal.log for full traceback.\n"
          ],
          "name": "stderr"
        },
        {
          "output_type": "stream",
          "text": [
            "146/250 [================>.............] - ETA: 2:30 - loss: 2.4264 - accuracy: 0.1664"
          ],
          "name": "stdout"
        },
        {
          "output_type": "stream",
          "text": [
            "\u001b[34m\u001b[1mwandb\u001b[0m: Network error (HTTPError), entering retry loop. See /content/wandb/run-20210415_080134-of81sojs/logs/debug-internal.log for full traceback.\n"
          ],
          "name": "stderr"
        },
        {
          "output_type": "stream",
          "text": [
            "155/250 [=================>............] - ETA: 2:17 - loss: 2.4249 - accuracy: 0.1668"
          ],
          "name": "stdout"
        },
        {
          "output_type": "stream",
          "text": [
            "\u001b[34m\u001b[1mwandb\u001b[0m: Network error (HTTPError), entering retry loop. See /content/wandb/run-20210415_080134-of81sojs/logs/debug-internal.log for full traceback.\n"
          ],
          "name": "stderr"
        },
        {
          "output_type": "stream",
          "text": [
            "164/250 [==================>...........] - ETA: 2:04 - loss: 2.4235 - accuracy: 0.1671"
          ],
          "name": "stdout"
        },
        {
          "output_type": "stream",
          "text": [
            "\u001b[34m\u001b[1mwandb\u001b[0m: Network error resolved after 0:00:16.860009, resuming normal operation.\n"
          ],
          "name": "stderr"
        },
        {
          "output_type": "stream",
          "text": [
            "177/250 [====================>.........] - ETA: 1:45 - loss: 2.4216 - accuracy: 0.1674"
          ],
          "name": "stdout"
        },
        {
          "output_type": "stream",
          "text": [
            "\u001b[34m\u001b[1mwandb\u001b[0m: Network error (HTTPError), entering retry loop. See /content/wandb/run-20210415_080134-of81sojs/logs/debug-internal.log for full traceback.\n"
          ],
          "name": "stderr"
        },
        {
          "output_type": "stream",
          "text": [
            "188/250 [=====================>........] - ETA: 1:29 - loss: 2.4202 - accuracy: 0.1676"
          ],
          "name": "stdout"
        },
        {
          "output_type": "stream",
          "text": [
            "\u001b[34m\u001b[1mwandb\u001b[0m: Network error (HTTPError), entering retry loop. See /content/wandb/run-20210415_080134-of81sojs/logs/debug-internal.log for full traceback.\n"
          ],
          "name": "stderr"
        },
        {
          "output_type": "stream",
          "text": [
            "199/250 [======================>.......] - ETA: 1:13 - loss: 2.4192 - accuracy: 0.1677"
          ],
          "name": "stdout"
        },
        {
          "output_type": "stream",
          "text": [
            "\u001b[34m\u001b[1mwandb\u001b[0m: Network error (HTTPError), entering retry loop. See /content/wandb/run-20210415_080134-of81sojs/logs/debug-internal.log for full traceback.\n"
          ],
          "name": "stderr"
        },
        {
          "output_type": "stream",
          "text": [
            "210/250 [========================>.....] - ETA: 57s - loss: 2.4183 - accuracy: 0.1678"
          ],
          "name": "stdout"
        },
        {
          "output_type": "stream",
          "text": [
            "\u001b[34m\u001b[1mwandb\u001b[0m: Network error (HTTPError), entering retry loop. See /content/wandb/run-20210415_080134-of81sojs/logs/debug-internal.log for full traceback.\n"
          ],
          "name": "stderr"
        },
        {
          "output_type": "stream",
          "text": [
            "214/250 [========================>.....] - ETA: 51s - loss: 2.4181 - accuracy: 0.1678"
          ],
          "name": "stdout"
        },
        {
          "output_type": "stream",
          "text": [
            "\u001b[34m\u001b[1mwandb\u001b[0m: Network error resolved after 0:00:09.029088, resuming normal operation.\n"
          ],
          "name": "stderr"
        },
        {
          "output_type": "stream",
          "text": [
            "232/250 [==========================>...] - ETA: 25s - loss: 2.4172 - accuracy: 0.1678"
          ],
          "name": "stdout"
        },
        {
          "output_type": "stream",
          "text": [
            "\u001b[34m\u001b[1mwandb\u001b[0m: Network error (HTTPError), entering retry loop. See /content/wandb/run-20210415_080134-of81sojs/logs/debug-internal.log for full traceback.\n"
          ],
          "name": "stderr"
        },
        {
          "output_type": "stream",
          "text": [
            "241/250 [===========================>..] - ETA: 12s - loss: 2.4168 - accuracy: 0.1678"
          ],
          "name": "stdout"
        },
        {
          "output_type": "stream",
          "text": [
            "\u001b[34m\u001b[1mwandb\u001b[0m: Network error (HTTPError), entering retry loop. See /content/wandb/run-20210415_080134-of81sojs/logs/debug-internal.log for full traceback.\n"
          ],
          "name": "stderr"
        },
        {
          "output_type": "stream",
          "text": [
            "250/250 [==============================] - ETA: 0s - loss: 2.4165 - accuracy: 0.1678"
          ],
          "name": "stdout"
        },
        {
          "output_type": "stream",
          "text": [
            "\u001b[34m\u001b[1mwandb\u001b[0m: Network error (HTTPError), entering retry loop. See /content/wandb/run-20210415_080134-of81sojs/logs/debug-internal.log for full traceback.\n",
            "\u001b[34m\u001b[1mwandb\u001b[0m: Network error (HTTPError), entering retry loop. See /content/wandb/run-20210415_080134-of81sojs/logs/debug-internal.log for full traceback.\n",
            "\u001b[34m\u001b[1mwandb\u001b[0m: Network error resolved after 0:00:08.330601, resuming normal operation.\n",
            "\u001b[34m\u001b[1mwandb\u001b[0m: Network error (HTTPError), entering retry loop. See /content/wandb/run-20210415_080134-of81sojs/logs/debug-internal.log for full traceback.\n"
          ],
          "name": "stderr"
        },
        {
          "output_type": "stream",
          "text": [
            "\b\b\b\b\b\b\b\b\b\b\b\b\b\b\b\b\b\b\b\b\b\b\b\b\b\b\b\b\b\b\b\b\b\b\b\b\b\b\b\b\b\b\b\b\b\b\b\b\b\b\b\b\b\b\b\b\b\b\b\b\b\b\b\b\b\b\b\b\b\b\b\b\b\b\b\b\b\b\b\b\b\b\b\b\r250/250 [==============================] - 408s 2s/step - loss: 2.4165 - accuracy: 0.1678 - val_loss: 2.6238 - val_accuracy: 0.1051\n",
            "Epoch 3/25\n"
          ],
          "name": "stdout"
        },
        {
          "output_type": "stream",
          "text": [
            "\u001b[34m\u001b[1mwandb\u001b[0m: Network error (HTTPError), entering retry loop. See /content/wandb/run-20210415_080134-of81sojs/logs/debug-internal.log for full traceback.\n"
          ],
          "name": "stderr"
        },
        {
          "output_type": "stream",
          "text": [
            " 10/250 [>.............................] - ETA: 5:43 - loss: 2.3787 - accuracy: 0.1879"
          ],
          "name": "stdout"
        },
        {
          "output_type": "stream",
          "text": [
            "\u001b[34m\u001b[1mwandb\u001b[0m: Network error (HTTPError), entering retry loop. See /content/wandb/run-20210415_080134-of81sojs/logs/debug-internal.log for full traceback.\n"
          ],
          "name": "stderr"
        },
        {
          "output_type": "stream",
          "text": [
            " 19/250 [=>............................] - ETA: 5:29 - loss: 2.3588 - accuracy: 0.1935"
          ],
          "name": "stdout"
        },
        {
          "output_type": "stream",
          "text": [
            "\u001b[34m\u001b[1mwandb\u001b[0m: Network error (HTTPError), entering retry loop. See /content/wandb/run-20210415_080134-of81sojs/logs/debug-internal.log for full traceback.\n"
          ],
          "name": "stderr"
        },
        {
          "output_type": "stream",
          "text": [
            " 29/250 [==>...........................] - ETA: 5:14 - loss: 2.3605 - accuracy: 0.1886"
          ],
          "name": "stdout"
        },
        {
          "output_type": "stream",
          "text": [
            "\u001b[34m\u001b[1mwandb\u001b[0m: Network error (HTTPError), entering retry loop. See /content/wandb/run-20210415_080134-of81sojs/logs/debug-internal.log for full traceback.\n"
          ],
          "name": "stderr"
        },
        {
          "output_type": "stream",
          "text": [
            " 32/250 [==>...........................] - ETA: 5:10 - loss: 2.3616 - accuracy: 0.1873"
          ],
          "name": "stdout"
        },
        {
          "output_type": "stream",
          "text": [
            "\u001b[34m\u001b[1mwandb\u001b[0m: Network error resolved after 0:00:09.094965, resuming normal operation.\n"
          ],
          "name": "stderr"
        },
        {
          "output_type": "stream",
          "text": [
            " 50/250 [=====>........................] - ETA: 4:44 - loss: 2.3657 - accuracy: 0.1805"
          ],
          "name": "stdout"
        },
        {
          "output_type": "stream",
          "text": [
            "\u001b[34m\u001b[1mwandb\u001b[0m: Network error (HTTPError), entering retry loop. See /content/wandb/run-20210415_080134-of81sojs/logs/debug-internal.log for full traceback.\n"
          ],
          "name": "stderr"
        },
        {
          "output_type": "stream",
          "text": [
            " 71/250 [=======>......................] - ETA: 4:15 - loss: 2.3679 - accuracy: 0.1774"
          ],
          "name": "stdout"
        },
        {
          "output_type": "stream",
          "text": [
            "\u001b[34m\u001b[1mwandb\u001b[0m: Network error (HTTPError), entering retry loop. See /content/wandb/run-20210415_080134-of81sojs/logs/debug-internal.log for full traceback.\n"
          ],
          "name": "stderr"
        },
        {
          "output_type": "stream",
          "text": [
            " 75/250 [========>.....................] - ETA: 4:09 - loss: 2.3682 - accuracy: 0.1768"
          ],
          "name": "stdout"
        },
        {
          "output_type": "stream",
          "text": [
            "\u001b[34m\u001b[1mwandb\u001b[0m: Network error resolved after 0:00:08.888320, resuming normal operation.\n"
          ],
          "name": "stderr"
        },
        {
          "output_type": "stream",
          "text": [
            " 92/250 [==========>...................] - ETA: 3:45 - loss: 2.3691 - accuracy: 0.1742"
          ],
          "name": "stdout"
        },
        {
          "output_type": "stream",
          "text": [
            "\u001b[34m\u001b[1mwandb\u001b[0m: Network error (HTTPError), entering retry loop. See /content/wandb/run-20210415_080134-of81sojs/logs/debug-internal.log for full traceback.\n"
          ],
          "name": "stderr"
        },
        {
          "output_type": "stream",
          "text": [
            "113/250 [============>.................] - ETA: 3:15 - loss: 2.3680 - accuracy: 0.1718"
          ],
          "name": "stdout"
        },
        {
          "output_type": "stream",
          "text": [
            "\u001b[34m\u001b[1mwandb\u001b[0m: Network error (HTTPError), entering retry loop. See /content/wandb/run-20210415_080134-of81sojs/logs/debug-internal.log for full traceback.\n"
          ],
          "name": "stderr"
        },
        {
          "output_type": "stream",
          "text": [
            "123/250 [=============>................] - ETA: 3:00 - loss: 2.3670 - accuracy: 0.1710"
          ],
          "name": "stdout"
        },
        {
          "output_type": "stream",
          "text": [
            "\u001b[34m\u001b[1mwandb\u001b[0m: Network error resolved after 0:00:17.888226, resuming normal operation.\n"
          ],
          "name": "stderr"
        },
        {
          "output_type": "stream",
          "text": [
            "137/250 [===============>..............] - ETA: 2:41 - loss: 2.3655 - accuracy: 0.1703"
          ],
          "name": "stdout"
        },
        {
          "output_type": "stream",
          "text": [
            "\u001b[34m\u001b[1mwandb\u001b[0m: Network error (HTTPError), entering retry loop. See /content/wandb/run-20210415_080134-of81sojs/logs/debug-internal.log for full traceback.\n"
          ],
          "name": "stderr"
        },
        {
          "output_type": "stream",
          "text": [
            "148/250 [================>.............] - ETA: 2:25 - loss: 2.3646 - accuracy: 0.1698"
          ],
          "name": "stdout"
        },
        {
          "output_type": "stream",
          "text": [
            "\u001b[34m\u001b[1mwandb\u001b[0m: Network error (HTTPError), entering retry loop. See /content/wandb/run-20210415_080134-of81sojs/logs/debug-internal.log for full traceback.\n"
          ],
          "name": "stderr"
        },
        {
          "output_type": "stream",
          "text": [
            "157/250 [=================>............] - ETA: 2:12 - loss: 2.3636 - accuracy: 0.1694"
          ],
          "name": "stdout"
        },
        {
          "output_type": "stream",
          "text": [
            "\u001b[34m\u001b[1mwandb\u001b[0m: Network error (HTTPError), entering retry loop. See /content/wandb/run-20210415_080134-of81sojs/logs/debug-internal.log for full traceback.\n"
          ],
          "name": "stderr"
        },
        {
          "output_type": "stream",
          "text": [
            "166/250 [==================>...........] - ETA: 1:59 - loss: 2.3625 - accuracy: 0.1692"
          ],
          "name": "stdout"
        },
        {
          "output_type": "stream",
          "text": [
            "\u001b[34m\u001b[1mwandb\u001b[0m: Network error (HTTPError), entering retry loop. See /content/wandb/run-20210415_080134-of81sojs/logs/debug-internal.log for full traceback.\n"
          ],
          "name": "stderr"
        },
        {
          "output_type": "stream",
          "text": [
            "170/250 [===================>..........] - ETA: 1:53 - loss: 2.3620 - accuracy: 0.1691"
          ],
          "name": "stdout"
        },
        {
          "output_type": "stream",
          "text": [
            "\u001b[34m\u001b[1mwandb\u001b[0m: Network error resolved after 0:00:09.257335, resuming normal operation.\n"
          ],
          "name": "stderr"
        },
        {
          "output_type": "stream",
          "text": [
            "176/250 [====================>.........] - ETA: 1:45 - loss: 2.3613 - accuracy: 0.1690"
          ],
          "name": "stdout"
        },
        {
          "output_type": "stream",
          "text": [
            "\u001b[34m\u001b[1mwandb\u001b[0m: Network error (HTTPError), entering retry loop. See /content/wandb/run-20210415_080134-of81sojs/logs/debug-internal.log for full traceback.\n"
          ],
          "name": "stderr"
        },
        {
          "output_type": "stream",
          "text": [
            "197/250 [======================>.......] - ETA: 1:15 - loss: 2.3590 - accuracy: 0.1686"
          ],
          "name": "stdout"
        },
        {
          "output_type": "stream",
          "text": [
            "\u001b[34m\u001b[1mwandb\u001b[0m: Network error (HTTPError), entering retry loop. See /content/wandb/run-20210415_080134-of81sojs/logs/debug-internal.log for full traceback.\n"
          ],
          "name": "stderr"
        },
        {
          "output_type": "stream",
          "text": [
            "210/250 [========================>.....] - ETA: 57s - loss: 2.3577 - accuracy: 0.1683"
          ],
          "name": "stdout"
        },
        {
          "output_type": "stream",
          "text": [
            "\u001b[34m\u001b[1mwandb\u001b[0m: Network error (HTTPError), entering retry loop. See /content/wandb/run-20210415_080134-of81sojs/logs/debug-internal.log for full traceback.\n"
          ],
          "name": "stderr"
        },
        {
          "output_type": "stream",
          "text": [
            "213/250 [========================>.....] - ETA: 52s - loss: 2.3575 - accuracy: 0.1683"
          ],
          "name": "stdout"
        },
        {
          "output_type": "stream",
          "text": [
            "\u001b[34m\u001b[1mwandb\u001b[0m: Network error resolved after 0:00:08.991959, resuming normal operation.\n"
          ],
          "name": "stderr"
        },
        {
          "output_type": "stream",
          "text": [
            "220/250 [=========================>....] - ETA: 42s - loss: 2.3569 - accuracy: 0.1682"
          ],
          "name": "stdout"
        },
        {
          "output_type": "stream",
          "text": [
            "\u001b[34m\u001b[1mwandb\u001b[0m: Network error (HTTPError), entering retry loop. See /content/wandb/run-20210415_080134-of81sojs/logs/debug-internal.log for full traceback.\n"
          ],
          "name": "stderr"
        },
        {
          "output_type": "stream",
          "text": [
            "230/250 [==========================>...] - ETA: 28s - loss: 2.3561 - accuracy: 0.1680"
          ],
          "name": "stdout"
        },
        {
          "output_type": "stream",
          "text": [
            "\u001b[34m\u001b[1mwandb\u001b[0m: Network error (HTTPError), entering retry loop. See /content/wandb/run-20210415_080134-of81sojs/logs/debug-internal.log for full traceback.\n"
          ],
          "name": "stderr"
        },
        {
          "output_type": "stream",
          "text": [
            "240/250 [===========================>..] - ETA: 14s - loss: 2.3555 - accuracy: 0.1678"
          ],
          "name": "stdout"
        },
        {
          "output_type": "stream",
          "text": [
            "\u001b[34m\u001b[1mwandb\u001b[0m: Network error (HTTPError), entering retry loop. See /content/wandb/run-20210415_080134-of81sojs/logs/debug-internal.log for full traceback.\n"
          ],
          "name": "stderr"
        },
        {
          "output_type": "stream",
          "text": [
            "250/250 [==============================] - ETA: 0s - loss: 2.3548 - accuracy: 0.1677"
          ],
          "name": "stdout"
        },
        {
          "output_type": "stream",
          "text": [
            "\u001b[34m\u001b[1mwandb\u001b[0m: Network error (HTTPError), entering retry loop. See /content/wandb/run-20210415_080134-of81sojs/logs/debug-internal.log for full traceback.\n",
            "\u001b[34m\u001b[1mwandb\u001b[0m: Network error resolved after 0:00:18.415615, resuming normal operation.\n",
            "\u001b[34m\u001b[1mwandb\u001b[0m: Network error (HTTPError), entering retry loop. See /content/wandb/run-20210415_080134-of81sojs/logs/debug-internal.log for full traceback.\n"
          ],
          "name": "stderr"
        },
        {
          "output_type": "stream",
          "text": [
            "\b\b\b\b\b\b\b\b\b\b\b\b\b\b\b\b\b\b\b\b\b\b\b\b\b\b\b\b\b\b\b\b\b\b\b\b\b\b\b\b\b\b\b\b\b\b\b\b\b\b\b\b\b\b\b\b\b\b\b\b\b\b\b\b\b\b\b\b\b\b\b\b\b\b\b\b\b\b\b\b\b\b\b\b\r250/250 [==============================] - 405s 2s/step - loss: 2.3548 - accuracy: 0.1676 - val_loss: 2.3055 - val_accuracy: 0.1656\n",
            "Epoch 4/25\n"
          ],
          "name": "stdout"
        },
        {
          "output_type": "stream",
          "text": [
            "\u001b[34m\u001b[1mwandb\u001b[0m: Network error (HTTPError), entering retry loop. See /content/wandb/run-20210415_080134-of81sojs/logs/debug-internal.log for full traceback.\n"
          ],
          "name": "stderr"
        },
        {
          "output_type": "stream",
          "text": [
            " 11/250 [>.............................] - ETA: 5:38 - loss: 2.2537 - accuracy: 0.1898"
          ],
          "name": "stdout"
        },
        {
          "output_type": "stream",
          "text": [
            "\u001b[34m\u001b[1mwandb\u001b[0m: Network error (HTTPError), entering retry loop. See /content/wandb/run-20210415_080134-of81sojs/logs/debug-internal.log for full traceback.\n"
          ],
          "name": "stderr"
        },
        {
          "output_type": "stream",
          "text": [
            " 22/250 [=>............................] - ETA: 5:23 - loss: 2.2691 - accuracy: 0.1867"
          ],
          "name": "stdout"
        },
        {
          "output_type": "stream",
          "text": [
            "\u001b[34m\u001b[1mwandb\u001b[0m: Network error (HTTPError), entering retry loop. See /content/wandb/run-20210415_080134-of81sojs/logs/debug-internal.log for full traceback.\n"
          ],
          "name": "stderr"
        },
        {
          "output_type": "stream",
          "text": [
            " 25/250 [==>...........................] - ETA: 5:19 - loss: 2.2741 - accuracy: 0.1865"
          ],
          "name": "stdout"
        },
        {
          "output_type": "stream",
          "text": [
            "\u001b[34m\u001b[1mwandb\u001b[0m: Network error resolved after 0:00:08.210226, resuming normal operation.\n"
          ],
          "name": "stderr"
        },
        {
          "output_type": "stream",
          "text": [
            " 31/250 [==>...........................] - ETA: 5:11 - loss: 2.2802 - accuracy: 0.1867"
          ],
          "name": "stdout"
        },
        {
          "output_type": "stream",
          "text": [
            "\u001b[34m\u001b[1mwandb\u001b[0m: Network error (HTTPError), entering retry loop. See /content/wandb/run-20210415_080134-of81sojs/logs/debug-internal.log for full traceback.\n"
          ],
          "name": "stderr"
        },
        {
          "output_type": "stream",
          "text": [
            " 40/250 [===>..........................] - ETA: 4:58 - loss: 2.2837 - accuracy: 0.1876"
          ],
          "name": "stdout"
        },
        {
          "output_type": "stream",
          "text": [
            "\u001b[34m\u001b[1mwandb\u001b[0m: Network error (HTTPError), entering retry loop. See /content/wandb/run-20210415_080134-of81sojs/logs/debug-internal.log for full traceback.\n"
          ],
          "name": "stderr"
        },
        {
          "output_type": "stream",
          "text": [
            " 50/250 [=====>........................] - ETA: 4:43 - loss: 2.2851 - accuracy: 0.1883"
          ],
          "name": "stdout"
        },
        {
          "output_type": "stream",
          "text": [
            "\u001b[34m\u001b[1mwandb\u001b[0m: Network error (HTTPError), entering retry loop. See /content/wandb/run-20210415_080134-of81sojs/logs/debug-internal.log for full traceback.\n"
          ],
          "name": "stderr"
        },
        {
          "output_type": "stream",
          "text": [
            " 73/250 [=======>......................] - ETA: 4:11 - loss: 2.2877 - accuracy: 0.1905"
          ],
          "name": "stdout"
        },
        {
          "output_type": "stream",
          "text": [
            "\u001b[34m\u001b[1mwandb\u001b[0m: Network error (HTTPError), entering retry loop. See /content/wandb/run-20210415_080134-of81sojs/logs/debug-internal.log for full traceback.\n"
          ],
          "name": "stderr"
        },
        {
          "output_type": "stream",
          "text": [
            " 77/250 [========>.....................] - ETA: 4:05 - loss: 2.2879 - accuracy: 0.1906"
          ],
          "name": "stdout"
        },
        {
          "output_type": "stream",
          "text": [
            "\u001b[34m\u001b[1mwandb\u001b[0m: Network error resolved after 0:00:08.785498, resuming normal operation.\n"
          ],
          "name": "stderr"
        },
        {
          "output_type": "stream",
          "text": [
            " 84/250 [=========>....................] - ETA: 3:55 - loss: 2.2883 - accuracy: 0.1907"
          ],
          "name": "stdout"
        },
        {
          "output_type": "stream",
          "text": [
            "\u001b[34m\u001b[1mwandb\u001b[0m: Network error (HTTPError), entering retry loop. See /content/wandb/run-20210415_080134-of81sojs/logs/debug-internal.log for full traceback.\n"
          ],
          "name": "stderr"
        },
        {
          "output_type": "stream",
          "text": [
            " 94/250 [==========>...................] - ETA: 3:41 - loss: 2.2888 - accuracy: 0.1909"
          ],
          "name": "stdout"
        },
        {
          "output_type": "stream",
          "text": [
            "\u001b[34m\u001b[1mwandb\u001b[0m: Network error (HTTPError), entering retry loop. See /content/wandb/run-20210415_080134-of81sojs/logs/debug-internal.log for full traceback.\n"
          ],
          "name": "stderr"
        },
        {
          "output_type": "stream",
          "text": [
            "103/250 [===========>..................] - ETA: 3:28 - loss: 2.2894 - accuracy: 0.1910"
          ],
          "name": "stdout"
        },
        {
          "output_type": "stream",
          "text": [
            "\u001b[34m\u001b[1mwandb\u001b[0m: Network error (HTTPError), entering retry loop. See /content/wandb/run-20210415_080134-of81sojs/logs/debug-internal.log for full traceback.\n"
          ],
          "name": "stderr"
        },
        {
          "output_type": "stream",
          "text": [
            "125/250 [==============>...............] - ETA: 2:57 - loss: 2.2897 - accuracy: 0.1912"
          ],
          "name": "stdout"
        },
        {
          "output_type": "stream",
          "text": [
            "\u001b[34m\u001b[1mwandb\u001b[0m: Network error (HTTPError), entering retry loop. See /content/wandb/run-20210415_080134-of81sojs/logs/debug-internal.log for full traceback.\n"
          ],
          "name": "stderr"
        },
        {
          "output_type": "stream",
          "text": [
            "128/250 [==============>...............] - ETA: 2:53 - loss: 2.2898 - accuracy: 0.1911"
          ],
          "name": "stdout"
        },
        {
          "output_type": "stream",
          "text": [
            "\u001b[34m\u001b[1mwandb\u001b[0m: Network error resolved after 0:00:08.721841, resuming normal operation.\n"
          ],
          "name": "stderr"
        },
        {
          "output_type": "stream",
          "text": [
            "135/250 [===============>..............] - ETA: 2:43 - loss: 2.2899 - accuracy: 0.1911"
          ],
          "name": "stdout"
        },
        {
          "output_type": "stream",
          "text": [
            "\u001b[34m\u001b[1mwandb\u001b[0m: Network error (HTTPError), entering retry loop. See /content/wandb/run-20210415_080134-of81sojs/logs/debug-internal.log for full traceback.\n"
          ],
          "name": "stderr"
        },
        {
          "output_type": "stream",
          "text": [
            "156/250 [=================>............] - ETA: 2:13 - loss: 2.2897 - accuracy: 0.1914"
          ],
          "name": "stdout"
        },
        {
          "output_type": "stream",
          "text": [
            "\u001b[34m\u001b[1mwandb\u001b[0m: Network error (HTTPError), entering retry loop. See /content/wandb/run-20210415_080134-of81sojs/logs/debug-internal.log for full traceback.\n"
          ],
          "name": "stderr"
        },
        {
          "output_type": "stream",
          "text": [
            "177/250 [====================>.........] - ETA: 1:43 - loss: 2.2891 - accuracy: 0.1915"
          ],
          "name": "stdout"
        },
        {
          "output_type": "stream",
          "text": [
            "\u001b[34m\u001b[1mwandb\u001b[0m: Network error (HTTPError), entering retry loop. See /content/wandb/run-20210415_080134-of81sojs/logs/debug-internal.log for full traceback.\n"
          ],
          "name": "stderr"
        },
        {
          "output_type": "stream",
          "text": [
            "187/250 [=====================>........] - ETA: 1:29 - loss: 2.2889 - accuracy: 0.1915"
          ],
          "name": "stdout"
        },
        {
          "output_type": "stream",
          "text": [
            "\u001b[34m\u001b[1mwandb\u001b[0m: Network error resolved after 0:00:19.439870, resuming normal operation.\n"
          ],
          "name": "stderr"
        },
        {
          "output_type": "stream",
          "text": [
            "198/250 [======================>.......] - ETA: 1:13 - loss: 2.2891 - accuracy: 0.1914"
          ],
          "name": "stdout"
        },
        {
          "output_type": "stream",
          "text": [
            "\u001b[34m\u001b[1mwandb\u001b[0m: Network error (HTTPError), entering retry loop. See /content/wandb/run-20210415_080134-of81sojs/logs/debug-internal.log for full traceback.\n"
          ],
          "name": "stderr"
        },
        {
          "output_type": "stream",
          "text": [
            "211/250 [========================>.....] - ETA: 55s - loss: 2.2902 - accuracy: 0.1910"
          ],
          "name": "stdout"
        },
        {
          "output_type": "stream",
          "text": [
            "\u001b[34m\u001b[1mwandb\u001b[0m: Network error (HTTPError), entering retry loop. See /content/wandb/run-20210415_080134-of81sojs/logs/debug-internal.log for full traceback.\n"
          ],
          "name": "stderr"
        },
        {
          "output_type": "stream",
          "text": [
            "221/250 [=========================>....] - ETA: 41s - loss: 2.2912 - accuracy: 0.1906"
          ],
          "name": "stdout"
        },
        {
          "output_type": "stream",
          "text": [
            "\u001b[34m\u001b[1mwandb\u001b[0m: Network error (HTTPError), entering retry loop. See /content/wandb/run-20210415_080134-of81sojs/logs/debug-internal.log for full traceback.\n"
          ],
          "name": "stderr"
        },
        {
          "output_type": "stream",
          "text": [
            "231/250 [==========================>...] - ETA: 26s - loss: 2.2924 - accuracy: 0.1902"
          ],
          "name": "stdout"
        },
        {
          "output_type": "stream",
          "text": [
            "\u001b[34m\u001b[1mwandb\u001b[0m: Network error (HTTPError), entering retry loop. See /content/wandb/run-20210415_080134-of81sojs/logs/debug-internal.log for full traceback.\n"
          ],
          "name": "stderr"
        },
        {
          "output_type": "stream",
          "text": [
            "234/250 [===========================>..] - ETA: 22s - loss: 2.2928 - accuracy: 0.1900"
          ],
          "name": "stdout"
        },
        {
          "output_type": "stream",
          "text": [
            "\u001b[34m\u001b[1mwandb\u001b[0m: Network error resolved after 0:00:08.404915, resuming normal operation.\n"
          ],
          "name": "stderr"
        },
        {
          "output_type": "stream",
          "text": [
            "240/250 [===========================>..] - ETA: 14s - loss: 2.2936 - accuracy: 0.1897"
          ],
          "name": "stdout"
        },
        {
          "output_type": "stream",
          "text": [
            "\u001b[34m\u001b[1mwandb\u001b[0m: Network error (HTTPError), entering retry loop. See /content/wandb/run-20210415_080134-of81sojs/logs/debug-internal.log for full traceback.\n"
          ],
          "name": "stderr"
        },
        {
          "output_type": "stream",
          "text": [
            "250/250 [==============================] - ETA: 0s - loss: 2.2950 - accuracy: 0.1892"
          ],
          "name": "stdout"
        },
        {
          "output_type": "stream",
          "text": [
            "\u001b[34m\u001b[1mwandb\u001b[0m: Network error (HTTPError), entering retry loop. See /content/wandb/run-20210415_080134-of81sojs/logs/debug-internal.log for full traceback.\n",
            "\u001b[34m\u001b[1mwandb\u001b[0m: Network error (HTTPError), entering retry loop. See /content/wandb/run-20210415_080134-of81sojs/logs/debug-internal.log for full traceback.\n",
            "\u001b[34m\u001b[1mwandb\u001b[0m: Network error (HTTPError), entering retry loop. See /content/wandb/run-20210415_080134-of81sojs/logs/debug-internal.log for full traceback.\n",
            "\u001b[34m\u001b[1mwandb\u001b[0m: Network error resolved after 0:00:08.790531, resuming normal operation.\n"
          ],
          "name": "stderr"
        },
        {
          "output_type": "stream",
          "text": [
            "\b\b\b\b\b\b\b\b\b\b\b\b\b\b\b\b\b\b\b\b\b\b\b\b\b\b\b\b\b\b\b\b\b\b\b\b\b\b\b\b\b\b\b\b\b\b\b\b\b\b\b\b\b\b\b\b\b\b\b\b\b\b\b\b\b\b\b\b\b\b\b\b\b\b\b\b\b\b\b\b\b\b\b\b\r250/250 [==============================] - 404s 2s/step - loss: 2.2952 - accuracy: 0.1891 - val_loss: 2.3969 - val_accuracy: 0.1101\n",
            "Epoch 5/25\n"
          ],
          "name": "stdout"
        },
        {
          "output_type": "stream",
          "text": [
            "\u001b[34m\u001b[1mwandb\u001b[0m: Network error (HTTPError), entering retry loop. See /content/wandb/run-20210415_080134-of81sojs/logs/debug-internal.log for full traceback.\n"
          ],
          "name": "stderr"
        },
        {
          "output_type": "stream",
          "text": [
            " 20/250 [=>............................] - ETA: 5:24 - loss: 2.3807 - accuracy: 0.1521"
          ],
          "name": "stdout"
        },
        {
          "output_type": "stream",
          "text": [
            "\u001b[34m\u001b[1mwandb\u001b[0m: Network error (HTTPError), entering retry loop. See /content/wandb/run-20210415_080134-of81sojs/logs/debug-internal.log for full traceback.\n"
          ],
          "name": "stderr"
        },
        {
          "output_type": "stream",
          "text": [
            " 33/250 [==>...........................] - ETA: 5:06 - loss: 2.3858 - accuracy: 0.1463"
          ],
          "name": "stdout"
        },
        {
          "output_type": "stream",
          "text": [
            "\u001b[34m\u001b[1mwandb\u001b[0m: Network error (HTTPError), entering retry loop. See /content/wandb/run-20210415_080134-of81sojs/logs/debug-internal.log for full traceback.\n"
          ],
          "name": "stderr"
        },
        {
          "output_type": "stream",
          "text": [
            " 37/250 [===>..........................] - ETA: 5:00 - loss: 2.3873 - accuracy: 0.1449"
          ],
          "name": "stdout"
        },
        {
          "output_type": "stream",
          "text": [
            "\u001b[34m\u001b[1mwandb\u001b[0m: Network error resolved after 0:00:08.776263, resuming normal operation.\n"
          ],
          "name": "stderr"
        },
        {
          "output_type": "stream",
          "text": [
            " 43/250 [====>.........................] - ETA: 4:51 - loss: 2.3891 - accuracy: 0.1432"
          ],
          "name": "stdout"
        },
        {
          "output_type": "stream",
          "text": [
            "\u001b[34m\u001b[1mwandb\u001b[0m: Network error (HTTPError), entering retry loop. See /content/wandb/run-20210415_080134-of81sojs/logs/debug-internal.log for full traceback.\n"
          ],
          "name": "stderr"
        },
        {
          "output_type": "stream",
          "text": [
            " 53/250 [=====>........................] - ETA: 4:37 - loss: 2.3908 - accuracy: 0.1414"
          ],
          "name": "stdout"
        },
        {
          "output_type": "stream",
          "text": [
            "\u001b[34m\u001b[1mwandb\u001b[0m: Network error (HTTPError), entering retry loop. See /content/wandb/run-20210415_080134-of81sojs/logs/debug-internal.log for full traceback.\n"
          ],
          "name": "stderr"
        },
        {
          "output_type": "stream",
          "text": [
            " 62/250 [======>.......................] - ETA: 4:25 - loss: 2.3917 - accuracy: 0.1410"
          ],
          "name": "stdout"
        },
        {
          "output_type": "stream",
          "text": [
            "\u001b[34m\u001b[1mwandb\u001b[0m: Network error (HTTPError), entering retry loop. See /content/wandb/run-20210415_080134-of81sojs/logs/debug-internal.log for full traceback.\n"
          ],
          "name": "stderr"
        },
        {
          "output_type": "stream",
          "text": [
            " 84/250 [=========>....................] - ETA: 3:53 - loss: 2.3932 - accuracy: 0.1400"
          ],
          "name": "stdout"
        },
        {
          "output_type": "stream",
          "text": [
            "\u001b[34m\u001b[1mwandb\u001b[0m: Network error (HTTPError), entering retry loop. See /content/wandb/run-20210415_080134-of81sojs/logs/debug-internal.log for full traceback.\n"
          ],
          "name": "stderr"
        },
        {
          "output_type": "stream",
          "text": [
            " 87/250 [=========>....................] - ETA: 3:49 - loss: 2.3933 - accuracy: 0.1399"
          ],
          "name": "stdout"
        },
        {
          "output_type": "stream",
          "text": [
            "\u001b[34m\u001b[1mwandb\u001b[0m: Network error resolved after 0:00:09.074058, resuming normal operation.\n"
          ],
          "name": "stderr"
        },
        {
          "output_type": "stream",
          "text": [
            "105/250 [===========>..................] - ETA: 3:24 - loss: 2.3924 - accuracy: 0.1397"
          ],
          "name": "stdout"
        },
        {
          "output_type": "stream",
          "text": [
            "\u001b[34m\u001b[1mwandb\u001b[0m: Network error (HTTPError), entering retry loop. See /content/wandb/run-20210415_080134-of81sojs/logs/debug-internal.log for full traceback.\n"
          ],
          "name": "stderr"
        },
        {
          "output_type": "stream",
          "text": [
            "119/250 [=============>................] - ETA: 3:04 - loss: 2.3911 - accuracy: 0.1396"
          ],
          "name": "stdout"
        },
        {
          "output_type": "stream",
          "text": [
            "\u001b[34m\u001b[1mwandb\u001b[0m: Network error (HTTPError), entering retry loop. See /content/wandb/run-20210415_080134-of81sojs/logs/debug-internal.log for full traceback.\n"
          ],
          "name": "stderr"
        },
        {
          "output_type": "stream",
          "text": [
            "138/250 [===============>..............] - ETA: 2:37 - loss: 2.3889 - accuracy: 0.1397"
          ],
          "name": "stdout"
        },
        {
          "output_type": "stream",
          "text": [
            "\u001b[34m\u001b[1mwandb\u001b[0m: Network error (HTTPError), entering retry loop. See /content/wandb/run-20210415_080134-of81sojs/logs/debug-internal.log for full traceback.\n"
          ],
          "name": "stderr"
        },
        {
          "output_type": "stream",
          "text": [
            "142/250 [================>.............] - ETA: 2:32 - loss: 2.3884 - accuracy: 0.1398"
          ],
          "name": "stdout"
        },
        {
          "output_type": "stream",
          "text": [
            "\u001b[34m\u001b[1mwandb\u001b[0m: Network error resolved after 0:00:09.069149, resuming normal operation.\n"
          ],
          "name": "stderr"
        },
        {
          "output_type": "stream",
          "text": [
            "151/250 [=================>............] - ETA: 2:19 - loss: 2.3873 - accuracy: 0.1400"
          ],
          "name": "stdout"
        },
        {
          "output_type": "stream",
          "text": [
            "\u001b[34m\u001b[1mwandb\u001b[0m: Network error (HTTPError), entering retry loop. See /content/wandb/run-20210415_080134-of81sojs/logs/debug-internal.log for full traceback.\n"
          ],
          "name": "stderr"
        },
        {
          "output_type": "stream",
          "text": [
            "171/250 [===================>..........] - ETA: 1:51 - loss: 2.3848 - accuracy: 0.1407"
          ],
          "name": "stdout"
        },
        {
          "output_type": "stream",
          "text": [
            "\u001b[34m\u001b[1mwandb\u001b[0m: Network error (HTTPError), entering retry loop. See /content/wandb/run-20210415_080134-of81sojs/logs/debug-internal.log for full traceback.\n"
          ],
          "name": "stderr"
        },
        {
          "output_type": "stream",
          "text": [
            "181/250 [====================>.........] - ETA: 1:37 - loss: 2.3836 - accuracy: 0.1411"
          ],
          "name": "stdout"
        },
        {
          "output_type": "stream",
          "text": [
            "\u001b[34m\u001b[1mwandb\u001b[0m: Network error (HTTPError), entering retry loop. See /content/wandb/run-20210415_080134-of81sojs/logs/debug-internal.log for full traceback.\n"
          ],
          "name": "stderr"
        },
        {
          "output_type": "stream",
          "text": [
            "190/250 [=====================>........] - ETA: 1:24 - loss: 2.3826 - accuracy: 0.1415"
          ],
          "name": "stdout"
        },
        {
          "output_type": "stream",
          "text": [
            "\u001b[34m\u001b[1mwandb\u001b[0m: Network error (HTTPError), entering retry loop. See /content/wandb/run-20210415_080134-of81sojs/logs/debug-internal.log for full traceback.\n"
          ],
          "name": "stderr"
        },
        {
          "output_type": "stream",
          "text": [
            "201/250 [=======================>......] - ETA: 1:08 - loss: 2.3816 - accuracy: 0.1419"
          ],
          "name": "stdout"
        },
        {
          "output_type": "stream",
          "text": [
            "\u001b[34m\u001b[1mwandb\u001b[0m: Network error resolved after 0:00:18.552216, resuming normal operation.\n"
          ],
          "name": "stderr"
        },
        {
          "output_type": "stream",
          "text": [
            "212/250 [========================>.....] - ETA: 53s - loss: 2.3805 - accuracy: 0.1424"
          ],
          "name": "stdout"
        },
        {
          "output_type": "stream",
          "text": [
            "\u001b[34m\u001b[1mwandb\u001b[0m: Network error (HTTPError), entering retry loop. See /content/wandb/run-20210415_080134-of81sojs/logs/debug-internal.log for full traceback.\n"
          ],
          "name": "stderr"
        },
        {
          "output_type": "stream",
          "text": [
            "233/250 [==========================>...] - ETA: 23s - loss: 2.3785 - accuracy: 0.1431"
          ],
          "name": "stdout"
        },
        {
          "output_type": "stream",
          "text": [
            "\u001b[34m\u001b[1mwandb\u001b[0m: Network error (HTTPError), entering retry loop. See /content/wandb/run-20210415_080134-of81sojs/logs/debug-internal.log for full traceback.\n"
          ],
          "name": "stderr"
        },
        {
          "output_type": "stream",
          "text": [
            "250/250 [==============================] - ETA: 0s - loss: 2.3766 - accuracy: 0.1437"
          ],
          "name": "stdout"
        },
        {
          "output_type": "stream",
          "text": [
            "\u001b[34m\u001b[1mwandb\u001b[0m: Network error (HTTPError), entering retry loop. See /content/wandb/run-20210415_080134-of81sojs/logs/debug-internal.log for full traceback.\n",
            "\u001b[34m\u001b[1mwandb\u001b[0m: Network error resolved after 0:00:09.160446, resuming normal operation.\n",
            "\u001b[34m\u001b[1mwandb\u001b[0m: Network error (HTTPError), entering retry loop. See /content/wandb/run-20210415_080134-of81sojs/logs/debug-internal.log for full traceback.\n",
            "\u001b[34m\u001b[1mwandb\u001b[0m: Network error (HTTPError), entering retry loop. See /content/wandb/run-20210415_080134-of81sojs/logs/debug-internal.log for full traceback.\n"
          ],
          "name": "stderr"
        },
        {
          "output_type": "stream",
          "text": [
            "\b\b\b\b\b\b\b\b\b\b\b\b\b\b\b\b\b\b\b\b\b\b\b\b\b\b\b\b\b\b\b\b\b\b\b\b\b\b\b\b\b\b\b\b\b\b\b\b\b\b\b\b\b\b\b\b\b\b\b\b\b\b\b\b\b\b\b\b\b\b\b\b\b\b\b\b\b\b\b\b\b\b\b\b\r250/250 [==============================] - 400s 2s/step - loss: 2.3765 - accuracy: 0.1437 - val_loss: 2.7038 - val_accuracy: 0.1271\n",
            "Epoch 6/25\n",
            "  4/250 [..............................] - ETA: 5:51 - loss: 2.1768 - accuracy: 0.1745"
          ],
          "name": "stdout"
        },
        {
          "output_type": "stream",
          "text": [
            "\u001b[34m\u001b[1mwandb\u001b[0m: Network error (HTTPError), entering retry loop. See /content/wandb/run-20210415_080134-of81sojs/logs/debug-internal.log for full traceback.\n"
          ],
          "name": "stderr"
        },
        {
          "output_type": "stream",
          "text": [
            " 15/250 [>.............................] - ETA: 5:32 - loss: 2.2075 - accuracy: 0.1697"
          ],
          "name": "stdout"
        },
        {
          "output_type": "stream",
          "text": [
            "\u001b[34m\u001b[1mwandb\u001b[0m: Network error (HTTPError), entering retry loop. See /content/wandb/run-20210415_080134-of81sojs/logs/debug-internal.log for full traceback.\n"
          ],
          "name": "stderr"
        },
        {
          "output_type": "stream",
          "text": [
            " 18/250 [=>............................] - ETA: 5:28 - loss: 2.2141 - accuracy: 0.1721"
          ],
          "name": "stdout"
        },
        {
          "output_type": "stream",
          "text": [
            "\u001b[34m\u001b[1mwandb\u001b[0m: Network error resolved after 0:00:08.701170, resuming normal operation.\n"
          ],
          "name": "stderr"
        },
        {
          "output_type": "stream",
          "text": [
            " 25/250 [==>...........................] - ETA: 5:18 - loss: 2.2171 - accuracy: 0.1788"
          ],
          "name": "stdout"
        },
        {
          "output_type": "stream",
          "text": [
            "\u001b[34m\u001b[1mwandb\u001b[0m: Network error (HTTPError), entering retry loop. See /content/wandb/run-20210415_080134-of81sojs/logs/debug-internal.log for full traceback.\n"
          ],
          "name": "stderr"
        },
        {
          "output_type": "stream",
          "text": [
            " 36/250 [===>..........................] - ETA: 5:02 - loss: 2.2206 - accuracy: 0.1842"
          ],
          "name": "stdout"
        },
        {
          "output_type": "stream",
          "text": [
            "\u001b[34m\u001b[1mwandb\u001b[0m: Network error (HTTPError), entering retry loop. See /content/wandb/run-20210415_080134-of81sojs/logs/debug-internal.log for full traceback.\n"
          ],
          "name": "stderr"
        },
        {
          "output_type": "stream",
          "text": [
            " 46/250 [====>.........................] - ETA: 4:47 - loss: 2.2229 - accuracy: 0.1865"
          ],
          "name": "stdout"
        },
        {
          "output_type": "stream",
          "text": [
            "\u001b[34m\u001b[1mwandb\u001b[0m: Network error (HTTPError), entering retry loop. See /content/wandb/run-20210415_080134-of81sojs/logs/debug-internal.log for full traceback.\n"
          ],
          "name": "stderr"
        },
        {
          "output_type": "stream",
          "text": [
            " 58/250 [=====>........................] - ETA: 4:31 - loss: 2.2269 - accuracy: 0.1878"
          ],
          "name": "stdout"
        },
        {
          "output_type": "stream",
          "text": [
            "\u001b[34m\u001b[1mwandb\u001b[0m: Network error (HTTPError), entering retry loop. See /content/wandb/run-20210415_080134-of81sojs/logs/debug-internal.log for full traceback.\n"
          ],
          "name": "stderr"
        },
        {
          "output_type": "stream",
          "text": [
            " 61/250 [======>.......................] - ETA: 4:26 - loss: 2.2279 - accuracy: 0.1879"
          ],
          "name": "stdout"
        },
        {
          "output_type": "stream",
          "text": [
            "\u001b[34m\u001b[1mwandb\u001b[0m: Network error resolved after 0:00:08.609239, resuming normal operation.\n"
          ],
          "name": "stderr"
        },
        {
          "output_type": "stream",
          "text": [
            " 77/250 [========>.....................] - ETA: 4:04 - loss: 2.2332 - accuracy: 0.1883"
          ],
          "name": "stdout"
        },
        {
          "output_type": "stream",
          "text": [
            "\u001b[34m\u001b[1mwandb\u001b[0m: Network error (HTTPError), entering retry loop. See /content/wandb/run-20210415_080134-of81sojs/logs/debug-internal.log for full traceback.\n"
          ],
          "name": "stderr"
        },
        {
          "output_type": "stream",
          "text": [
            " 98/250 [==========>...................] - ETA: 3:34 - loss: 2.2399 - accuracy: 0.1875"
          ],
          "name": "stdout"
        },
        {
          "output_type": "stream",
          "text": [
            "\u001b[34m\u001b[1mwandb\u001b[0m: Network error (HTTPError), entering retry loop. See /content/wandb/run-20210415_080134-of81sojs/logs/debug-internal.log for full traceback.\n"
          ],
          "name": "stderr"
        },
        {
          "output_type": "stream",
          "text": [
            "108/250 [===========>..................] - ETA: 3:20 - loss: 2.2418 - accuracy: 0.1873"
          ],
          "name": "stdout"
        },
        {
          "output_type": "stream",
          "text": [
            "\u001b[34m\u001b[1mwandb\u001b[0m: Network error (HTTPError), entering retry loop. See /content/wandb/run-20210415_080134-of81sojs/logs/debug-internal.log for full traceback.\n"
          ],
          "name": "stderr"
        },
        {
          "output_type": "stream",
          "text": [
            "118/250 [=============>................] - ETA: 3:06 - loss: 2.2431 - accuracy: 0.1872"
          ],
          "name": "stdout"
        },
        {
          "output_type": "stream",
          "text": [
            "\u001b[34m\u001b[1mwandb\u001b[0m: Network error resolved after 0:00:18.392001, resuming normal operation.\n"
          ],
          "name": "stderr"
        },
        {
          "output_type": "stream",
          "text": [
            "130/250 [==============>...............] - ETA: 2:49 - loss: 2.2447 - accuracy: 0.1869"
          ],
          "name": "stdout"
        },
        {
          "output_type": "stream",
          "text": [
            "\u001b[34m\u001b[1mwandb\u001b[0m: Network error (HTTPError), entering retry loop. See /content/wandb/run-20210415_080134-of81sojs/logs/debug-internal.log for full traceback.\n"
          ],
          "name": "stderr"
        },
        {
          "output_type": "stream",
          "text": [
            "151/250 [=================>............] - ETA: 2:19 - loss: 2.2469 - accuracy: 0.1862"
          ],
          "name": "stdout"
        },
        {
          "output_type": "stream",
          "text": [
            "\u001b[34m\u001b[1mwandb\u001b[0m: Network error (HTTPError), entering retry loop. See /content/wandb/run-20210415_080134-of81sojs/logs/debug-internal.log for full traceback.\n"
          ],
          "name": "stderr"
        },
        {
          "output_type": "stream",
          "text": [
            "172/250 [===================>..........] - ETA: 1:50 - loss: 2.2484 - accuracy: 0.1857"
          ],
          "name": "stdout"
        },
        {
          "output_type": "stream",
          "text": [
            "\u001b[34m\u001b[1mwandb\u001b[0m: Network error (HTTPError), entering retry loop. See /content/wandb/run-20210415_080134-of81sojs/logs/debug-internal.log for full traceback.\n"
          ],
          "name": "stderr"
        },
        {
          "output_type": "stream",
          "text": [
            "176/250 [====================>.........] - ETA: 1:44 - loss: 2.2486 - accuracy: 0.1856"
          ],
          "name": "stdout"
        },
        {
          "output_type": "stream",
          "text": [
            "\u001b[34m\u001b[1mwandb\u001b[0m: Network error resolved after 0:00:08.719551, resuming normal operation.\n"
          ],
          "name": "stderr"
        },
        {
          "output_type": "stream",
          "text": [
            "195/250 [======================>.......] - ETA: 1:17 - loss: 2.2495 - accuracy: 0.1853"
          ],
          "name": "stdout"
        },
        {
          "output_type": "stream",
          "text": [
            "\u001b[34m\u001b[1mwandb\u001b[0m: Network error (HTTPError), entering retry loop. See /content/wandb/run-20210415_080134-of81sojs/logs/debug-internal.log for full traceback.\n"
          ],
          "name": "stderr"
        },
        {
          "output_type": "stream",
          "text": [
            "204/250 [=======================>......] - ETA: 1:04 - loss: 2.2499 - accuracy: 0.1851"
          ],
          "name": "stdout"
        },
        {
          "output_type": "stream",
          "text": [
            "\u001b[34m\u001b[1mwandb\u001b[0m: Network error (HTTPError), entering retry loop. See /content/wandb/run-20210415_080134-of81sojs/logs/debug-internal.log for full traceback.\n"
          ],
          "name": "stderr"
        },
        {
          "output_type": "stream",
          "text": [
            "225/250 [==========================>...] - ETA: 35s - loss: 2.2503 - accuracy: 0.1849"
          ],
          "name": "stdout"
        },
        {
          "output_type": "stream",
          "text": [
            "\u001b[34m\u001b[1mwandb\u001b[0m: Network error (HTTPError), entering retry loop. See /content/wandb/run-20210415_080134-of81sojs/logs/debug-internal.log for full traceback.\n"
          ],
          "name": "stderr"
        },
        {
          "output_type": "stream",
          "text": [
            "235/250 [===========================>..] - ETA: 21s - loss: 2.2503 - accuracy: 0.1850"
          ],
          "name": "stdout"
        },
        {
          "output_type": "stream",
          "text": [
            "\u001b[34m\u001b[1mwandb\u001b[0m: Network error resolved after 0:00:18.152659, resuming normal operation.\n"
          ],
          "name": "stderr"
        },
        {
          "output_type": "stream",
          "text": [
            "248/250 [============================>.] - ETA: 2s - loss: 2.2501 - accuracy: 0.1850"
          ],
          "name": "stdout"
        },
        {
          "output_type": "stream",
          "text": [
            "\u001b[34m\u001b[1mwandb\u001b[0m: Network error (HTTPError), entering retry loop. See /content/wandb/run-20210415_080134-of81sojs/logs/debug-internal.log for full traceback.\n"
          ],
          "name": "stderr"
        },
        {
          "output_type": "stream",
          "text": [
            "250/250 [==============================] - ETA: 0s - loss: 2.2501 - accuracy: 0.1851"
          ],
          "name": "stdout"
        },
        {
          "output_type": "stream",
          "text": [
            "\u001b[34m\u001b[1mwandb\u001b[0m: Network error (HTTPError), entering retry loop. See /content/wandb/run-20210415_080134-of81sojs/logs/debug-internal.log for full traceback.\n",
            "\u001b[34m\u001b[1mwandb\u001b[0m: Network error (HTTPError), entering retry loop. See /content/wandb/run-20210415_080134-of81sojs/logs/debug-internal.log for full traceback.\n"
          ],
          "name": "stderr"
        },
        {
          "output_type": "stream",
          "text": [
            "\b\b\b\b\b\b\b\b\b\b\b\b\b\b\b\b\b\b\b\b\b\b\b\b\b\b\b\b\b\b\b\b\b\b\b\b\b\b\b\b\b\b\b\b\b\b\b\b\b\b\b\b\b\b\b\b\b\b\b\b\b\b\b\b\b\b\b\b\b\b\b\b\b\b\b\b\b\b\b\b\b\b\b\b\r250/250 [==============================] - 401s 2s/step - loss: 2.2501 - accuracy: 0.1851 - val_loss: 2.3934 - val_accuracy: 0.1641\n"
          ],
          "name": "stdout"
        },
        {
          "output_type": "display_data",
          "data": {
            "text/html": [
              "<br/>Waiting for W&B process to finish, PID 219<br/>Program ended successfully."
            ],
            "text/plain": [
              "<IPython.core.display.HTML object>"
            ]
          },
          "metadata": {
            "tags": []
          }
        },
        {
          "output_type": "display_data",
          "data": {
            "application/vnd.jupyter.widget-view+json": {
              "model_id": "35222cf0c8934427bbf795bfc7860517",
              "version_minor": 0,
              "version_major": 2
            },
            "text/plain": [
              "VBox(children=(Label(value=' 0.01MB of 0.01MB uploaded (0.00MB deduped)\\r'), FloatProgress(value=1.0, max=1.0)…"
            ]
          },
          "metadata": {
            "tags": []
          }
        },
        {
          "output_type": "stream",
          "text": [
            "\u001b[34m\u001b[1mwandb\u001b[0m: Network error resolved after 0:00:08.769169, resuming normal operation.\n"
          ],
          "name": "stderr"
        },
        {
          "output_type": "display_data",
          "data": {
            "text/html": [
              "Find user logs for this run at: <code>/content/wandb/run-20210415_080134-of81sojs/logs/debug.log</code>"
            ],
            "text/plain": [
              "<IPython.core.display.HTML object>"
            ]
          },
          "metadata": {
            "tags": []
          }
        },
        {
          "output_type": "display_data",
          "data": {
            "text/html": [
              "Find internal logs for this run at: <code>/content/wandb/run-20210415_080134-of81sojs/logs/debug-internal.log</code>"
            ],
            "text/plain": [
              "<IPython.core.display.HTML object>"
            ]
          },
          "metadata": {
            "tags": []
          }
        },
        {
          "output_type": "display_data",
          "data": {
            "text/html": [
              "<h3>Run summary:</h3><br/><style>\n",
              "    table.wandb td:nth-child(1) { padding: 0 10px; text-align: right }\n",
              "    </style><table class=\"wandb\">\n",
              "<tr><td>epoch</td><td>5</td></tr><tr><td>loss</td><td>2.24582</td></tr><tr><td>accuracy</td><td>0.18712</td></tr><tr><td>val_loss</td><td>2.39336</td></tr><tr><td>val_accuracy</td><td>0.16408</td></tr><tr><td>_runtime</td><td>2485</td></tr><tr><td>_timestamp</td><td>1618476179</td></tr><tr><td>_step</td><td>5</td></tr><tr><td>best_val_loss</td><td>2.30551</td></tr><tr><td>best_epoch</td><td>2</td></tr></table>"
            ],
            "text/plain": [
              "<IPython.core.display.HTML object>"
            ]
          },
          "metadata": {
            "tags": []
          }
        },
        {
          "output_type": "display_data",
          "data": {
            "text/html": [
              "<h3>Run history:</h3><br/><style>\n",
              "    table.wandb td:nth-child(1) { padding: 0 10px; text-align: right }\n",
              "    </style><table class=\"wandb\">\n",
              "<tr><td>epoch</td><td>▁▂▄▅▇█</td></tr><tr><td>loss</td><td>█▄▃▃▃▁</td></tr><tr><td>accuracy</td><td>▁▅▄▆▂█</td></tr><tr><td>val_loss</td><td>▆▇▁▃█▃</td></tr><tr><td>val_accuracy</td><td>▆▁█▂▄█</td></tr><tr><td>_runtime</td><td>▁▂▄▅▇█</td></tr><tr><td>_timestamp</td><td>▁▂▄▅▇█</td></tr><tr><td>_step</td><td>▁▂▄▅▇█</td></tr></table><br/>"
            ],
            "text/plain": [
              "<IPython.core.display.HTML object>"
            ]
          },
          "metadata": {
            "tags": []
          }
        },
        {
          "output_type": "display_data",
          "data": {
            "text/html": [
              "Synced 5 W&B file(s), 1 media file(s), 0 artifact file(s) and 0 other file(s)"
            ],
            "text/plain": [
              "<IPython.core.display.HTML object>"
            ]
          },
          "metadata": {
            "tags": []
          }
        },
        {
          "output_type": "display_data",
          "data": {
            "text/html": [
              "\n",
              "                    <br/>Synced <strong style=\"color:#cdcd00\">visionary-sweep-86</strong>: <a href=\"https://wandb.ai/ee18b153/inaturalist_partA_15.1/runs/of81sojs\" target=\"_blank\">https://wandb.ai/ee18b153/inaturalist_partA_15.1/runs/of81sojs</a><br/>\n",
              "                "
            ],
            "text/plain": [
              "<IPython.core.display.HTML object>"
            ]
          },
          "metadata": {
            "tags": []
          }
        },
        {
          "output_type": "stream",
          "text": [
            "\u001b[34m\u001b[1mwandb\u001b[0m: Agent Starting Run: 95z62kgo with config:\n",
            "\u001b[34m\u001b[1mwandb\u001b[0m: \tactivation: relu\n",
            "\u001b[34m\u001b[1mwandb\u001b[0m: \taugmentation: True\n",
            "\u001b[34m\u001b[1mwandb\u001b[0m: \tbatch_norm: False\n",
            "\u001b[34m\u001b[1mwandb\u001b[0m: \tbatch_size: 16\n",
            "\u001b[34m\u001b[1mwandb\u001b[0m: \tdense_layer_size: 512\n",
            "\u001b[34m\u001b[1mwandb\u001b[0m: \tdropout: 0.2\n",
            "\u001b[34m\u001b[1mwandb\u001b[0m: \tfilter_size: 5\n",
            "\u001b[34m\u001b[1mwandb\u001b[0m: \tnum_epochs: 25\n",
            "\u001b[34m\u001b[1mwandb\u001b[0m: \tnum_filters_: 32\n",
            "\u001b[34m\u001b[1mwandb\u001b[0m: \tnum_layers: 5\n",
            "\u001b[34m\u001b[1mwandb\u001b[0m: \toptimizer: nadam\n",
            "\u001b[34m\u001b[1mwandb\u001b[0m: \ttype_of_filters: double\n",
            "429 response executing GraphQL.\n",
            "{\"error\":\"rate limit exceeded\"}\n",
            "\n",
            "429 response executing GraphQL.\n",
            "{\"error\":\"rate limit exceeded\"}\n",
            "\n",
            "429 response executing GraphQL.\n",
            "{\"error\":\"rate limit exceeded\"}\n",
            "\n",
            "429 response executing GraphQL.\n",
            "{\"error\":\"rate limit exceeded\"}\n",
            "\n"
          ],
          "name": "stderr"
        },
        {
          "output_type": "display_data",
          "data": {
            "text/html": [
              "\n",
              "                Tracking run with wandb version 0.10.26<br/>\n",
              "                Syncing run <strong style=\"color:#cdcd00\">gentle-sweep-105</strong> to <a href=\"https://wandb.ai\" target=\"_blank\">Weights & Biases</a> <a href=\"https://docs.wandb.com/integrations/jupyter.html\" target=\"_blank\">(Documentation)</a>.<br/>\n",
              "                Project page: <a href=\"https://wandb.ai/ee18b153/inaturalist_partA_15.1\" target=\"_blank\">https://wandb.ai/ee18b153/inaturalist_partA_15.1</a><br/>\n",
              "                Sweep page: <a href=\"https://wandb.ai/ee18b153/inaturalist_partA_15.1/sweeps/hz3tmq0n\" target=\"_blank\">https://wandb.ai/ee18b153/inaturalist_partA_15.1/sweeps/hz3tmq0n</a><br/>\n",
              "Run page: <a href=\"https://wandb.ai/ee18b153/inaturalist_partA_15.1/runs/95z62kgo\" target=\"_blank\">https://wandb.ai/ee18b153/inaturalist_partA_15.1/runs/95z62kgo</a><br/>\n",
              "                Run data is saved locally in <code>/content/wandb/run-20210415_084315-95z62kgo</code><br/><br/>\n",
              "            "
            ],
            "text/plain": [
              "<IPython.core.display.HTML object>"
            ]
          },
          "metadata": {
            "tags": []
          }
        },
        {
          "output_type": "stream",
          "text": [
            "Found 9999 files belonging to 10 classes.\n",
            "Using 8000 files for training.\n",
            "Found 9999 files belonging to 10 classes.\n",
            "Using 1999 files for validation.\n",
            "Found 2000 files belonging to 10 classes.\n",
            "['Amphibia', 'Animalia', 'Arachnida', 'Aves', 'Fungi', 'Insecta', 'Mammalia', 'Mollusca', 'Plantae', 'Reptilia']\n",
            "Model: \"sequential\"\n",
            "_________________________________________________________________\n",
            "Layer (type)                 Output Shape              Param #   \n",
            "=================================================================\n",
            "rescaling (Rescaling)        (None, 700, 700, 3)       0         \n",
            "_________________________________________________________________\n",
            "random_flip (RandomFlip)     (None, 700, 700, 3)       0         \n",
            "_________________________________________________________________\n",
            "random_rotation (RandomRotat (None, 700, 700, 3)       0         \n",
            "_________________________________________________________________\n",
            "random_translation (RandomTr (None, 700, 700, 3)       0         \n",
            "_________________________________________________________________\n",
            "dropout (Dropout)            (None, 700, 700, 3)       0         \n",
            "_________________________________________________________________\n",
            "conv2d (Conv2D)              (None, 700, 700, 32)      2432      \n",
            "_________________________________________________________________\n",
            "activation (Activation)      (None, 700, 700, 32)      0         \n",
            "_________________________________________________________________\n",
            "max_pooling2d (MaxPooling2D) (None, 350, 350, 32)      0         \n",
            "_________________________________________________________________\n",
            "conv2d_1 (Conv2D)            (None, 350, 350, 64)      51264     \n",
            "_________________________________________________________________\n",
            "activation_1 (Activation)    (None, 350, 350, 64)      0         \n",
            "_________________________________________________________________\n",
            "max_pooling2d_1 (MaxPooling2 (None, 175, 175, 64)      0         \n",
            "_________________________________________________________________\n",
            "conv2d_2 (Conv2D)            (None, 175, 175, 128)     204928    \n",
            "_________________________________________________________________\n",
            "activation_2 (Activation)    (None, 175, 175, 128)     0         \n",
            "_________________________________________________________________\n",
            "max_pooling2d_2 (MaxPooling2 (None, 87, 87, 128)       0         \n",
            "_________________________________________________________________\n",
            "conv2d_3 (Conv2D)            (None, 87, 87, 256)       819456    \n",
            "_________________________________________________________________\n",
            "activation_3 (Activation)    (None, 87, 87, 256)       0         \n",
            "_________________________________________________________________\n",
            "max_pooling2d_3 (MaxPooling2 (None, 43, 43, 256)       0         \n",
            "_________________________________________________________________\n",
            "conv2d_4 (Conv2D)            (None, 43, 43, 512)       3277312   \n",
            "_________________________________________________________________\n",
            "activation_4 (Activation)    (None, 43, 43, 512)       0         \n",
            "_________________________________________________________________\n",
            "max_pooling2d_4 (MaxPooling2 (None, 21, 21, 512)       0         \n",
            "_________________________________________________________________\n",
            "flatten (Flatten)            (None, 225792)            0         \n",
            "_________________________________________________________________\n",
            "dropout_1 (Dropout)          (None, 225792)            0         \n",
            "_________________________________________________________________\n",
            "dense (Dense)                (None, 512)               115606016 \n",
            "_________________________________________________________________\n",
            "dropout_2 (Dropout)          (None, 512)               0         \n",
            "_________________________________________________________________\n",
            "dense_1 (Dense)              (None, 10)                5130      \n",
            "=================================================================\n",
            "Total params: 119,966,538\n",
            "Trainable params: 119,966,538\n",
            "Non-trainable params: 0\n",
            "_________________________________________________________________\n",
            "Epoch 1/25\n"
          ],
          "name": "stdout"
        },
        {
          "output_type": "stream",
          "text": [
            "\u001b[34m\u001b[1mwandb\u001b[0m: Network error (HTTPError), entering retry loop. See /content/wandb/run-20210415_084315-95z62kgo/logs/debug-internal.log for full traceback.\n",
            "\u001b[34m\u001b[1mwandb\u001b[0m: Network error (HTTPError), entering retry loop. See /content/wandb/run-20210415_084315-95z62kgo/logs/debug-internal.log for full traceback.\n"
          ],
          "name": "stderr"
        },
        {
          "output_type": "stream",
          "text": [
            "  6/500 [..............................] - ETA: 9:43 - loss: 55.7548 - accuracy: 0.1601WARNING:tensorflow:Callback method `on_train_batch_end` is slow compared to the batch time (batch time: 0.5239s vs `on_train_batch_end` time: 0.5549s). Check your callbacks.\n",
            " 12/500 [..............................] - ETA: 9:38 - loss: 41.1038 - accuracy: 0.1495"
          ],
          "name": "stdout"
        },
        {
          "output_type": "stream",
          "text": [
            "\u001b[34m\u001b[1mwandb\u001b[0m: Network error (HTTPError), entering retry loop. See /content/wandb/run-20210415_084315-95z62kgo/logs/debug-internal.log for full traceback.\n"
          ],
          "name": "stderr"
        },
        {
          "output_type": "stream",
          "text": [
            " 23/500 [>.............................] - ETA: 9:23 - loss: 28.6333 - accuracy: 0.1298"
          ],
          "name": "stdout"
        },
        {
          "output_type": "stream",
          "text": [
            "\u001b[34m\u001b[1mwandb\u001b[0m: Network error resolved after 0:00:16.546265, resuming normal operation.\n"
          ],
          "name": "stderr"
        },
        {
          "output_type": "stream",
          "text": [
            " 27/500 [>.............................] - ETA: 9:17 - loss: 26.0238 - accuracy: 0.1261"
          ],
          "name": "stdout"
        },
        {
          "output_type": "stream",
          "text": [
            "\u001b[34m\u001b[1mwandb\u001b[0m: Network error (HTTPError), entering retry loop. See /content/wandb/run-20210415_084315-95z62kgo/logs/debug-internal.log for full traceback.\n"
          ],
          "name": "stderr"
        },
        {
          "output_type": "stream",
          "text": [
            " 39/500 [=>............................] - ETA: 9:03 - loss: 20.7846 - accuracy: 0.1194"
          ],
          "name": "stdout"
        },
        {
          "output_type": "stream",
          "text": [
            "\u001b[34m\u001b[1mwandb\u001b[0m: Network error (HTTPError), entering retry loop. See /content/wandb/run-20210415_084315-95z62kgo/logs/debug-internal.log for full traceback.\n"
          ],
          "name": "stderr"
        },
        {
          "output_type": "stream",
          "text": [
            " 50/500 [==>...........................] - ETA: 8:50 - loss: 17.8084 - accuracy: 0.1160"
          ],
          "name": "stdout"
        },
        {
          "output_type": "stream",
          "text": [
            "\u001b[34m\u001b[1mwandb\u001b[0m: Network error (HTTPError), entering retry loop. See /content/wandb/run-20210415_084315-95z62kgo/logs/debug-internal.log for full traceback.\n"
          ],
          "name": "stderr"
        },
        {
          "output_type": "stream",
          "text": [
            " 77/500 [===>..........................] - ETA: 8:17 - loss: 13.6056 - accuracy: 0.1118"
          ],
          "name": "stdout"
        },
        {
          "output_type": "stream",
          "text": [
            "\u001b[34m\u001b[1mwandb\u001b[0m: Network error (HTTPError), entering retry loop. See /content/wandb/run-20210415_084315-95z62kgo/logs/debug-internal.log for full traceback.\n"
          ],
          "name": "stderr"
        },
        {
          "output_type": "stream",
          "text": [
            " 81/500 [===>..........................] - ETA: 8:12 - loss: 13.1854 - accuracy: 0.1113"
          ],
          "name": "stdout"
        },
        {
          "output_type": "stream",
          "text": [
            "\u001b[34m\u001b[1mwandb\u001b[0m: Network error resolved after 0:00:08.483940, resuming normal operation.\n"
          ],
          "name": "stderr"
        },
        {
          "output_type": "stream",
          "text": [
            " 88/500 [====>.........................] - ETA: 8:04 - loss: 12.5276 - accuracy: 0.1106"
          ],
          "name": "stdout"
        },
        {
          "output_type": "stream",
          "text": [
            "\u001b[34m\u001b[1mwandb\u001b[0m: Network error (HTTPError), entering retry loop. See /content/wandb/run-20210415_084315-95z62kgo/logs/debug-internal.log for full traceback.\n"
          ],
          "name": "stderr"
        },
        {
          "output_type": "stream",
          "text": [
            "114/500 [=====>........................] - ETA: 7:33 - loss: 10.6972 - accuracy: 0.1080"
          ],
          "name": "stdout"
        },
        {
          "output_type": "stream",
          "text": [
            "\u001b[34m\u001b[1mwandb\u001b[0m: Network error (HTTPError), entering retry loop. See /content/wandb/run-20210415_084315-95z62kgo/logs/debug-internal.log for full traceback.\n"
          ],
          "name": "stderr"
        },
        {
          "output_type": "stream",
          "text": [
            "140/500 [=======>......................] - ETA: 7:03 - loss: 9.4628 - accuracy: 0.1067"
          ],
          "name": "stdout"
        },
        {
          "output_type": "stream",
          "text": [
            "\u001b[34m\u001b[1mwandb\u001b[0m: Network error (HTTPError), entering retry loop. See /content/wandb/run-20210415_084315-95z62kgo/logs/debug-internal.log for full traceback.\n"
          ],
          "name": "stderr"
        },
        {
          "output_type": "stream",
          "text": [
            "144/500 [=======>......................] - ETA: 6:58 - loss: 9.3072 - accuracy: 0.1066"
          ],
          "name": "stdout"
        },
        {
          "output_type": "stream",
          "text": [
            "\u001b[34m\u001b[1mwandb\u001b[0m: Network error resolved after 0:00:08.925538, resuming normal operation.\n"
          ],
          "name": "stderr"
        },
        {
          "output_type": "stream",
          "text": [
            "154/500 [========>.....................] - ETA: 6:46 - loss: 8.9488 - accuracy: 0.1063"
          ],
          "name": "stdout"
        },
        {
          "output_type": "stream",
          "text": [
            "\u001b[34m\u001b[1mwandb\u001b[0m: Network error (HTTPError), entering retry loop. See /content/wandb/run-20210415_084315-95z62kgo/logs/debug-internal.log for full traceback.\n"
          ],
          "name": "stderr"
        },
        {
          "output_type": "stream",
          "text": [
            "167/500 [=========>....................] - ETA: 6:31 - loss: 8.5390 - accuracy: 0.1058"
          ],
          "name": "stdout"
        },
        {
          "output_type": "stream",
          "text": [
            "\u001b[34m\u001b[1mwandb\u001b[0m: Network error (HTTPError), entering retry loop. See /content/wandb/run-20210415_084315-95z62kgo/logs/debug-internal.log for full traceback.\n"
          ],
          "name": "stderr"
        },
        {
          "output_type": "stream",
          "text": [
            "180/500 [=========>....................] - ETA: 6:16 - loss: 8.1809 - accuracy: 0.1054"
          ],
          "name": "stdout"
        },
        {
          "output_type": "stream",
          "text": [
            "\u001b[34m\u001b[1mwandb\u001b[0m: Network error (HTTPError), entering retry loop. See /content/wandb/run-20210415_084315-95z62kgo/logs/debug-internal.log for full traceback.\n"
          ],
          "name": "stderr"
        },
        {
          "output_type": "stream",
          "text": [
            "193/500 [==========>...................] - ETA: 6:00 - loss: 7.8650 - accuracy: 0.1050"
          ],
          "name": "stdout"
        },
        {
          "output_type": "stream",
          "text": [
            "\u001b[34m\u001b[1mwandb\u001b[0m: Network error (HTTPError), entering retry loop. See /content/wandb/run-20210415_084315-95z62kgo/logs/debug-internal.log for full traceback.\n"
          ],
          "name": "stderr"
        },
        {
          "output_type": "stream",
          "text": [
            "196/500 [==========>...................] - ETA: 5:57 - loss: 7.7973 - accuracy: 0.1049"
          ],
          "name": "stdout"
        },
        {
          "output_type": "stream",
          "text": [
            "\u001b[34m\u001b[1mwandb\u001b[0m: Network error resolved after 0:00:08.468727, resuming normal operation.\n"
          ],
          "name": "stderr"
        },
        {
          "output_type": "stream",
          "text": [
            "203/500 [===========>..................] - ETA: 5:49 - loss: 7.6462 - accuracy: 0.1047"
          ],
          "name": "stdout"
        },
        {
          "output_type": "stream",
          "text": [
            "\u001b[34m\u001b[1mwandb\u001b[0m: Network error (HTTPError), entering retry loop. See /content/wandb/run-20210415_084315-95z62kgo/logs/debug-internal.log for full traceback.\n"
          ],
          "name": "stderr"
        },
        {
          "output_type": "stream",
          "text": [
            "218/500 [============>.................] - ETA: 5:31 - loss: 7.3511 - accuracy: 0.1044"
          ],
          "name": "stdout"
        },
        {
          "output_type": "stream",
          "text": [
            "\u001b[34m\u001b[1mwandb\u001b[0m: Network error (HTTPError), entering retry loop. See /content/wandb/run-20210415_084315-95z62kgo/logs/debug-internal.log for full traceback.\n"
          ],
          "name": "stderr"
        },
        {
          "output_type": "stream",
          "text": [
            "230/500 [============>.................] - ETA: 5:17 - loss: 7.1394 - accuracy: 0.1042"
          ],
          "name": "stdout"
        },
        {
          "output_type": "stream",
          "text": [
            "\u001b[34m\u001b[1mwandb\u001b[0m: Network error (HTTPError), entering retry loop. See /content/wandb/run-20210415_084315-95z62kgo/logs/debug-internal.log for full traceback.\n"
          ],
          "name": "stderr"
        },
        {
          "output_type": "stream",
          "text": [
            "242/500 [=============>................] - ETA: 5:03 - loss: 6.9461 - accuracy: 0.1040"
          ],
          "name": "stdout"
        },
        {
          "output_type": "stream",
          "text": [
            "\u001b[34m\u001b[1mwandb\u001b[0m: Network error (HTTPError), entering retry loop. See /content/wandb/run-20210415_084315-95z62kgo/logs/debug-internal.log for full traceback.\n"
          ],
          "name": "stderr"
        },
        {
          "output_type": "stream",
          "text": [
            "268/500 [===============>..............] - ETA: 4:32 - loss: 6.5802 - accuracy: 0.1038"
          ],
          "name": "stdout"
        },
        {
          "output_type": "stream",
          "text": [
            "\u001b[34m\u001b[1mwandb\u001b[0m: Network error (HTTPError), entering retry loop. See /content/wandb/run-20210415_084315-95z62kgo/logs/debug-internal.log for full traceback.\n"
          ],
          "name": "stderr"
        },
        {
          "output_type": "stream",
          "text": [
            "273/500 [===============>..............] - ETA: 4:26 - loss: 6.5168 - accuracy: 0.1038"
          ],
          "name": "stdout"
        },
        {
          "output_type": "stream",
          "text": [
            "\u001b[34m\u001b[1mwandb\u001b[0m: Network error resolved after 0:00:08.569336, resuming normal operation.\n"
          ],
          "name": "stderr"
        },
        {
          "output_type": "stream",
          "text": [
            "279/500 [===============>..............] - ETA: 4:19 - loss: 6.4435 - accuracy: 0.1037"
          ],
          "name": "stdout"
        },
        {
          "output_type": "stream",
          "text": [
            "\u001b[34m\u001b[1mwandb\u001b[0m: Network error (HTTPError), entering retry loop. See /content/wandb/run-20210415_084315-95z62kgo/logs/debug-internal.log for full traceback.\n"
          ],
          "name": "stderr"
        },
        {
          "output_type": "stream",
          "text": [
            "306/500 [=================>............] - ETA: 3:47 - loss: 6.1453 - accuracy: 0.1036"
          ],
          "name": "stdout"
        },
        {
          "output_type": "stream",
          "text": [
            "\u001b[34m\u001b[1mwandb\u001b[0m: Network error (HTTPError), entering retry loop. See /content/wandb/run-20210415_084315-95z62kgo/logs/debug-internal.log for full traceback.\n"
          ],
          "name": "stderr"
        },
        {
          "output_type": "stream",
          "text": [
            "330/500 [==================>...........] - ETA: 3:19 - loss: 5.9168 - accuracy: 0.1036"
          ],
          "name": "stdout"
        },
        {
          "output_type": "stream",
          "text": [
            "\u001b[34m\u001b[1mwandb\u001b[0m: Network error (HTTPError), entering retry loop. See /content/wandb/run-20210415_084315-95z62kgo/logs/debug-internal.log for full traceback.\n"
          ],
          "name": "stderr"
        },
        {
          "output_type": "stream",
          "text": [
            "342/500 [===================>..........] - ETA: 3:05 - loss: 5.8132 - accuracy: 0.1036"
          ],
          "name": "stdout"
        },
        {
          "output_type": "stream",
          "text": [
            "\u001b[34m\u001b[1mwandb\u001b[0m: Network error resolved after 0:00:17.529166, resuming normal operation.\n"
          ],
          "name": "stderr"
        },
        {
          "output_type": "stream",
          "text": [
            "357/500 [====================>.........] - ETA: 2:47 - loss: 5.6925 - accuracy: 0.1036"
          ],
          "name": "stdout"
        },
        {
          "output_type": "stream",
          "text": [
            "\u001b[34m\u001b[1mwandb\u001b[0m: Network error (HTTPError), entering retry loop. See /content/wandb/run-20210415_084315-95z62kgo/logs/debug-internal.log for full traceback.\n"
          ],
          "name": "stderr"
        },
        {
          "output_type": "stream",
          "text": [
            "383/500 [=====================>........] - ETA: 2:17 - loss: 5.5034 - accuracy: 0.1037"
          ],
          "name": "stdout"
        },
        {
          "output_type": "stream",
          "text": [
            "\u001b[34m\u001b[1mwandb\u001b[0m: Network error (HTTPError), entering retry loop. See /content/wandb/run-20210415_084315-95z62kgo/logs/debug-internal.log for full traceback.\n"
          ],
          "name": "stderr"
        },
        {
          "output_type": "stream",
          "text": [
            "397/500 [======================>.......] - ETA: 2:00 - loss: 5.4106 - accuracy: 0.1038"
          ],
          "name": "stdout"
        },
        {
          "output_type": "stream",
          "text": [
            "\u001b[34m\u001b[1mwandb\u001b[0m: Network error (HTTPError), entering retry loop. See /content/wandb/run-20210415_084315-95z62kgo/logs/debug-internal.log for full traceback.\n"
          ],
          "name": "stderr"
        },
        {
          "output_type": "stream",
          "text": [
            "401/500 [=======================>......] - ETA: 1:56 - loss: 5.3852 - accuracy: 0.1038"
          ],
          "name": "stdout"
        },
        {
          "output_type": "stream",
          "text": [
            "\u001b[34m\u001b[1mwandb\u001b[0m: Network error resolved after 0:00:08.521226, resuming normal operation.\n"
          ],
          "name": "stderr"
        },
        {
          "output_type": "stream",
          "text": [
            "411/500 [=======================>......] - ETA: 1:44 - loss: 5.3236 - accuracy: 0.1038"
          ],
          "name": "stdout"
        },
        {
          "output_type": "stream",
          "text": [
            "\u001b[34m\u001b[1mwandb\u001b[0m: Network error (HTTPError), entering retry loop. See /content/wandb/run-20210415_084315-95z62kgo/logs/debug-internal.log for full traceback.\n"
          ],
          "name": "stderr"
        },
        {
          "output_type": "stream",
          "text": [
            "422/500 [========================>.....] - ETA: 1:31 - loss: 5.2604 - accuracy: 0.1039"
          ],
          "name": "stdout"
        },
        {
          "output_type": "stream",
          "text": [
            "\u001b[34m\u001b[1mwandb\u001b[0m: Network error (HTTPError), entering retry loop. See /content/wandb/run-20210415_084315-95z62kgo/logs/debug-internal.log for full traceback.\n"
          ],
          "name": "stderr"
        },
        {
          "output_type": "stream",
          "text": [
            "436/500 [=========================>....] - ETA: 1:15 - loss: 5.1853 - accuracy: 0.1039"
          ],
          "name": "stdout"
        },
        {
          "output_type": "stream",
          "text": [
            "\u001b[34m\u001b[1mwandb\u001b[0m: Network error (HTTPError), entering retry loop. See /content/wandb/run-20210415_084315-95z62kgo/logs/debug-internal.log for full traceback.\n"
          ],
          "name": "stderr"
        },
        {
          "output_type": "stream",
          "text": [
            "448/500 [=========================>....] - ETA: 1:01 - loss: 5.1243 - accuracy: 0.1040"
          ],
          "name": "stdout"
        },
        {
          "output_type": "stream",
          "text": [
            "\u001b[34m\u001b[1mwandb\u001b[0m: Network error (HTTPError), entering retry loop. See /content/wandb/run-20210415_084315-95z62kgo/logs/debug-internal.log for full traceback.\n"
          ],
          "name": "stderr"
        },
        {
          "output_type": "stream",
          "text": [
            "459/500 [==========================>...] - ETA: 48s - loss: 5.0707 - accuracy: 0.1040"
          ],
          "name": "stdout"
        },
        {
          "output_type": "stream",
          "text": [
            "\u001b[34m\u001b[1mwandb\u001b[0m: Network error (HTTPError), entering retry loop. See /content/wandb/run-20210415_084315-95z62kgo/logs/debug-internal.log for full traceback.\n"
          ],
          "name": "stderr"
        },
        {
          "output_type": "stream",
          "text": [
            "471/500 [===========================>..] - ETA: 34s - loss: 5.0148 - accuracy: 0.1041"
          ],
          "name": "stdout"
        },
        {
          "output_type": "stream",
          "text": [
            "\u001b[34m\u001b[1mwandb\u001b[0m: Network error resolved after 0:00:18.763420, resuming normal operation.\n"
          ],
          "name": "stderr"
        },
        {
          "output_type": "stream",
          "text": [
            "485/500 [============================>.] - ETA: 17s - loss: 4.9526 - accuracy: 0.1041"
          ],
          "name": "stdout"
        },
        {
          "output_type": "stream",
          "text": [
            "\u001b[34m\u001b[1mwandb\u001b[0m: Network error (HTTPError), entering retry loop. See /content/wandb/run-20210415_084315-95z62kgo/logs/debug-internal.log for full traceback.\n"
          ],
          "name": "stderr"
        },
        {
          "output_type": "stream",
          "text": [
            "500/500 [==============================] - ETA: 0s - loss: 4.8893 - accuracy: 0.1042"
          ],
          "name": "stdout"
        },
        {
          "output_type": "stream",
          "text": [
            "\u001b[34m\u001b[1mwandb\u001b[0m: Network error (HTTPError), entering retry loop. See /content/wandb/run-20210415_084315-95z62kgo/logs/debug-internal.log for full traceback.\n",
            "\u001b[34m\u001b[1mwandb\u001b[0m: Network error (HTTPError), entering retry loop. See /content/wandb/run-20210415_084315-95z62kgo/logs/debug-internal.log for full traceback.\n",
            "\u001b[34m\u001b[1mwandb\u001b[0m: Network error resolved after 0:00:16.782725, resuming normal operation.\n"
          ],
          "name": "stderr"
        },
        {
          "output_type": "stream",
          "text": [
            "\b\b\b\b\b\b\b\b\b\b\b\b\b\b\b\b\b\b\b\b\b\b\b\b\b\b\b\b\b\b\b\b\b\b\b\b\b\b\b\b\b\b\b\b\b\b\b\b\b\b\b\b\b\b\b\b\b\b\b\b\b\b\b\b\b\b\b\b\b\b\b\b\b\b\b\b\b\b\b\b\b\b\b\b\r500/500 [==============================] - 670s 1s/step - loss: 4.8852 - accuracy: 0.1042 - val_loss: 2.3042 - val_accuracy: 0.0945\n",
            "Epoch 2/25\n",
            "  4/500 [..............................] - ETA: 9:28 - loss: 2.3062 - accuracy: 0.1667"
          ],
          "name": "stdout"
        },
        {
          "output_type": "stream",
          "text": [
            "\u001b[34m\u001b[1mwandb\u001b[0m: Network error (HTTPError), entering retry loop. See /content/wandb/run-20210415_084315-95z62kgo/logs/debug-internal.log for full traceback.\n"
          ],
          "name": "stderr"
        },
        {
          "output_type": "stream",
          "text": [
            " 31/500 [>.............................] - ETA: 9:02 - loss: 2.3052 - accuracy: 0.1094"
          ],
          "name": "stdout"
        },
        {
          "output_type": "stream",
          "text": [
            "\u001b[34m\u001b[1mwandb\u001b[0m: Network error (HTTPError), entering retry loop. See /content/wandb/run-20210415_084315-95z62kgo/logs/debug-internal.log for full traceback.\n"
          ],
          "name": "stderr"
        },
        {
          "output_type": "stream",
          "text": [
            " 47/500 [=>............................] - ETA: 8:43 - loss: 2.3048 - accuracy: 0.1089"
          ],
          "name": "stdout"
        },
        {
          "output_type": "stream",
          "text": [
            "\u001b[34m\u001b[1mwandb\u001b[0m: Network error (HTTPError), entering retry loop. See /content/wandb/run-20210415_084315-95z62kgo/logs/debug-internal.log for full traceback.\n"
          ],
          "name": "stderr"
        },
        {
          "output_type": "stream",
          "text": [
            " 51/500 [==>...........................] - ETA: 8:39 - loss: 2.3048 - accuracy: 0.1082"
          ],
          "name": "stdout"
        },
        {
          "output_type": "stream",
          "text": [
            "\u001b[34m\u001b[1mwandb\u001b[0m: Network error resolved after 0:00:09.021528, resuming normal operation.\n"
          ],
          "name": "stderr"
        },
        {
          "output_type": "stream",
          "text": [
            " 58/500 [==>...........................] - ETA: 8:31 - loss: 2.3047 - accuracy: 0.1068"
          ],
          "name": "stdout"
        },
        {
          "output_type": "stream",
          "text": [
            "\u001b[34m\u001b[1mwandb\u001b[0m: Network error (HTTPError), entering retry loop. See /content/wandb/run-20210415_084315-95z62kgo/logs/debug-internal.log for full traceback.\n"
          ],
          "name": "stderr"
        },
        {
          "output_type": "stream",
          "text": [
            " 69/500 [===>..........................] - ETA: 8:19 - loss: 2.3046 - accuracy: 0.1048"
          ],
          "name": "stdout"
        },
        {
          "output_type": "stream",
          "text": [
            "\u001b[34m\u001b[1mwandb\u001b[0m: Network error (HTTPError), entering retry loop. See /content/wandb/run-20210415_084315-95z62kgo/logs/debug-internal.log for full traceback.\n"
          ],
          "name": "stderr"
        },
        {
          "output_type": "stream",
          "text": [
            " 95/500 [====>.........................] - ETA: 7:49 - loss: 2.3043 - accuracy: 0.1025"
          ],
          "name": "stdout"
        },
        {
          "output_type": "stream",
          "text": [
            "\u001b[34m\u001b[1mwandb\u001b[0m: Network error (HTTPError), entering retry loop. See /content/wandb/run-20210415_084315-95z62kgo/logs/debug-internal.log for full traceback.\n"
          ],
          "name": "stderr"
        },
        {
          "output_type": "stream",
          "text": [
            "106/500 [=====>........................] - ETA: 7:36 - loss: 2.3042 - accuracy: 0.1019"
          ],
          "name": "stdout"
        },
        {
          "output_type": "stream",
          "text": [
            "\u001b[34m\u001b[1mwandb\u001b[0m: Network error resolved after 0:00:17.061785, resuming normal operation.\n"
          ],
          "name": "stderr"
        },
        {
          "output_type": "stream",
          "text": [
            "121/500 [======>.......................] - ETA: 7:19 - loss: 2.3040 - accuracy: 0.1011"
          ],
          "name": "stdout"
        },
        {
          "output_type": "stream",
          "text": [
            "\u001b[34m\u001b[1mwandb\u001b[0m: Network error (HTTPError), entering retry loop. See /content/wandb/run-20210415_084315-95z62kgo/logs/debug-internal.log for full traceback.\n"
          ],
          "name": "stderr"
        },
        {
          "output_type": "stream",
          "text": [
            "147/500 [=======>......................] - ETA: 6:49 - loss: 2.3039 - accuracy: 0.1000"
          ],
          "name": "stdout"
        },
        {
          "output_type": "stream",
          "text": [
            "\u001b[34m\u001b[1mwandb\u001b[0m: Network error (HTTPError), entering retry loop. See /content/wandb/run-20210415_084315-95z62kgo/logs/debug-internal.log for full traceback.\n"
          ],
          "name": "stderr"
        },
        {
          "output_type": "stream",
          "text": [
            "158/500 [========>.....................] - ETA: 6:36 - loss: 2.3039 - accuracy: 0.0998"
          ],
          "name": "stdout"
        },
        {
          "output_type": "stream",
          "text": [
            "\u001b[34m\u001b[1mwandb\u001b[0m: Network error resolved after 0:00:17.878494, resuming normal operation.\n"
          ],
          "name": "stderr"
        },
        {
          "output_type": "stream",
          "text": [
            "173/500 [=========>....................] - ETA: 6:18 - loss: 2.3038 - accuracy: 0.0994"
          ],
          "name": "stdout"
        },
        {
          "output_type": "stream",
          "text": [
            "\u001b[34m\u001b[1mwandb\u001b[0m: Network error (HTTPError), entering retry loop. See /content/wandb/run-20210415_084315-95z62kgo/logs/debug-internal.log for full traceback.\n"
          ],
          "name": "stderr"
        },
        {
          "output_type": "stream",
          "text": [
            "188/500 [==========>...................] - ETA: 6:01 - loss: 2.3038 - accuracy: 0.0989"
          ],
          "name": "stdout"
        },
        {
          "output_type": "stream",
          "text": [
            "\u001b[34m\u001b[1mwandb\u001b[0m: Network error (HTTPError), entering retry loop. See /content/wandb/run-20210415_084315-95z62kgo/logs/debug-internal.log for full traceback.\n"
          ],
          "name": "stderr"
        },
        {
          "output_type": "stream",
          "text": [
            "200/500 [===========>..................] - ETA: 5:47 - loss: 2.3038 - accuracy: 0.0985"
          ],
          "name": "stdout"
        },
        {
          "output_type": "stream",
          "text": [
            "\u001b[34m\u001b[1mwandb\u001b[0m: Network error (HTTPError), entering retry loop. See /content/wandb/run-20210415_084315-95z62kgo/logs/debug-internal.log for full traceback.\n"
          ],
          "name": "stderr"
        },
        {
          "output_type": "stream",
          "text": [
            "212/500 [===========>..................] - ETA: 5:33 - loss: 2.3038 - accuracy: 0.0982"
          ],
          "name": "stdout"
        },
        {
          "output_type": "stream",
          "text": [
            "\u001b[34m\u001b[1mwandb\u001b[0m: Network error (HTTPError), entering retry loop. See /content/wandb/run-20210415_084315-95z62kgo/logs/debug-internal.log for full traceback.\n"
          ],
          "name": "stderr"
        },
        {
          "output_type": "stream",
          "text": [
            "224/500 [============>.................] - ETA: 5:19 - loss: 2.3038 - accuracy: 0.0978"
          ],
          "name": "stdout"
        },
        {
          "output_type": "stream",
          "text": [
            "\u001b[34m\u001b[1mwandb\u001b[0m: Network error resolved after 0:00:18.247050, resuming normal operation.\n"
          ],
          "name": "stderr"
        },
        {
          "output_type": "stream",
          "text": [
            "237/500 [=============>................] - ETA: 5:04 - loss: 2.3038 - accuracy: 0.0975"
          ],
          "name": "stdout"
        },
        {
          "output_type": "stream",
          "text": [
            "\u001b[34m\u001b[1mwandb\u001b[0m: Network error (HTTPError), entering retry loop. See /content/wandb/run-20210415_084315-95z62kgo/logs/debug-internal.log for full traceback.\n"
          ],
          "name": "stderr"
        },
        {
          "output_type": "stream",
          "text": [
            "263/500 [==============>...............] - ETA: 4:34 - loss: 2.3037 - accuracy: 0.0970"
          ],
          "name": "stdout"
        },
        {
          "output_type": "stream",
          "text": [
            "\u001b[34m\u001b[1mwandb\u001b[0m: Network error (HTTPError), entering retry loop. See /content/wandb/run-20210415_084315-95z62kgo/logs/debug-internal.log for full traceback.\n"
          ],
          "name": "stderr"
        },
        {
          "output_type": "stream",
          "text": [
            "289/500 [================>.............] - ETA: 4:04 - loss: 2.3037 - accuracy: 0.0969"
          ],
          "name": "stdout"
        },
        {
          "output_type": "stream",
          "text": [
            "\u001b[34m\u001b[1mwandb\u001b[0m: Network error (HTTPError), entering retry loop. See /content/wandb/run-20210415_084315-95z62kgo/logs/debug-internal.log for full traceback.\n"
          ],
          "name": "stderr"
        },
        {
          "output_type": "stream",
          "text": [
            "302/500 [=================>............] - ETA: 3:49 - loss: 2.3037 - accuracy: 0.0968"
          ],
          "name": "stdout"
        },
        {
          "output_type": "stream",
          "text": [
            "\u001b[34m\u001b[1mwandb\u001b[0m: Network error resolved after 0:00:18.477896, resuming normal operation.\n"
          ],
          "name": "stderr"
        },
        {
          "output_type": "stream",
          "text": [
            "316/500 [=================>............] - ETA: 3:33 - loss: 2.3037 - accuracy: 0.0968"
          ],
          "name": "stdout"
        },
        {
          "output_type": "stream",
          "text": [
            "\u001b[34m\u001b[1mwandb\u001b[0m: Network error (HTTPError), entering retry loop. See /content/wandb/run-20210415_084315-95z62kgo/logs/debug-internal.log for full traceback.\n"
          ],
          "name": "stderr"
        },
        {
          "output_type": "stream",
          "text": [
            "331/500 [==================>...........] - ETA: 3:15 - loss: 2.3037 - accuracy: 0.0967"
          ],
          "name": "stdout"
        },
        {
          "output_type": "stream",
          "text": [
            "\u001b[34m\u001b[1mwandb\u001b[0m: Network error (HTTPError), entering retry loop. See /content/wandb/run-20210415_084315-95z62kgo/logs/debug-internal.log for full traceback.\n"
          ],
          "name": "stderr"
        },
        {
          "output_type": "stream",
          "text": [
            "343/500 [===================>..........] - ETA: 3:01 - loss: 2.3037 - accuracy: 0.0966"
          ],
          "name": "stdout"
        },
        {
          "output_type": "stream",
          "text": [
            "\u001b[34m\u001b[1mwandb\u001b[0m: Network error (HTTPError), entering retry loop. See /content/wandb/run-20210415_084315-95z62kgo/logs/debug-internal.log for full traceback.\n"
          ],
          "name": "stderr"
        },
        {
          "output_type": "stream",
          "text": [
            "355/500 [====================>.........] - ETA: 2:47 - loss: 2.3037 - accuracy: 0.0965"
          ],
          "name": "stdout"
        },
        {
          "output_type": "stream",
          "text": [
            "\u001b[34m\u001b[1mwandb\u001b[0m: Network error (HTTPError), entering retry loop. See /content/wandb/run-20210415_084315-95z62kgo/logs/debug-internal.log for full traceback.\n"
          ],
          "name": "stderr"
        },
        {
          "output_type": "stream",
          "text": [
            "359/500 [====================>.........] - ETA: 2:43 - loss: 2.3036 - accuracy: 0.0964"
          ],
          "name": "stdout"
        },
        {
          "output_type": "stream",
          "text": [
            "\u001b[34m\u001b[1mwandb\u001b[0m: Network error resolved after 0:00:08.624152, resuming normal operation.\n"
          ],
          "name": "stderr"
        },
        {
          "output_type": "stream",
          "text": [
            "367/500 [=====================>........] - ETA: 2:33 - loss: 2.3036 - accuracy: 0.0964"
          ],
          "name": "stdout"
        },
        {
          "output_type": "stream",
          "text": [
            "\u001b[34m\u001b[1mwandb\u001b[0m: Network error (HTTPError), entering retry loop. See /content/wandb/run-20210415_084315-95z62kgo/logs/debug-internal.log for full traceback.\n"
          ],
          "name": "stderr"
        },
        {
          "output_type": "stream",
          "text": [
            "393/500 [======================>.......] - ETA: 2:03 - loss: 2.3036 - accuracy: 0.0961"
          ],
          "name": "stdout"
        },
        {
          "output_type": "stream",
          "text": [
            "\u001b[34m\u001b[1mwandb\u001b[0m: Network error (HTTPError), entering retry loop. See /content/wandb/run-20210415_084315-95z62kgo/logs/debug-internal.log for full traceback.\n"
          ],
          "name": "stderr"
        },
        {
          "output_type": "stream",
          "text": [
            "419/500 [========================>.....] - ETA: 1:33 - loss: 2.3036 - accuracy: 0.0959"
          ],
          "name": "stdout"
        },
        {
          "output_type": "stream",
          "text": [
            "\u001b[34m\u001b[1mwandb\u001b[0m: Network error (HTTPError), entering retry loop. See /content/wandb/run-20210415_084315-95z62kgo/logs/debug-internal.log for full traceback.\n"
          ],
          "name": "stderr"
        },
        {
          "output_type": "stream",
          "text": [
            "424/500 [========================>.....] - ETA: 1:27 - loss: 2.3036 - accuracy: 0.0959"
          ],
          "name": "stdout"
        },
        {
          "output_type": "stream",
          "text": [
            "\u001b[34m\u001b[1mwandb\u001b[0m: Network error resolved after 0:00:08.897199, resuming normal operation.\n"
          ],
          "name": "stderr"
        },
        {
          "output_type": "stream",
          "text": [
            "436/500 [=========================>....] - ETA: 1:14 - loss: 2.3036 - accuracy: 0.0958"
          ],
          "name": "stdout"
        },
        {
          "output_type": "stream",
          "text": [
            "\u001b[34m\u001b[1mwandb\u001b[0m: Network error (HTTPError), entering retry loop. See /content/wandb/run-20210415_084315-95z62kgo/logs/debug-internal.log for full traceback.\n"
          ],
          "name": "stderr"
        },
        {
          "output_type": "stream",
          "text": [
            "446/500 [=========================>....] - ETA: 1:02 - loss: 2.3036 - accuracy: 0.0958"
          ],
          "name": "stdout"
        },
        {
          "output_type": "stream",
          "text": [
            "\u001b[34m\u001b[1mwandb\u001b[0m: Network error (HTTPError), entering retry loop. See /content/wandb/run-20210415_084315-95z62kgo/logs/debug-internal.log for full traceback.\n"
          ],
          "name": "stderr"
        },
        {
          "output_type": "stream",
          "text": [
            "457/500 [==========================>...] - ETA: 49s - loss: 2.3036 - accuracy: 0.0957"
          ],
          "name": "stdout"
        },
        {
          "output_type": "stream",
          "text": [
            "\u001b[34m\u001b[1mwandb\u001b[0m: Network error (HTTPError), entering retry loop. See /content/wandb/run-20210415_084315-95z62kgo/logs/debug-internal.log for full traceback.\n"
          ],
          "name": "stderr"
        },
        {
          "output_type": "stream",
          "text": [
            "484/500 [============================>.] - ETA: 18s - loss: 2.3036 - accuracy: 0.0956"
          ],
          "name": "stdout"
        },
        {
          "output_type": "stream",
          "text": [
            "\u001b[34m\u001b[1mwandb\u001b[0m: Network error (HTTPError), entering retry loop. See /content/wandb/run-20210415_084315-95z62kgo/logs/debug-internal.log for full traceback.\n"
          ],
          "name": "stderr"
        },
        {
          "output_type": "stream",
          "text": [
            "496/500 [============================>.] - ETA: 4s - loss: 2.3036 - accuracy: 0.0956"
          ],
          "name": "stdout"
        },
        {
          "output_type": "stream",
          "text": [
            "\u001b[34m\u001b[1mwandb\u001b[0m: Network error resolved after 0:00:17.127764, resuming normal operation.\n"
          ],
          "name": "stderr"
        },
        {
          "output_type": "stream",
          "text": [
            "500/500 [==============================] - ETA: 0s - loss: 2.3036 - accuracy: 0.0956"
          ],
          "name": "stdout"
        },
        {
          "output_type": "stream",
          "text": [
            "\u001b[34m\u001b[1mwandb\u001b[0m: Network error (HTTPError), entering retry loop. See /content/wandb/run-20210415_084315-95z62kgo/logs/debug-internal.log for full traceback.\n"
          ],
          "name": "stderr"
        },
        {
          "output_type": "stream",
          "text": [
            "\b\b\b\b\b\b\b\b\b\b\b\b\b\b\b\b\b\b\b\b\b\b\b\b\b\b\b\b\b\b\b\b\b\b\b\b\b\b\b\b\b\b\b\b\b\b\b\b\b\b\b\b\b\b\b\b\b\b\b\b\b\b\b\b\b\b\b\b\b\b\b\b\b\b\b\b\b\b\b\b\b\b\b\b\r500/500 [==============================] - 636s 1s/step - loss: 2.3036 - accuracy: 0.0956 - val_loss: 2.3035 - val_accuracy: 0.0905\n",
            "Epoch 3/25\n",
            " 17/500 [>.............................] - ETA: 9:16 - loss: 2.3054 - accuracy: 0.0969"
          ],
          "name": "stdout"
        },
        {
          "output_type": "stream",
          "text": [
            "\u001b[34m\u001b[1mwandb\u001b[0m: Network error resolved after 0:01:09.045921, resuming normal operation.\n"
          ],
          "name": "stderr"
        },
        {
          "output_type": "stream",
          "text": [
            " 25/500 [>.............................] - ETA: 9:07 - loss: 2.3050 - accuracy: 0.0975"
          ],
          "name": "stdout"
        },
        {
          "output_type": "stream",
          "text": [
            "\u001b[34m\u001b[1mwandb\u001b[0m: Network error (HTTPError), entering retry loop. See /content/wandb/run-20210415_084315-95z62kgo/logs/debug-internal.log for full traceback.\n"
          ],
          "name": "stderr"
        },
        {
          "output_type": "stream",
          "text": [
            " 52/500 [==>...........................] - ETA: 8:36 - loss: 2.3042 - accuracy: 0.0981"
          ],
          "name": "stdout"
        },
        {
          "output_type": "stream",
          "text": [
            "\u001b[34m\u001b[1mwandb\u001b[0m: Network error (HTTPError), entering retry loop. See /content/wandb/run-20210415_084315-95z62kgo/logs/debug-internal.log for full traceback.\n"
          ],
          "name": "stderr"
        },
        {
          "output_type": "stream",
          "text": [
            " 64/500 [==>...........................] - ETA: 8:23 - loss: 2.3041 - accuracy: 0.0978"
          ],
          "name": "stdout"
        },
        {
          "output_type": "stream",
          "text": [
            "\u001b[34m\u001b[1mwandb\u001b[0m: Network error (HTTPError), entering retry loop. See /content/wandb/run-20210415_084315-95z62kgo/logs/debug-internal.log for full traceback.\n"
          ],
          "name": "stderr"
        },
        {
          "output_type": "stream",
          "text": [
            " 76/500 [===>..........................] - ETA: 8:09 - loss: 2.3040 - accuracy: 0.0973"
          ],
          "name": "stdout"
        },
        {
          "output_type": "stream",
          "text": [
            "\u001b[34m\u001b[1mwandb\u001b[0m: Network error resolved after 0:00:17.934030, resuming normal operation.\n"
          ],
          "name": "stderr"
        },
        {
          "output_type": "stream",
          "text": [
            " 91/500 [====>.........................] - ETA: 7:52 - loss: 2.3039 - accuracy: 0.0971"
          ],
          "name": "stdout"
        },
        {
          "output_type": "stream",
          "text": [
            "\u001b[34m\u001b[1mwandb\u001b[0m: Network error (HTTPError), entering retry loop. See /content/wandb/run-20210415_084315-95z62kgo/logs/debug-internal.log for full traceback.\n"
          ],
          "name": "stderr"
        },
        {
          "output_type": "stream",
          "text": [
            "103/500 [=====>........................] - ETA: 7:38 - loss: 2.3038 - accuracy: 0.0971"
          ],
          "name": "stdout"
        },
        {
          "output_type": "stream",
          "text": [
            "\u001b[34m\u001b[1mwandb\u001b[0m: Network error (HTTPError), entering retry loop. See /content/wandb/run-20210415_084315-95z62kgo/logs/debug-internal.log for full traceback.\n"
          ],
          "name": "stderr"
        },
        {
          "output_type": "stream",
          "text": [
            "129/500 [======>.......................] - ETA: 7:08 - loss: 2.3037 - accuracy: 0.0976"
          ],
          "name": "stdout"
        },
        {
          "output_type": "stream",
          "text": [
            "\u001b[34m\u001b[1mwandb\u001b[0m: Network error (HTTPError), entering retry loop. See /content/wandb/run-20210415_084315-95z62kgo/logs/debug-internal.log for full traceback.\n"
          ],
          "name": "stderr"
        },
        {
          "output_type": "stream",
          "text": [
            "134/500 [=======>......................] - ETA: 7:02 - loss: 2.3036 - accuracy: 0.0977"
          ],
          "name": "stdout"
        },
        {
          "output_type": "stream",
          "text": [
            "\u001b[34m\u001b[1mwandb\u001b[0m: Network error resolved after 0:00:09.275183, resuming normal operation.\n"
          ],
          "name": "stderr"
        },
        {
          "output_type": "stream",
          "text": [
            "154/500 [========>.....................] - ETA: 6:39 - loss: 2.3036 - accuracy: 0.0981"
          ],
          "name": "stdout"
        },
        {
          "output_type": "stream",
          "text": [
            "\u001b[34m\u001b[1mwandb\u001b[0m: Network error (HTTPError), entering retry loop. See /content/wandb/run-20210415_084315-95z62kgo/logs/debug-internal.log for full traceback.\n"
          ],
          "name": "stderr"
        },
        {
          "output_type": "stream",
          "text": [
            "181/500 [=========>....................] - ETA: 6:08 - loss: 2.3035 - accuracy: 0.0981"
          ],
          "name": "stdout"
        },
        {
          "output_type": "stream",
          "text": [
            "\u001b[34m\u001b[1mwandb\u001b[0m: Network error (HTTPError), entering retry loop. See /content/wandb/run-20210415_084315-95z62kgo/logs/debug-internal.log for full traceback.\n"
          ],
          "name": "stderr"
        },
        {
          "output_type": "stream",
          "text": [
            "196/500 [==========>...................] - ETA: 5:51 - loss: 2.3035 - accuracy: 0.0980"
          ],
          "name": "stdout"
        },
        {
          "output_type": "stream",
          "text": [
            "\u001b[34m\u001b[1mwandb\u001b[0m: Network error (HTTPError), entering retry loop. See /content/wandb/run-20210415_084315-95z62kgo/logs/debug-internal.log for full traceback.\n"
          ],
          "name": "stderr"
        },
        {
          "output_type": "stream",
          "text": [
            "201/500 [===========>..................] - ETA: 5:45 - loss: 2.3035 - accuracy: 0.0980"
          ],
          "name": "stdout"
        },
        {
          "output_type": "stream",
          "text": [
            "\u001b[34m\u001b[1mwandb\u001b[0m: Network error resolved after 0:00:08.930543, resuming normal operation.\n"
          ],
          "name": "stderr"
        },
        {
          "output_type": "stream",
          "text": [
            "208/500 [===========>..................] - ETA: 5:37 - loss: 2.3035 - accuracy: 0.0979"
          ],
          "name": "stdout"
        },
        {
          "output_type": "stream",
          "text": [
            "\u001b[34m\u001b[1mwandb\u001b[0m: Network error (HTTPError), entering retry loop. See /content/wandb/run-20210415_084315-95z62kgo/logs/debug-internal.log for full traceback.\n"
          ],
          "name": "stderr"
        },
        {
          "output_type": "stream",
          "text": [
            "220/500 [============>.................] - ETA: 5:23 - loss: 2.3035 - accuracy: 0.0978"
          ],
          "name": "stdout"
        },
        {
          "output_type": "stream",
          "text": [
            "\u001b[34m\u001b[1mwandb\u001b[0m: Network error (HTTPError), entering retry loop. See /content/wandb/run-20210415_084315-95z62kgo/logs/debug-internal.log for full traceback.\n"
          ],
          "name": "stderr"
        },
        {
          "output_type": "stream",
          "text": [
            "236/500 [=============>................] - ETA: 5:05 - loss: 2.3035 - accuracy: 0.0976"
          ],
          "name": "stdout"
        },
        {
          "output_type": "stream",
          "text": [
            "\u001b[34m\u001b[1mwandb\u001b[0m: Network error (HTTPError), entering retry loop. See /content/wandb/run-20210415_084315-95z62kgo/logs/debug-internal.log for full traceback.\n"
          ],
          "name": "stderr"
        },
        {
          "output_type": "stream",
          "text": [
            "247/500 [=============>................] - ETA: 4:52 - loss: 2.3035 - accuracy: 0.0976"
          ],
          "name": "stdout"
        },
        {
          "output_type": "stream",
          "text": [
            "\u001b[34m\u001b[1mwandb\u001b[0m: Network error (HTTPError), entering retry loop. See /content/wandb/run-20210415_084315-95z62kgo/logs/debug-internal.log for full traceback.\n"
          ],
          "name": "stderr"
        },
        {
          "output_type": "stream",
          "text": [
            "258/500 [==============>...............] - ETA: 4:39 - loss: 2.3035 - accuracy: 0.0975"
          ],
          "name": "stdout"
        },
        {
          "output_type": "stream",
          "text": [
            "\u001b[34m\u001b[1mwandb\u001b[0m: Network error (HTTPError), entering retry loop. See /content/wandb/run-20210415_084315-95z62kgo/logs/debug-internal.log for full traceback.\n"
          ],
          "name": "stderr"
        },
        {
          "output_type": "stream",
          "text": [
            "270/500 [===============>..............] - ETA: 4:25 - loss: 2.3035 - accuracy: 0.0974"
          ],
          "name": "stdout"
        },
        {
          "output_type": "stream",
          "text": [
            "\u001b[34m\u001b[1mwandb\u001b[0m: Network error resolved after 0:00:17.925986, resuming normal operation.\n"
          ],
          "name": "stderr"
        },
        {
          "output_type": "stream",
          "text": [
            "285/500 [================>.............] - ETA: 4:08 - loss: 2.3035 - accuracy: 0.0973"
          ],
          "name": "stdout"
        },
        {
          "output_type": "stream",
          "text": [
            "\u001b[34m\u001b[1mwandb\u001b[0m: Network error (HTTPError), entering retry loop. See /content/wandb/run-20210415_084315-95z62kgo/logs/debug-internal.log for full traceback.\n"
          ],
          "name": "stderr"
        },
        {
          "output_type": "stream",
          "text": [
            "310/500 [=================>............] - ETA: 3:39 - loss: 2.3035 - accuracy: 0.0971"
          ],
          "name": "stdout"
        },
        {
          "output_type": "stream",
          "text": [
            "\u001b[34m\u001b[1mwandb\u001b[0m: Network error (HTTPError), entering retry loop. See /content/wandb/run-20210415_084315-95z62kgo/logs/debug-internal.log for full traceback.\n"
          ],
          "name": "stderr"
        },
        {
          "output_type": "stream",
          "text": [
            "337/500 [===================>..........] - ETA: 3:08 - loss: 2.3035 - accuracy: 0.0970"
          ],
          "name": "stdout"
        },
        {
          "output_type": "stream",
          "text": [
            "\u001b[34m\u001b[1mwandb\u001b[0m: Network error (HTTPError), entering retry loop. See /content/wandb/run-20210415_084315-95z62kgo/logs/debug-internal.log for full traceback.\n"
          ],
          "name": "stderr"
        },
        {
          "output_type": "stream",
          "text": [
            "341/500 [===================>..........] - ETA: 3:04 - loss: 2.3035 - accuracy: 0.0970"
          ],
          "name": "stdout"
        },
        {
          "output_type": "stream",
          "text": [
            "\u001b[34m\u001b[1mwandb\u001b[0m: Network error resolved after 0:00:09.381673, resuming normal operation.\n"
          ],
          "name": "stderr"
        },
        {
          "output_type": "stream",
          "text": [
            "352/500 [====================>.........] - ETA: 2:51 - loss: 2.3035 - accuracy: 0.0970"
          ],
          "name": "stdout"
        },
        {
          "output_type": "stream",
          "text": [
            "\u001b[34m\u001b[1mwandb\u001b[0m: Network error (HTTPError), entering retry loop. See /content/wandb/run-20210415_084315-95z62kgo/logs/debug-internal.log for full traceback.\n"
          ],
          "name": "stderr"
        },
        {
          "output_type": "stream",
          "text": [
            "362/500 [====================>.........] - ETA: 2:39 - loss: 2.3035 - accuracy: 0.0970"
          ],
          "name": "stdout"
        },
        {
          "output_type": "stream",
          "text": [
            "\u001b[34m\u001b[1mwandb\u001b[0m: Network error (HTTPError), entering retry loop. See /content/wandb/run-20210415_084315-95z62kgo/logs/debug-internal.log for full traceback.\n"
          ],
          "name": "stderr"
        },
        {
          "output_type": "stream",
          "text": [
            "377/500 [=====================>........] - ETA: 2:22 - loss: 2.3035 - accuracy: 0.0971"
          ],
          "name": "stdout"
        },
        {
          "output_type": "stream",
          "text": [
            "\u001b[34m\u001b[1mwandb\u001b[0m: Network error (HTTPError), entering retry loop. See /content/wandb/run-20210415_084315-95z62kgo/logs/debug-internal.log for full traceback.\n"
          ],
          "name": "stderr"
        },
        {
          "output_type": "stream",
          "text": [
            "390/500 [======================>.......] - ETA: 2:07 - loss: 2.3035 - accuracy: 0.0971"
          ],
          "name": "stdout"
        },
        {
          "output_type": "stream",
          "text": [
            "\u001b[34m\u001b[1mwandb\u001b[0m: Network error (HTTPError), entering retry loop. See /content/wandb/run-20210415_084315-95z62kgo/logs/debug-internal.log for full traceback.\n"
          ],
          "name": "stderr"
        },
        {
          "output_type": "stream",
          "text": [
            "394/500 [======================>.......] - ETA: 2:02 - loss: 2.3035 - accuracy: 0.0971"
          ],
          "name": "stdout"
        },
        {
          "output_type": "stream",
          "text": [
            "\u001b[34m\u001b[1mwandb\u001b[0m: Network error resolved after 0:00:08.121391, resuming normal operation.\n"
          ],
          "name": "stderr"
        },
        {
          "output_type": "stream",
          "text": [
            "404/500 [=======================>......] - ETA: 1:51 - loss: 2.3035 - accuracy: 0.0971"
          ],
          "name": "stdout"
        },
        {
          "output_type": "stream",
          "text": [
            "\u001b[34m\u001b[1mwandb\u001b[0m: Network error (HTTPError), entering retry loop. See /content/wandb/run-20210415_084315-95z62kgo/logs/debug-internal.log for full traceback.\n"
          ],
          "name": "stderr"
        },
        {
          "output_type": "stream",
          "text": [
            "428/500 [========================>.....] - ETA: 1:23 - loss: 2.3035 - accuracy: 0.0971"
          ],
          "name": "stdout"
        },
        {
          "output_type": "stream",
          "text": [
            "\u001b[34m\u001b[1mwandb\u001b[0m: Network error (HTTPError), entering retry loop. See /content/wandb/run-20210415_084315-95z62kgo/logs/debug-internal.log for full traceback.\n"
          ],
          "name": "stderr"
        },
        {
          "output_type": "stream",
          "text": [
            "438/500 [=========================>....] - ETA: 1:11 - loss: 2.3035 - accuracy: 0.0971"
          ],
          "name": "stdout"
        },
        {
          "output_type": "stream",
          "text": [
            "\u001b[34m\u001b[1mwandb\u001b[0m: Network error (HTTPError), entering retry loop. See /content/wandb/run-20210415_084315-95z62kgo/logs/debug-internal.log for full traceback.\n"
          ],
          "name": "stderr"
        },
        {
          "output_type": "stream",
          "text": [
            "451/500 [==========================>...] - ETA: 56s - loss: 2.3035 - accuracy: 0.0971"
          ],
          "name": "stdout"
        },
        {
          "output_type": "stream",
          "text": [
            "\u001b[34m\u001b[1mwandb\u001b[0m: Network error resolved after 0:00:18.554887, resuming normal operation.\n"
          ],
          "name": "stderr"
        },
        {
          "output_type": "stream",
          "text": [
            "464/500 [==========================>...] - ETA: 41s - loss: 2.3035 - accuracy: 0.0971"
          ],
          "name": "stdout"
        },
        {
          "output_type": "stream",
          "text": [
            "\u001b[34m\u001b[1mwandb\u001b[0m: Network error (HTTPError), entering retry loop. See /content/wandb/run-20210415_084315-95z62kgo/logs/debug-internal.log for full traceback.\n"
          ],
          "name": "stderr"
        },
        {
          "output_type": "stream",
          "text": [
            "490/500 [============================>.] - ETA: 11s - loss: 2.3035 - accuracy: 0.0972"
          ],
          "name": "stdout"
        },
        {
          "output_type": "stream",
          "text": [
            "\u001b[34m\u001b[1mwandb\u001b[0m: Network error (HTTPError), entering retry loop. See /content/wandb/run-20210415_084315-95z62kgo/logs/debug-internal.log for full traceback.\n"
          ],
          "name": "stderr"
        },
        {
          "output_type": "stream",
          "text": [
            "500/500 [==============================] - ETA: 0s - loss: 2.3035 - accuracy: 0.0972"
          ],
          "name": "stdout"
        },
        {
          "output_type": "stream",
          "text": [
            "\u001b[34m\u001b[1mwandb\u001b[0m: Network error (HTTPError), entering retry loop. See /content/wandb/run-20210415_084315-95z62kgo/logs/debug-internal.log for full traceback.\n",
            "\u001b[34m\u001b[1mwandb\u001b[0m: Network error resolved after 0:00:17.182338, resuming normal operation.\n",
            "\u001b[34m\u001b[1mwandb\u001b[0m: Network error (HTTPError), entering retry loop. See /content/wandb/run-20210415_084315-95z62kgo/logs/debug-internal.log for full traceback.\n"
          ],
          "name": "stderr"
        },
        {
          "output_type": "stream",
          "text": [
            "\b\b\b\b\b\b\b\b\b\b\b\b\b\b\b\b\b\b\b\b\b\b\b\b\b\b\b\b\b\b\b\b\b\b\b\b\b\b\b\b\b\b\b\b\b\b\b\b\b\b\b\b\b\b\b\b\b\b\b\b\b\b\b\b\b\b\b\b\b\b\b\b\b\b\b\b\b\b\b\b\b\b\b\b\r500/500 [==============================] - 638s 1s/step - loss: 2.3035 - accuracy: 0.0972 - val_loss: 2.3034 - val_accuracy: 0.0905\n",
            "Epoch 4/25\n",
            " 18/500 [>.............................] - ETA: 9:24 - loss: 2.3038 - accuracy: 0.0862"
          ],
          "name": "stdout"
        },
        {
          "output_type": "stream",
          "text": [
            "\u001b[34m\u001b[1mwandb\u001b[0m: Network error (HTTPError), entering retry loop. See /content/wandb/run-20210415_084315-95z62kgo/logs/debug-internal.log for full traceback.\n"
          ],
          "name": "stderr"
        },
        {
          "output_type": "stream",
          "text": [
            " 43/500 [=>............................] - ETA: 8:53 - loss: 2.3036 - accuracy: 0.0962"
          ],
          "name": "stdout"
        },
        {
          "output_type": "stream",
          "text": [
            "\u001b[34m\u001b[1mwandb\u001b[0m: Network error (HTTPError), entering retry loop. See /content/wandb/run-20210415_084315-95z62kgo/logs/debug-internal.log for full traceback.\n"
          ],
          "name": "stderr"
        },
        {
          "output_type": "stream",
          "text": [
            " 54/500 [==>...........................] - ETA: 8:40 - loss: 2.3035 - accuracy: 0.0979"
          ],
          "name": "stdout"
        },
        {
          "output_type": "stream",
          "text": [
            "\u001b[34m\u001b[1mwandb\u001b[0m: Network error resolved after 0:00:16.410945, resuming normal operation.\n"
          ],
          "name": "stderr"
        },
        {
          "output_type": "stream",
          "text": [
            " 69/500 [===>..........................] - ETA: 8:23 - loss: 2.3035 - accuracy: 0.0988"
          ],
          "name": "stdout"
        },
        {
          "output_type": "stream",
          "text": [
            "\u001b[34m\u001b[1mwandb\u001b[0m: Network error (HTTPError), entering retry loop. See /content/wandb/run-20210415_084315-95z62kgo/logs/debug-internal.log for full traceback.\n"
          ],
          "name": "stderr"
        },
        {
          "output_type": "stream",
          "text": [
            " 95/500 [====>.........................] - ETA: 7:52 - loss: 2.3033 - accuracy: 0.0985"
          ],
          "name": "stdout"
        },
        {
          "output_type": "stream",
          "text": [
            "\u001b[34m\u001b[1mwandb\u001b[0m: Network error (HTTPError), entering retry loop. See /content/wandb/run-20210415_084315-95z62kgo/logs/debug-internal.log for full traceback.\n"
          ],
          "name": "stderr"
        },
        {
          "output_type": "stream",
          "text": [
            "107/500 [=====>........................] - ETA: 7:38 - loss: 2.3032 - accuracy: 0.0980"
          ],
          "name": "stdout"
        },
        {
          "output_type": "stream",
          "text": [
            "\u001b[34m\u001b[1mwandb\u001b[0m: Network error resolved after 0:00:18.602910, resuming normal operation.\n"
          ],
          "name": "stderr"
        },
        {
          "output_type": "stream",
          "text": [
            "120/500 [======>.......................] - ETA: 7:23 - loss: 2.3032 - accuracy: 0.0973"
          ],
          "name": "stdout"
        },
        {
          "output_type": "stream",
          "text": [
            "\u001b[34m\u001b[1mwandb\u001b[0m: Network error (HTTPError), entering retry loop. See /content/wandb/run-20210415_084315-95z62kgo/logs/debug-internal.log for full traceback.\n"
          ],
          "name": "stderr"
        },
        {
          "output_type": "stream",
          "text": [
            "145/500 [=======>......................] - ETA: 6:54 - loss: 2.3031 - accuracy: 0.0963"
          ],
          "name": "stdout"
        },
        {
          "output_type": "stream",
          "text": [
            "\u001b[34m\u001b[1mwandb\u001b[0m: Network error (HTTPError), entering retry loop. See /content/wandb/run-20210415_084315-95z62kgo/logs/debug-internal.log for full traceback.\n"
          ],
          "name": "stderr"
        },
        {
          "output_type": "stream",
          "text": [
            "171/500 [=========>....................] - ETA: 6:23 - loss: 2.3031 - accuracy: 0.0955"
          ],
          "name": "stdout"
        },
        {
          "output_type": "stream",
          "text": [
            "\u001b[34m\u001b[1mwandb\u001b[0m: Network error (HTTPError), entering retry loop. See /content/wandb/run-20210415_084315-95z62kgo/logs/debug-internal.log for full traceback.\n"
          ],
          "name": "stderr"
        },
        {
          "output_type": "stream",
          "text": [
            "183/500 [=========>....................] - ETA: 6:09 - loss: 2.3031 - accuracy: 0.0951"
          ],
          "name": "stdout"
        },
        {
          "output_type": "stream",
          "text": [
            "\u001b[34m\u001b[1mwandb\u001b[0m: Network error resolved after 0:00:17.826788, resuming normal operation.\n"
          ],
          "name": "stderr"
        },
        {
          "output_type": "stream",
          "text": [
            "197/500 [==========>...................] - ETA: 5:52 - loss: 2.3031 - accuracy: 0.0947"
          ],
          "name": "stdout"
        },
        {
          "output_type": "stream",
          "text": [
            "\u001b[34m\u001b[1mwandb\u001b[0m: Network error (HTTPError), entering retry loop. See /content/wandb/run-20210415_084315-95z62kgo/logs/debug-internal.log for full traceback.\n"
          ],
          "name": "stderr"
        },
        {
          "output_type": "stream",
          "text": [
            "226/500 [============>.................] - ETA: 5:19 - loss: 2.3031 - accuracy: 0.0940"
          ],
          "name": "stdout"
        },
        {
          "output_type": "stream",
          "text": [
            "\u001b[34m\u001b[1mwandb\u001b[0m: Network error (HTTPError), entering retry loop. See /content/wandb/run-20210415_084315-95z62kgo/logs/debug-internal.log for full traceback.\n"
          ],
          "name": "stderr"
        },
        {
          "output_type": "stream",
          "text": [
            "249/500 [=============>................] - ETA: 4:52 - loss: 2.3031 - accuracy: 0.0938"
          ],
          "name": "stdout"
        },
        {
          "output_type": "stream",
          "text": [
            "\u001b[34m\u001b[1mwandb\u001b[0m: Network error (HTTPError), entering retry loop. See /content/wandb/run-20210415_084315-95z62kgo/logs/debug-internal.log for full traceback.\n"
          ],
          "name": "stderr"
        },
        {
          "output_type": "stream",
          "text": [
            "262/500 [==============>...............] - ETA: 4:37 - loss: 2.3031 - accuracy: 0.0937"
          ],
          "name": "stdout"
        },
        {
          "output_type": "stream",
          "text": [
            "\u001b[34m\u001b[1mwandb\u001b[0m: Network error resolved after 0:00:19.008984, resuming normal operation.\n"
          ],
          "name": "stderr"
        },
        {
          "output_type": "stream",
          "text": [
            "275/500 [===============>..............] - ETA: 4:22 - loss: 2.3031 - accuracy: 0.0936"
          ],
          "name": "stdout"
        },
        {
          "output_type": "stream",
          "text": [
            "\u001b[34m\u001b[1mwandb\u001b[0m: Network error (HTTPError), entering retry loop. See /content/wandb/run-20210415_084315-95z62kgo/logs/debug-internal.log for full traceback.\n"
          ],
          "name": "stderr"
        },
        {
          "output_type": "stream",
          "text": [
            "300/500 [=================>............] - ETA: 3:52 - loss: 2.3031 - accuracy: 0.0935"
          ],
          "name": "stdout"
        },
        {
          "output_type": "stream",
          "text": [
            "\u001b[34m\u001b[1mwandb\u001b[0m: Network error (HTTPError), entering retry loop. See /content/wandb/run-20210415_084315-95z62kgo/logs/debug-internal.log for full traceback.\n"
          ],
          "name": "stderr"
        },
        {
          "output_type": "stream",
          "text": [
            "327/500 [==================>...........] - ETA: 3:21 - loss: 2.3031 - accuracy: 0.0936"
          ],
          "name": "stdout"
        },
        {
          "output_type": "stream",
          "text": [
            "\u001b[34m\u001b[1mwandb\u001b[0m: Network error (HTTPError), entering retry loop. See /content/wandb/run-20210415_084315-95z62kgo/logs/debug-internal.log for full traceback.\n"
          ],
          "name": "stderr"
        },
        {
          "output_type": "stream",
          "text": [
            "340/500 [===================>..........] - ETA: 3:06 - loss: 2.3031 - accuracy: 0.0936"
          ],
          "name": "stdout"
        },
        {
          "output_type": "stream",
          "text": [
            "\u001b[34m\u001b[1mwandb\u001b[0m: Network error resolved after 0:00:18.502086, resuming normal operation.\n"
          ],
          "name": "stderr"
        },
        {
          "output_type": "stream",
          "text": [
            "348/500 [===================>..........] - ETA: 2:56 - loss: 2.3031 - accuracy: 0.0936"
          ],
          "name": "stdout"
        }
      ]
    },
    {
      "cell_type": "markdown",
      "metadata": {
        "id": "UICpfnlvhZ0g"
      },
      "source": [
        "# Q4"
      ]
    },
    {
      "cell_type": "markdown",
      "metadata": {
        "id": "togEWQh1hh71"
      },
      "source": [
        "## Q4(a)"
      ]
    },
    {
      "cell_type": "code",
      "metadata": {
        "id": "_U1cm-zYQA8B"
      },
      "source": [
        "preprocessed_input = load_image(\"/content/inaturalist_12K/val/Amphibia/06369a70c92e4c9ae1ece6f2ba889a6c.jpg\")\n",
        "wandb.log({\"Test Image\" : wandb.Image(preprocessed_input)})"
      ],
      "execution_count": null,
      "outputs": []
    },
    {
      "cell_type": "code",
      "metadata": {
        "id": "hMrLIR7gQEbi"
      },
      "source": [
        "wandb.init()"
      ],
      "execution_count": null,
      "outputs": []
    },
    {
      "cell_type": "code",
      "metadata": {
        "id": "wXWBxh7AubcS"
      },
      "source": [
        "def train_and_eval(params) :\n",
        "\n",
        "  network = cnn(params)\n",
        "  data = dataset.train_val_test_data_loader(train_val_dir, test_dir, batch_size=params['batch_size'])\n",
        "\n",
        "  run_details = network.compile_and_fit(data, params, logging=False)\n",
        "  network.test_model(data['test'])\n",
        "\n",
        "  return network, run_details"
      ],
      "execution_count": null,
      "outputs": []
    },
    {
      "cell_type": "code",
      "metadata": {
        "id": "zW6-RZ_tujxQ"
      },
      "source": [
        "best_params = {\n",
        "        'filter_size' : (3, 3),\n",
        "        'num_filters' : np.array([16,16,16,16,16], dtype=np.int32),\n",
        "        'activation' : 'relu',\n",
        "        'num_classes' : 10,\n",
        "        'img_shape' : (700, 700, 3),\n",
        "        'dropout' : 0,\n",
        "        'batch_norm' : False,\n",
        "        'dense_layer_size' : 512,\n",
        "        'num_epochs' : 3,\n",
        "        'optimizer' : 'NAG',\n",
        "        'augmentation': True,\n",
        "        'batch_size' : 32\n",
        "    }"
      ],
      "execution_count": null,
      "outputs": []
    },
    {
      "cell_type": "code",
      "metadata": {
        "id": "X5eDlrCtD27C"
      },
      "source": [
        "network, run_det = train_and_eval(best_params)"
      ],
      "execution_count": null,
      "outputs": []
    },
    {
      "cell_type": "markdown",
      "metadata": {
        "id": "mGeBQAdmhnxB"
      },
      "source": [
        "##Q4(b)"
      ]
    },
    {
      "cell_type": "code",
      "metadata": {
        "id": "kO8xwwo4Ck2f"
      },
      "source": [
        "# 3 rows of images\n",
        "# each column represents one label\n",
        "# take column 1 : one amphibian classified as amphibian, one amphibian classified as non amphibian (max), one non amphibian (max) classified as amphibian"
      ],
      "execution_count": null,
      "outputs": []
    },
    {
      "cell_type": "markdown",
      "metadata": {
        "id": "HH9bF8tUhr3d"
      },
      "source": [
        "\n",
        "##Q4(c)"
      ]
    },
    {
      "cell_type": "code",
      "metadata": {
        "colab": {
          "base_uri": "https://localhost:8080/",
          "height": 204
        },
        "id": "oCm1YTjVNuGp",
        "outputId": "edbb4598-60e6-4430-9031-b1869527d6d8"
      },
      "source": [
        "get_3rd_layer_output = K.function([network.model.layers[5].input],\n",
        "                                  [network.model.layers[6].output])\n",
        "layer_output = get_3rd_layer_output([x])[0]"
      ],
      "execution_count": 8,
      "outputs": [
        {
          "output_type": "error",
          "ename": "NameError",
          "evalue": "ignored",
          "traceback": [
            "\u001b[0;31m---------------------------------------------------------------------------\u001b[0m",
            "\u001b[0;31mNameError\u001b[0m                                 Traceback (most recent call last)",
            "\u001b[0;32m<ipython-input-8-bb1183e3791a>\u001b[0m in \u001b[0;36m<module>\u001b[0;34m()\u001b[0m\n\u001b[0;32m----> 1\u001b[0;31m get_3rd_layer_output = K.function([network.model.layers[5].input],\n\u001b[0m\u001b[1;32m      2\u001b[0m                                   [network.model.layers[6].output])\n\u001b[1;32m      3\u001b[0m \u001b[0mlayer_output\u001b[0m \u001b[0;34m=\u001b[0m \u001b[0mget_3rd_layer_output\u001b[0m\u001b[0;34m(\u001b[0m\u001b[0;34m[\u001b[0m\u001b[0mx\u001b[0m\u001b[0;34m]\u001b[0m\u001b[0;34m)\u001b[0m\u001b[0;34m[\u001b[0m\u001b[0;36m0\u001b[0m\u001b[0;34m]\u001b[0m\u001b[0;34m\u001b[0m\u001b[0;34m\u001b[0m\u001b[0m\n",
            "\u001b[0;31mNameError\u001b[0m: name 'K' is not defined"
          ]
        }
      ]
    },
    {
      "cell_type": "code",
      "metadata": {
        "id": "nodt6KPyRAMW"
      },
      "source": [
        "# pick each layer and plot + log them"
      ],
      "execution_count": null,
      "outputs": []
    },
    {
      "cell_type": "markdown",
      "metadata": {
        "id": "HsqCYD0Kg_k6"
      },
      "source": [
        "# Q5 - Guided Backprop"
      ]
    },
    {
      "cell_type": "code",
      "metadata": {
        "id": "bLC1QcvIXBxF"
      },
      "source": [
        "got_img = network.guided_backprop(\"max_pooling2d_14\",preprocessed_input,[])"
      ],
      "execution_count": null,
      "outputs": []
    },
    {
      "cell_type": "code",
      "metadata": {
        "id": "zGjcJked0wxv"
      },
      "source": [
        "wandb.log({\"Whole layer\" : wandb.Image(got_img)})"
      ],
      "execution_count": null,
      "outputs": []
    },
    {
      "cell_type": "code",
      "metadata": {
        "id": "J5dHSDH_X4_p"
      },
      "source": [
        "import random\n",
        "fig, ax = plt.subplots(10, 1, figsize=(3, 30))\n",
        "for count in range(10) :\n",
        "  i = random.randint(0, 20)\n",
        "  j = random.randint(0, 20)\n",
        "  k = random.randint(0, 255)\n",
        "  got_img = network.guided_backprop(\"max_pooling2d_14\",preprocessed_input,[i,j,k])\n",
        "  ax[count, 0].imshow(got_img.numpy().astype(\"uint8\"))\n",
        "  ax[count, 0].title(str(i)+\", \"+str(j)+\", \"+str(k))\n",
        "  wandb.log({'Guided Backprop' : wandb.Image(fig)})"
      ],
      "execution_count": null,
      "outputs": []
    },
    {
      "cell_type": "code",
      "metadata": {
        "id": "k6LVihAcyiMt"
      },
      "source": [
        "for count in range(5) :\n",
        "  k = random.randint(0,255)\n",
        "  got_img = network.guided_backprop(\"max_pooling2d_14\",preprocessed_input,[k])\n",
        "  wandb.log({\"Filter \"+str(k) : wandb.Image(got_img)})"
      ],
      "execution_count": null,
      "outputs": []
    },
    {
      "cell_type": "markdown",
      "metadata": {
        "id": "zuj7ACIrGTpF"
      },
      "source": [
        "# ROUGH"
      ]
    },
    {
      "cell_type": "code",
      "metadata": {
        "colab": {
          "base_uri": "https://localhost:8080/",
          "height": 1000
        },
        "id": "95O4DriiGTAi",
        "outputId": "70892799-0fe7-44f2-ea17-40f0b529ae2f"
      },
      "source": [
        "fig, ax = plt.subplots(10, 1, figsize=(5, 50))\n",
        "plt.show()"
      ],
      "execution_count": 7,
      "outputs": [
        {
          "output_type": "display_data",
          "data": {
            "image/png": "[encoded data removed]",
            "text/plain": [
              "<Figure size 360x3600 with 10 Axes>"
            ]
          },
          "metadata": {
            "tags": [],
            "needs_background": "light"
          }
        }
      ]
    },
    {
      "cell_type": "code",
      "metadata": {
        "id": "igMwvgzQGX26"
      },
      "source": [
        ""
      ],
      "execution_count": null,
      "outputs": []
    }
  ]
}